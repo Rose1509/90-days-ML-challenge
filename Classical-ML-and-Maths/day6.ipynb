{
 "cells": [
  {
   "cell_type": "markdown",
   "id": "c2e7834b-f3bc-4cb8-b75d-dfa0528b8fd0",
   "metadata": {},
   "source": [
    " # Classical ML-Maths\n"
   ]
  },
  {
   "cell_type": "markdown",
   "id": "ffe1cbaf-9cde-4e09-9bc9-c4c45702294a",
   "metadata": {},
   "source": [
    "# Linear Algebra\n",
    "\n"
   ]
  },
  {
   "cell_type": "markdown",
   "id": "d54d8f3b-707b-4e4f-9893-ec54ed762ba6",
   "metadata": {},
   "source": [
    "## Vectors, matrices, dot product, matrix multiplication\n"
   ]
  },
  {
   "cell_type": "markdown",
   "id": "97d4ffcd-8ce9-4363-b412-e945ff6892a9",
   "metadata": {},
   "source": [
    "# 1. Vectors\n",
    "- **Definition**: A vector is an object that has both a magnitude and a direction. (can be column or row).\n",
    "- They are widely used in various branches of mathematics, physics, engineering, computer science, and other disciplines.\n",
    "  \n",
    "## **Representation of a Vector:**\n",
    "- Vectors can be written as:\n",
    "- Column vector\n",
    "- Row vector: [2, 5, 7]\n",
    "- Graphical: Arrow from origin (0,0) to (x,y) in 2D or (x,y,z) in 3D.\n",
    "\n",
    "---\n",
    "\n",
    "## **Types of vectors**\n",
    "### **A. Based on Magnitude and Direction**\n",
    "\n",
    "1. **Zero Vector** (`0` vector)\n",
    "    - Magnitude = 0, no specific direction.\n",
    "    - Example: `(0,0,0)` in 3D space.\n",
    "    - AI usage: Indicates absence of features in a sparse vector.\n",
    "2. **Unit Vector**\n",
    "    - Magnitude = 1, direction is defined.\n",
    "    - Used for **normalizing** vectors.\n",
    "    - Example: In 2D, `(1/√2, 1/√2)` is a unit vector.\n",
    "    - In ML: Used in cosine similarity.\n",
    "3. **Equal Vectors**\n",
    "    - Same magnitude and same direction.\n",
    "    - Example: `(2,3)` and `(2,3)`.\n",
    "4. **Negative Vectors**\n",
    "    - Same magnitude but opposite direction.\n",
    "    - Example: `(3,4)` and `(-3,-4)`.\n",
    "\n",
    "---\n",
    "\n",
    "### **B. Based on Relation Between Two Vectors**\n",
    "\n",
    "1. **Parallel Vectors**\n",
    "    - Point in the same or opposite direction, proportional components.\n",
    "    - Example: `(2,4)` and `(1,2)` are parallel.\n",
    "2. **Orthogonal (Perpendicular) Vectors**\n",
    "    - Dot product = 0.\n",
    "    - Example: `(1,0)` and `(0,1)` in 2D.\n",
    "    - AI usage: In embeddings, orthogonal vectors mean **zero similarity**.\n",
    "3. **Collinear Vectors**\n",
    "    - Lie on the same line, may be parallel or anti-parallel.\n",
    "4. **Coplanar Vectors**\n",
    "    - Lie on the same plane (3D case).\n",
    "\n",
    "---\n",
    "\n",
    "### **C. Special Vector Types in Mathematics & Physics**\n",
    "\n",
    "1. **Position Vector**\n",
    "    - Represents the location of a point relative to origin.\n",
    "    - Example: `(3,4)` means a point 3 units right, 4 units up.\n",
    "2. **Displacement Vector**\n",
    "    - Represents movement/change from one point to another.\n",
    "3. **Velocity & Acceleration Vectors**\n",
    "    - Magnitude = speed, direction = motion/acceleration direction.\n",
    "4. **Row & Column Vectors**\n",
    "    - Row vector = 1 × n matrix.\n",
    "    - Column vector = n × 1 matrix.\n",
    "    - In ML: weight vectors are often column vectors.\n",
    "\n",
    "---\n",
    "\n",
    "### **D. Abstract Types in AI/ML Context**\n",
    "\n",
    "1. **Feature Vectors**\n",
    "    - Represent data in numerical form.\n",
    "    - Example: A tweet sentiment vector → `[0.1, -0.3, 0.8]`.\n",
    "2. **Word Embedding Vectors**\n",
    "    - Represent words in semantic space (Word2Vec, GloVe).\n",
    "    - Example: `\"king\"` ≈ `\"queen\"` + `\"man\"` - `\"woman\"`.\n",
    "3. **Sparse & Dense Vectors**\n",
    "    - Sparse → most elements are zero. (E.g., one-hot encoding)\n",
    "    - Dense → most elements are non-zero (e.g., embeddings).\n",
    "\n",
    "---\n",
    "\n",
    "## **Quick Math Operations with Vectors**\n",
    "\n",
    "- **Addition**: `(x₁, y₁) + (x₂, y₂) = (x₁+x₂, y₁+y₂)`\n",
    "- **Scalar Multiplication**: `k*(x, y) = (kx, ky)`\n",
    "- **Dot Product**: `a·b = |a||b|cosθ` → measures similarity.\n",
    "- **Cross Product** (3D only): Produces a vector perpendicular to both.\n",
    "\n",
    "---\n",
    "\n",
    "## **Real-World Connections**\n",
    "\n",
    "- In **Computer Vision** → pixel values as vectors.\n",
    "- In **NLP** → sentence embeddings.\n",
    "- In **Robotics** → movement vectors for navigation.\n",
    "- In **Physics** → force, velocity, momentum.\n"
   ]
  },
  {
   "cell_type": "code",
   "execution_count": 2,
   "id": "7755ebc0-d171-4064-b5c1-86a426540b82",
   "metadata": {},
   "outputs": [
    {
     "name": "stdout",
     "output_type": "stream",
     "text": [
      "Vector v1: [2, 3, 4]\n",
      "Vector v2: [1, 0, -1]\n",
      "v1 + v2 = [3, 3, 3]\n",
      "3 * v1 = [6, 9, 12]\n",
      "Dot product of v1 · v2 = -2\n"
     ]
    }
   ],
   "source": [
    "v1 = [2, 3, 4]\n",
    "v2 = [1, 0, -1]\n",
    "\n",
    "# Vector addition\n",
    "def vector_add(a, b):\n",
    "    return [a[i] + b[i] for i in range(len(a))]\n",
    "\n",
    "# Scalar multiplication\n",
    "def scalar_multiply(scalar, vector):\n",
    "    return [scalar * x for x in vector]\n",
    "\n",
    "# Dot product\n",
    "def dot_product(a, b):\n",
    "    return sum(a[i] * b[i] for i in range(len(a)))\n",
    "\n",
    "print(\"Vector v1:\", v1)\n",
    "print(\"Vector v2:\", v2)\n",
    "\n",
    "print(\"v1 + v2 =\", vector_add(v1, v2))\n",
    "print(\"3 * v1 =\", scalar_multiply(3, v1))\n",
    "print(\"Dot product of v1 · v2 =\", dot_product(v1, v2))\n"
   ]
  },
  {
   "cell_type": "markdown",
   "id": "9aff4cd1-658c-44e4-97b6-f83c1039ad40",
   "metadata": {},
   "source": [
    "# 2. **Matrices**\n",
    "\n",
    "Matrices are rectangular arrays of numbers, symbols, or characters where all of these elements are arranged in each row and column. A matrix is identified by its order, which is given in the form of rows ⨯ and columns and the location of each element is given by the row and column it belongs to.\n",
    "\n",
    "A matrix is represented as ([R]m⨯n), where R is the matrix, m is the number of rows and n is the number of columns. Matrices in math are useful in solving numerous problems of linear equations and many more.\n",
    "\n",
    "---\n",
    "\n",
    "### **Order of Matrices**\n",
    "\n",
    "The Order Of a Matrix tells about the number of rows and columns present in a matrix. The order of a matrix is represented as the number of rows times the number of columns. Let's say if a matrix has 3 rows and 4 columns, then the order of the matrix will be 3⨯4. Always remember that the first number in the order signifies the number of rows present in the matrix and the second number signifies the number of columns in the matrix.\n",
    "\n",
    "---\n",
    "\n",
    "### **Types of Matrices**\n",
    "\n",
    "#### Matrices are classified into so many types which are listed below:\n",
    "\n",
    "- **Row Matrix:** A Matrix that has only one row and one or more columns is called a Row Matrix.\n",
    "- Column Matrix: A matrix that has only one column and one or more rows is called a Column Matrix.\n",
    "- **Horizontal Matrix:** A Matrix in which the number of rows is less than the number of columns is called a Horizontal Matrix.\n",
    "- **Vertical Matrix:** A Matrix in which the number of columns is less than the number of rows is called a Vertical Matrix.\n",
    "- **Rectangular Matrix:** A Matrix in which the number of rows and columns is unequal is called a Rectangular Matrix.\n",
    "- **Square Matrix:** A matrix in which the number of rows and columns is the same is called a Square Matrix.\n",
    "- **Diagonal Matrix:** A square matrix in which the non-diagonal elements are zero is called a Diagonal Matrix.\n",
    "- **Zero or Null Matrix:** A matrix whose all elements are zero is called a Zero Matrix. A zero matrix is also called as Null Matrix.\n",
    "- **Unit or Identity Matrix:** A diagonal matrix whose all diagonal elements are 1 is called a Unit Matrix. A unit matrix is also called an Identity matrix. An identity matrix is represented by I.\n",
    "- **Symmetric Matrix:** A square matrix is said to be symmetric if the transpose of the original matrix is equal to its original matrix. i.e. (A^T) = A\n",
    "- **Skew-symmetric matrix:** A skew-symmetric (or antisymmetric or antimetric) matrix is a square matrix whose transpose equals its negative, i.e., (A^T) = -A.\n",
    "- **Orthogonal Matrix** A matrix is said to be orthogonal if AAᵀ = AᵀA = I\n",
    "- **Idempotent Matrix:**  A matrix is said to be idempotent if A^2 = A\n",
    "- Involutory Matrix: A matrix is said to be Involutory if A^2 = I.\n",
    "- **Upper Triangular Matrix:** A square matrix in which all the elements below the diagonal are zero is known as the upper triangular matrix\n",
    "- **Lower Triangular Matrix:** A square matrix in which all the elements above the diagonal are zero is known as the lower triangular matrix\n",
    "- **Singular Matrix:** A square matrix is said to be a singular matrix if its determinant is zero, i.e., |A|=0\n",
    "- **Non-singular Matrix:** A square matrix is said to be a non-singular matrix if its determinant is non-zero.\n",
    "\n",
    "---\n",
    "\n",
    "### **Determinant of a Matrix**\n",
    "\n",
    "Determinant of Matrix  is a number associated with that square matrix. The determinant of a matrix can only be calculated for a square matrix. It is represented by |A|. The determinant of a matrix is calculated by adding the product of the elements of a matrix with their cofactors.\n",
    "\n",
    "---\n",
    "\n",
    "### **Cofactor of a Matrix**\n",
    "\n",
    "The cofactor of a matrix is found by multiplying the minor of the matrix for a given element by (-1)i+j. Cofactor of a Matrix is represented as Cij. Hence, the relation between the minor and cofactor of a matrix is given as Cij = (-1)i+jMij.\n",
    "\n",
    "---\n",
    "\n",
    "### **Adjoint of a Matrix**\n",
    "\n",
    "The adjoint is calculated for a square matrix. The adjoint of matrix is the transpose of the cofactor of the matrix."
   ]
  },
  {
   "cell_type": "code",
   "execution_count": 10,
   "id": "924f6d6c-eb2d-410d-a892-269d04ce640b",
   "metadata": {},
   "outputs": [
    {
     "name": "stdout",
     "output_type": "stream",
     "text": [
      "sum:\n",
      "[6, 8]\n",
      "[10, 12]\n",
      "\n",
      "scalar multiply:\n",
      "[3, 6]\n",
      "[9, 12]\n"
     ]
    }
   ],
   "source": [
    "# Simple 2x2 matrices\n",
    "A = [[1, 2],\n",
    "     [3, 4]]\n",
    "\n",
    "B = [[5, 6],\n",
    "     [7, 8]]\n",
    "\n",
    "# Add two matrices\n",
    "def add_matrices(M1, M2):\n",
    "    return [[M1[i][j] + M2[i][j] for j in range(2)] for i in range(2)]\n",
    "\n",
    "# Multiply matrix by scalar\n",
    "def scalar_multiply(M, k):\n",
    "    return [[k * M[i][j] for j in range(2)] for i in range(2)]\n",
    "\n",
    "\n",
    "# Print matrix\n",
    "def print_matrix(M):\n",
    "    for row in M:\n",
    "        print(row)\n",
    "\n",
    "# Tests\n",
    "print(\"sum:\")\n",
    "print_matrix(add_matrices(A, B))\n",
    "\n",
    "print(\"\\nscalar multiply:\")\n",
    "print_matrix(scalar_multiply(A, 3))\n"
   ]
  },
  {
   "cell_type": "markdown",
   "id": "99cfbe35-23b6-448f-8ffc-2e0c7f73e4c1",
   "metadata": {},
   "source": [
    "# 3. Dot product"
   ]
  },
  {
   "cell_type": "markdown",
   "id": "99a2cad3-35af-4de7-93af-58b58d9847e1",
   "metadata": {},
   "source": [
    "The dot product, also known as the scalar product or inner product, is a mathematical operation that takes two vectors and returns a single number (a scalar). It's calculated by multiplying the magnitudes (lengths) of the vectors and the cosine of the angle between them.\n",
    "\n",
    "🔢 **Algebraically**: The dot product is the sum of the products of the corresponding entries of the two sequences of numbers.\n",
    "\n",
    "📐 **Geometrically**: It is the product of the Euclidean magnitudes of the two vectors and the cosine of the angle between them.\n",
    "**a . b = | a | | b | cos(θ)**  \n",
    "\n",
    "Where:\n",
    "\n",
    "- |a| and |b| are the magnitudes (lengths) of vectors a and b, and\n",
    "- θ is the angle between them.\n",
    "\n",
    "---\n",
    "\n",
    "### **Angle Between Two Vectors Using Dot Product**\n",
    "\n",
    "The dot product formula can be rearranged to find the angle (θ) between two vectors (a and b) using the following formula:\n",
    "**cos (**θ**) = (a.b)/(| a | | b |)\n",
    "\n",
    "This formula utilizes the property that the cosine of the angle between two vectors is equal to their dot product divided by the product of their magnitudes.\n",
    "\n",
    "---\n",
    "\n",
    "### **Dot Product of Unit Vectors** 🚀\n",
    "\n",
    "A unit vector is a vector with a magnitude of 1.\n",
    "\n",
    "The dot product of two unit vectors simplifies to the cosine of the angle between them because the magnitude terms (|a| and |b|) in the formula become 1.\n",
    "\n",
    "---\n",
    "\n",
    "### **Properties of Dot Product**\n",
    "\n",
    "The dot product has several important properties, including:\n",
    "\n",
    "- **Commutative**: a ⋅ b = b ⋅ a\n",
    "- **Distributive**: a ⋅ (b + c) = a ⋅ b + a ⋅ c\n",
    "- **Associative with scalar multiplication**: k(a ⋅ b) = (ka) ⋅ b = a ⋅ (kb)\n",
    "\n",
    "---\n",
    "\n",
    "### **Applications of Dot Product** 🌍\n",
    "\n",
    "The dot product has many applications in various fields, including:\n",
    "\n",
    "- **Geometry**: Calculating lengths, angles, projections of vectors.\n",
    "- **Graphics**: Lighting calculations, 3D transformations.\n",
    "- **Physics**: Work done by a force, power, potential energy.\n",
    "- **Machine Learning**: Inner product in linear algebra used in algorithms like Support Vector Machines."
   ]
  },
  {
   "cell_type": "code",
   "execution_count": 9,
   "id": "73bff274-bfc4-4079-b434-d67d9f3dab29",
   "metadata": {},
   "outputs": [
    {
     "name": "stdout",
     "output_type": "stream",
     "text": [
      "Dot product: -2\n"
     ]
    }
   ],
   "source": [
    "def dot_product(a, b):\n",
    "    if len(a) != len(b):\n",
    "        raise ValueError(\"Vectors must be same length\")\n",
    "    result = 0\n",
    "    for i in range(len(a)):\n",
    "        result += a[i] * b[i]\n",
    "    return result\n",
    "\n",
    "# Example usage\n",
    "v1 = [2, 3, 4]\n",
    "v2 = [1, 0, -1]\n",
    "\n",
    "print(\"Dot product:\", dot_product(v1, v2))  # Output: 2*1 + 3*0 + 4*(-1) = 2 + 0 -4 = -2\n"
   ]
  },
  {
   "cell_type": "markdown",
   "id": "256ff60c-7e2d-4701-bb29-596c7318c79b",
   "metadata": {},
   "source": [
    "# 4. Matrix Multiplication"
   ]
  },
  {
   "cell_type": "markdown",
   "id": "06a16906-d017-4506-83e4-dcbd0111277d",
   "metadata": {},
   "source": [
    "Matrix multiplication is a binary operation that produces a new matrix from two given matrices. For the multiplication to be defined, the number of columns in the first matrix must equal the number of rows in the second matrix. The resulting matrix, called the matrix product, has the same number of rows as the first matrix and the same number of columns as the second matrix. The product of matrices A and B is denoted by AB.\n",
    "\n",
    "### Notation for Matrix Multiplication\n",
    "\n",
    "We represent a multiplication matrix as the multiplication of two matrices A and B, such that the order of A is (m×p) and the order of B is (p×n), then the order of the multiplied matrix is (m×n), then:\n",
    "\n",
    "> X = AB\n",
    "> \n",
    "\n",
    "Where,\n",
    "\n",
    "- A and B are given a Matrix of Order m × p and p × n,\n",
    "- X is the matrices of m × n matrix.\n",
    "\n",
    "### **Step-by-Step Process for Matrix Multiplication**  🧮\n",
    "\n",
    "To multiply two matrices, A and B, ensure that the number of columns in A equals the number of rows in B.\n",
    "\n",
    "**Calculate Elements:** Multiply each element in a row of the first matrix by the corresponding element in a column of the second matrix, and sum these products to compute each element of the product matrix. Repeat this process for all rows and columns.\n",
    "\n",
    "**Form the Product Matrix:** Place the computed elements in their respective positions to construct the resulting matrix.\n",
    "\n",
    "### **Properties of Matrix Multiplication** ⚙️\n",
    "\n",
    "- **Commutative Property**\n",
    "    - Matrix multiplication *is NOT* commutative.\n",
    "    - For matrices A and B, generally: **AB ≠ BA**.\n",
    "- **Associative Property**\n",
    "    - Matrix multiplication *is* associative.\n",
    "    - For matrices A, B, and C: **A(BC) = (AB)C** (if the products are defined).\n",
    "- **Distributive Property**\n",
    "    - Matrix multiplication distributes over addition.\n",
    "    - For matrices A, B, and C:\n",
    "        - **A(B + C) = AB + AC**\n",
    "        - **(B + C)A = BA + CA**\n",
    "    - Only holds if A, B, and C have compatible dimensions.\n",
    "- **Multiplicative Identity Property**\n",
    "    - Multiplying by an identity matrix leaves the matrix unchanged.\n",
    "    - For matrix A and identity matrix I (same order):\n",
    "        - **A · I = I · A = A**\n",
    "- **Multiplicative Property of Zero**\n",
    "    - Multiplying by a zero matrix results in a zero matrix.\n",
    "    - For matrix A and zero matrix O:\n",
    "        - **A · O = O · A = O**\n",
    "    - But **AB = O** does NOT imply A = O or B = O necessarily.\n",
    "- **Product with a Scalar**\n",
    "    - Scalar multiplication can be moved around with matrix products.\n",
    "    - For scalar k and matrices A, B where AB is defined:\n",
    "        - **k(AB) = (kA)B = A(Bk)**\n",
    "\n",
    "### **Algorithm for Matrix Multiplication 🤖💻**\n",
    "\n",
    "Various matrix multiplication algorithms are widely used for finding matrix multiplication, and some of the most common matrix multiplication algorithms are,\n",
    "\n",
    "- Iterative Algorithm\n",
    "- Divide and Conquer Algorithm\n",
    "- Sub-Cubic Algorithms\n",
    "- Parallel and Distributed Algorithms\n",
    "\n",
    "These algorithms are widely used in **computer programming** to find the multiplication of two matrices, such that the results are efficient and take less memory and time. They are used to find the 2×2, 3×3, and 4×4 multiplication of matrices.\n",
    "\n",
    "We use these matrix multiplication algorithms for a variety of purposes, and the method to multiply matrices is similar for any order of matrix for a particular algorithm."
   ]
  },
  {
   "cell_type": "code",
   "execution_count": 14,
   "id": "a783e80a-7a23-4971-9cbd-bc5baad05432",
   "metadata": {},
   "outputs": [
    {
     "name": "stdout",
     "output_type": "stream",
     "text": [
      "[[58, 64], [139, 154]]\n"
     ]
    }
   ],
   "source": [
    "#Example for matrix multiplication\n",
    "A = [[1, 2, 3],\n",
    "     [4, 5, 6]]\n",
    "\n",
    "B = [[7, 8],\n",
    "     [9, 10],\n",
    "     [11, 12]]\n",
    "\n",
    "# Result matrix filled with zeros\n",
    "result = [[0]*len(B[0]) for _ in range(len(A))]\n",
    "\n",
    "# Multiply\n",
    "for i in range(len(A)):\n",
    "    for j in range(len(B[0])):\n",
    "        for k in range(len(B)):\n",
    "            result[i][j] += A[i][k] * B[k][j]\n",
    "\n",
    "print(result)\n"
   ]
  },
  {
   "cell_type": "markdown",
   "id": "a390afff-906e-49c4-94d0-4b6a111f782a",
   "metadata": {},
   "source": [
    "## Transpose, Inverse, Rank"
   ]
  },
  {
   "cell_type": "markdown",
   "id": "12933b4e-b976-405c-8181-89354d0bdedf",
   "metadata": {},
   "source": [
    "# Transpose"
   ]
  },
  {
   "cell_type": "markdown",
   "id": "918b6f1a-2298-4064-bb44-8fef8ca59010",
   "metadata": {},
   "source": [
    "\n",
    "\n",
    "Transpose of a matrix is a matrix that is obtained by swapping the rows and columns of the given matrix or vice versa, i.e., for the given matrix the elements in rows are interchanged with the elements in columns. For any given matrix A its transpose is denoted as A^t, or Aᵀ.\n",
    "\n",
    "--- \n",
    "\n",
    "### **Order of Transpose Matrix** 📏\n",
    "\n",
    "The order of transpose matrix represents the number of rows and columns it contains, written as m×n, where m is the number of rows, and n is the number of columns.\n",
    "\n",
    "For any matrix **Am×n**:\n",
    "\n",
    "- The transpose of A, denoted as Aᵀ, swaps the rows and columns.\n",
    "- The order of Aᵀ  becomes n×m (i.e., Aᵀ  has n rows and m columns).\n",
    "\n",
    "---\n",
    "\n",
    "### **a) Transpose of Horizontal and Vertical Matrices** ↔️\n",
    "\n",
    "If the number of rows in a matrix is less than the number of columns, then the matrix is known as a horizontal matrix\n",
    "\n",
    "and \n",
    "\n",
    "If the number of columns in a matrix is less than the number of rows, then the matrix is known as a vertical matrix. \n",
    "\n",
    "The transpose of a horizontal matrix is a vertical matrix and vice versa. For example, if M is a horizontal matrix of order \"2 × 3,\" then its transpose is a vertical matrix of order \"3 × 2.\"\n",
    "\n",
    "\n",
    "### **b) Transpose of a Diagonal Matrix** 📊\n",
    "\n",
    "A diagonal matrix is like a pattern where the numbers only appear along the diagonal line from the top left to the bottom right, while all other entries are zeros. The transpose of a matrix means flipping the matrix over this diagonal line.\n",
    "\n",
    "\n",
    "### **c) Transpose of a Transposed Matrix** 🔁\n",
    "\n",
    "When you transpose a matrix, you essentially flip it over its diagonal line. So, transposing a matrix that has already been transposed means flipping it back to its original orientation.\n",
    "\n",
    "\n",
    "### **d) Transpose of a Square Matrix**  ⬜\n",
    "\n",
    "Square matrices are matrices that have an equal number of rows and columns. For any square matrix An×n, its transpose has the same order i.e., the transpose of A, Aᵀ has order n × n. The rows and columns are interchanged in the transpose of a square matrix.\n",
    "\n",
    "---\n",
    "\n",
    "### **Properties of a Transpose Matrix** ⚙️\n",
    "\n",
    "- **Orthogonal Matrix** 🎯\n",
    "    - A square matrix **A** is *orthogonal* if:\n",
    "        \n",
    "        **A × Aᵀ = Aᵀ × A = I** (I = identity matrix)\n",
    "        \n",
    "- **Symmetric Matrix** 🔄\n",
    "    - A is *symmetric* if its transpose is the same as itself:\n",
    "        \n",
    "        **Aᵀ = A**\n",
    "        \n",
    "- **Skew-Symmetric Matrix** ➖🔄\n",
    "    - A is *skew-symmetric* if its transpose is the negative of itself:\n",
    "        \n",
    "        **Aᵀ = –A**\n",
    "        \n",
    "- **Double Transpose** 🔁\n",
    "    - Taking transpose twice gives back the original:\n",
    "        \n",
    "        **(Aᵀ)ᵀ = A**\n",
    "        \n",
    "- **Transpose of a Product** ✖️🔄\n",
    "    - Transpose reverses the order in multiplication:\n",
    "        \n",
    "        **(AB)ᵀ = Bᵀ × Aᵀ**\n",
    "        \n",
    "- **Multiplication by a Scalar** 🔢\n",
    "    - Scalar multiplication doesn’t change under transpose:\n",
    "        \n",
    "        **(kA)ᵀ = kAᵀ**\n",
    "        \n",
    "- **Transpose of Addition** ➕🔄\n",
    "    - Transpose distributes over addition:\n",
    "        \n",
    "        **(A + B)ᵀ = Aᵀ + Bᵀ**"
   ]
  },
  {
   "cell_type": "code",
   "execution_count": 16,
   "id": "2d907b06-bf3a-41fc-868a-71bd67be8e45",
   "metadata": {},
   "outputs": [
    {
     "name": "stdout",
     "output_type": "stream",
     "text": [
      "Original: [[1, 2, 3], [4, 5, 6]]\n",
      "Transpose: [[1, 4], [2, 5], [3, 6]]\n"
     ]
    }
   ],
   "source": [
    "# Example\n",
    "A = [\n",
    "    [1, 2, 3],\n",
    "    [4, 5, 6]\n",
    "]\n",
    "\n",
    "# Transpose using list comprehension\n",
    "transpose_A = [[A[j][i] for j in range(len(A))] for i in range(len(A[0]))]\n",
    "\n",
    "print(\"Original:\", A)\n",
    "print(\"Transpose:\", transpose_A)\n"
   ]
  },
  {
   "cell_type": "markdown",
   "id": "db61e0d6-8653-4987-bcd7-b0a4d43dfc24",
   "metadata": {},
   "source": [
    "# Inverse"
   ]
  },
  {
   "cell_type": "markdown",
   "id": "2cc6fc91-6ea8-4ffd-879e-3e35314953ce",
   "metadata": {},
   "source": [
    "The inverse of a matrix, denoted as A⁻¹, is another matrix that, when multiplied by the original matrix A, results in the identity matrix.\n",
    "\n",
    "In mathematical terms: **A × A⁻¹ = A⁻¹ × A = 𝜤**\n",
    "\n",
    "*Where 𝜤 is the identity matrix, a square matrix in which all the elements of the principal diagonal are 1, and all other elements are 0.*\n",
    "\n",
    "Note: Not all matrices have an inverse. A matrix must be square (same number of rows and columns) and must be non-singular (its determinant is not zero) to have an inverse.\n",
    "\n",
    "The inverse of a matrix is obtained by dividing the adjugate(also called adjoint) of the given matrix by the determinant of the given matrix.\n",
    "\n",
    "---\n",
    "\n",
    "## **Singular Matrix**\n",
    "\n",
    "A matrix whose value of the determinant is zero is called a singular matrix, i.e. any matrix A is called a singular matrix if |A| = 0. The **inverse** of a singular matrix does not exist.\n",
    "\n",
    "---\n",
    "\n",
    "## **Non-Singular Matrix**\n",
    "\n",
    "A matrix whose value of the determinant is non-zero is called a non-singular matrix, i.e. any matrix A is called a non-singular matrix if |A| ≠ 0. The inverse of a non-singular matrix exists.\n",
    "\n",
    "---\n",
    "\n",
    "## Identity Matrix\n",
    "\n",
    "A square matrix in which all the elements are zero except for the principal diagonal elements is called the identity matrix. It is represented using I. It is the identity element of the matrix as for any matrix A, A ×  I = A\n",
    "\n",
    "---\n",
    "\n",
    "## Inverse Matrix Methods to Find Inverse Of a Matrix\n",
    "\n",
    "There are two Inverse matrix methods to find matrix inverse:\n",
    "\n",
    "### 1. **Determinant Method**\n",
    "- **Main method** for finding the inverse of a matrix uses the **determinant**.\n",
    "- Formula:A−1=det(A)adj(A)\n",
    "        \n",
    "A−1=adj(A)det⁡(A)A^{-1} = \\frac{\\text{adj}(A)}{\\det(A)}\n",
    "where:\n",
    "        \n",
    "- **adj(A)** = adjoint of matrix **A**\n",
    "- **det(A)** = determinant of matrix **A**\n",
    "- \n",
    "- **Steps to find adj(A):**\n",
    "        1. Find the **cofactor matrix** of **A**.\n",
    "        2. Take the **transpose** of that cofactor matrix.adj(A)=[Cij]T\n",
    "            \n",
    "  adj(A)=[Cij]T\\text{adj}(A) = [C_{ij}]^T\n",
    "            \n",
    "- **Cofactor formula:** Cij=(−1)i+j⋅det(Mij)\n",
    "        \n",
    "   Cij=(−1)i+j⋅det⁡(Mij)C_{ij} = (-1)^{i+j} \\cdot \\det(M_{ij})\n",
    "        \n",
    "- **Mᵢⱼ** = minor matrix obtained by removing the **i-th row** and **j-th column** from **A**.\n",
    "### 2. **Elementary Transformation Method**\n",
    "- **Step 1:** A=I⋅A\n",
    "        \n",
    "Write the given matrix as:\n",
    "        \n",
    "A=I⋅AA = I \\cdot A\n",
    "        \n",
    "where **I** is the identity matrix of the same order as **A**.\n",
    "        \n",
    "- **Step 2:** I=B⋅A\n",
    "        \n",
    "Perform a sequence of **only row operations** or **only column operations** on both sides until:\n",
    "        \n",
    "- **Left-hand side (LHS)** becomes the identity matrix.\n",
    "- **Right-hand side (RHS)** becomes another matrix **B**.\n",
    "            \n",
    "This gives:\n",
    "            \n",
    "        \n",
    "I=B⋅AI = B \\cdot A\n",
    "        \n",
    "So, **B** is the inverse of **A**.\n",
    "        \n",
    "- **Step 3:** Do not mix row and column operations  stick to one type for the entire process.\n",
    "\n",
    "---\n",
    "\n",
    "## **Properties of Inverse Matrix**\n",
    "\n",
    "The inverse matrix has the following properties:\n",
    "\n",
    "- For any non-singular matrix A, (A^-1)^-1 = A\n",
    "- For any two non-singular matrices A and B, (AB)^-1 = B^-1A^-1\n",
    "- The inverse of a non-singular matrix exists, for a singular matrix, the inverse does not exist.\n",
    "- For any nonsingular A, (A^T)^-1 = (A^-1)^T"
   ]
  },
  {
   "cell_type": "code",
   "execution_count": 18,
   "id": "71665767-ac11-4c4b-866c-8512d51891d1",
   "metadata": {},
   "outputs": [
    {
     "name": "stdout",
     "output_type": "stream",
     "text": [
      "Inverse matrix:\n",
      "[0.6, -0.7]\n",
      "[-0.2, 0.4]\n"
     ]
    }
   ],
   "source": [
    "#Example \n",
    "matrix = [[4, 7],\n",
    "          [2, 6]]\n",
    "\n",
    "det = matrix[0][0]*matrix[1][1] - matrix[0][1]*matrix[1][0]\n",
    "\n",
    "if det == 0:\n",
    "    print(\"Inverse doesn't exist\")\n",
    "else:\n",
    "    inverse = [[matrix[1][1]/det, -matrix[0][1]/det],\n",
    "               [-matrix[1][0]/det, matrix[0][0]/det]]\n",
    "    print(\"Inverse matrix:\")\n",
    "    for row in inverse:\n",
    "        print(row)\n"
   ]
  },
  {
   "cell_type": "markdown",
   "id": "a0419f54-75b7-495d-b6d3-749879729182",
   "metadata": {},
   "source": [
    "# Rank"
   ]
  },
  {
   "cell_type": "markdown",
   "id": "3d1d2574-7549-4703-a307-7461b6058e38",
   "metadata": {},
   "source": [
    "The Rank of a Matrix is a fundamental concept in linear algebra that measures the number of linearly independent rows or columns in a matrix. It essentially determines the dimensionality of the vector space formed by the rows or columns of the matrix.\n",
    "\n",
    "It helps determine:\n",
    "\n",
    "- If a system of linear equations has solutions.\n",
    "- The usefulness of rows or columns contributes to the matrix's information.\n",
    "\n",
    "--- \n",
    "### **Rank of a Matrix Formulas**🧮\n",
    "\n",
    "3 methods can be used to get the rank of any given matrix. These methods are as follows:\n",
    "\n",
    "### a) Minor Method🔍\n",
    "    \n",
    "To find the rank of a matrix using the minor method, the following steps are followed:\n",
    "    \n",
    "- Calculate the determinant of the matrix (say A). If det(A) ≠ 0, then the rank of matrix A = order of matrix A.\n",
    "- If det(A) = 0, then the rank of the matrix is equal to the order of the maximum possible nonzero minor of the matrix.\n",
    "  \n",
    "### b) Using Echelon Form 📐\n",
    "    \n",
    "The minor method becomes very tedious if the order of the matrix is very large. So in this case, we convert the matrix into Echelon Form. A matrix that is in upper triangular form or lower triangular form is considered to be in Echelon Form. A matrix can be converted to its Echelon Form by using elementary row operations . The following steps are followed to calculate the rank of a matrix using the Echelon form:\n",
    "    \n",
    "- Convert the given matrix into its Echelon Form.\n",
    "- The number of non-zero rows obtained in the Echelon form of the matrix is the rank of the matrix.\n",
    "    \n",
    "### c) Using Normal Form🔄\n",
    "    \n",
    "A matrix is said to be in normal form if it can be reduced to the form. Here, I_r represents the identity matrix of order r. If a matrix can be converted to its normal form, then the rank of the matrix is said to be r.\n",
    "\n",
    "---\n",
    "\n",
    "### **Properties of Rank of a Matrix** 📚\n",
    "    \n",
    "The properties of the rank of a matrix are as follows:\n",
    "    \n",
    "- The rank of a matrix is equal to the order of the matrix if it is a non-singular matrix.\n",
    "- The rank of a matrix is equal to the number of non-zero rows if it is in Echelon Form.\n",
    "- The rank of a matrix is equal to the order of the identity matrix in it if it is in normal form.\n",
    "- Rank of matrix < Order of matrix if it is a singular matrix.\n",
    "- Rank of matrix < minimum {m, n} if it is a rectangular matrix of order m x n.\n",
    "- The rank of the identity matrix is equal to the order of the identity matrix.\n",
    "- The rank of a zero matrix or a null matrix is zero."
   ]
  },
  {
   "cell_type": "markdown",
   "id": "54f7c790-08a0-48c8-9fed-ff0a43d63524",
   "metadata": {},
   "source": [
    "## Eigenvalues & eigenvectors (intuition > full derivation)"
   ]
  },
  {
   "cell_type": "markdown",
   "id": "43933756-20e0-4b29-95f8-d95d8077e3e0",
   "metadata": {},
   "source": [
    "# Eigenvalues\n"
   ]
  },
  {
   "cell_type": "markdown",
   "id": "4da9925a-eb96-4bd5-b904-5accd7de6b1f",
   "metadata": {},
   "source": [
    "Eigenvalues are unique scalar values linked to a matrix or linear transformation. They indicate how much an eigenvector gets stretched or compressed during the transformation. The eigenvector's direction remains unchanged unless the eigenvalue is negative, in which case the direction is simply reversed.\n",
    "- **Meaning**: Measure how much an eigenvector is stretched or shrunk by a matrix transformation.\n",
    "- **Found by**: Solving the characteristic equation det⁡(A−λI)=0\n",
    "- **Number**: A matrix of size n×n has up to n eigenvalues (including repeated and complex).\n",
    "- **Types**: Real or complex numbers depending on the matrix.\n",
    "- **Role**: Reveal intrinsic properties of a matrix transformation like scaling factors along specific directions.\n",
    "- **Use in Diagonalization**: Form the diagonal entries of diagonalized matrix D in A=PDP^−1.\n",
    "- **Indicator of Stability**: Eigenvalues’ real parts determine stability in dynamical systems.\n",
    "- **Ordering**: Largest eigenvalue often called the dominant eigenvalue crucial in PCA and other algorithms.\n",
    "- **Relation to Trace and Determinant**: Sum of eigenvalues = trace of matrix; product = determinant.\n",
    "  \n",
    "The equation for eigenvalue is given by,\n",
    "\n",
    "*Av=λv*\n",
    "\n",
    "Where,\n",
    "\n",
    "- A is the matrix,\n",
    "- v is associated eigenvector and\n",
    "- λ*λ* is scalar eigenvalue.\n",
    "\n",
    "---\n",
    "## Applications of Eigen Values in Engineering ⚙️\n",
    "\n",
    "Some of the common applications of eigen values are:\n",
    "\n",
    "### **1. Linear Algebra:.**\n",
    "\n",
    "- Diagonalization: Eigenvalues help diagonalize matrices, simplifying computations and enabling more efficient solutions to linear systems.\n",
    "- Matrix Exponentiation: Eigenvalues are essential for matrix exponentiation, particularly in solving differential equations.\n",
    "\n",
    "### 2. Quantum Mechanics: \n",
    "Eigenvalues of the Hamiltonian operator define the energy levels of quantum systems, giving insight into possible states.\n",
    "\n",
    "### 3. Vibrations and Structural Analysis:\n",
    "\n",
    "- Mechanical Vibrations: Eigenvalues represent the natural frequencies of vibrating systems, critical for analyzing resonances and stability.\n",
    "- Structural Stability: In structural analysis, eigenvalues help assess the stability and behavior of structures under various forces.\n",
    "\n",
    "### 4. Statistics: \n",
    "Eigenvalues play a role in analyzing covariance matrices, offering insight into the data's spread and orientation.\n",
    "\n",
    "### 5. Computer Graphics: \n",
    "Eigenvalues are used in PCA to identify the principal components of a dataset, reducing dimensionality while preserving key information.\n",
    "\n",
    "### 6. Control Systems: \n",
    "Eigenvalues of the system matrix are crucial for evaluating the stability of control systems, ensuring that the system's response remains bounded."
   ]
  },
  {
   "cell_type": "markdown",
   "id": "5fd2af48-c5c3-4866-99d1-37bdf79cb29c",
   "metadata": {},
   "source": [
    "# Eigenvectors"
   ]
  },
  {
   "cell_type": "markdown",
   "id": "a505471c-26a8-468c-b817-bc9392b7763a",
   "metadata": {},
   "source": [
    "Eigenvectors are non-zero vectors that, when multiplied by a matrix, only stretch or shrink without changing direction. The eigenvalue must be found first before the eigenvector. For any square matrix A of order n × n, the eigenvector is a column matrix of size n × 1. This is known as the right eigenvector, as matrix multiplication is not commutative.\n",
    "\n",
    "---\n",
    "\n",
    "## **How to Find an Eigenvector?** 🧮\n",
    "\n",
    "The eigenvector of the following square matrix can be easily calculated using the steps below,\n",
    "\n",
    "**Step 1:** Find the eigenvalues of the matrix A, using the equation det |(A – λI| =0, where “I” is the identity matrix of order similar to matrix A\n",
    "\n",
    "**Step 2:** The value obtained in Step 2 are named as, λ1,λ2,λ3….\n",
    "\n",
    "**Step 3:** Find the eigenvector (X) associated with the eigenvalue  λ1 using the equation, (A–λ_1I) X=0\n",
    "\n",
    "**Step 4:** Repeat step 3 to find the eigenvector associated with other remaining eigenvalues λ2,λ3\n",
    "\n",
    "---\n",
    "\n",
    "## **Types of Eigenvector**\n",
    "\n",
    "The eigenvectors calculated for the square matrix are of two types which are,\n",
    "\n",
    "- Right Eigenvector: The eigenvector which is multiplied by the given square matrix from the right-hand side is called the right eigenvector.\n",
    "- Left Eigenvector: The eigenvector which is multiplied by the given square matrix from the left-hand side is called the left eigenvector.\n",
    "\n",
    "---\n",
    "\n",
    "## **Eigenvectors of a Square Matrix**🔲\n",
    "\n",
    "We can easily find the eigenvector of square matrices of order n × n. Now, let's find the following square matrices:\n",
    "\n",
    "- Eigenvectors of a 2 × 2 matrix\n",
    "- Eigenvectors of a 3 × 3 matrix.\n",
    "\n",
    "---\n",
    "\n",
    "### **Eigenspace** 🌌\n",
    "\n",
    "We define the eigenspace of a matrix as the set of all the eigenvectors of the matrix. All the vectors in the eigenspace are linearly independent of each other.\n",
    "\n",
    "To find the Eigenspace of the matrix we have to follow the following steps\n",
    "\n",
    "**Step 1**: Find all the eigenvalues of the given square matrix.\n",
    "\n",
    "**Step 2:** For each eigenvalue find the corresponding eigenvector.\n",
    "\n",
    "**Step 3:** Take the set of all the eigenvectors (say A). The resultant set so formed is called the Eigenspace of the following vector."
   ]
  },
  {
   "cell_type": "markdown",
   "id": "a752316c-8cc1-4ce1-9030-4c2db0e1c02f",
   "metadata": {},
   "source": [
    "# Probability & Stats"
   ]
  },
  {
   "cell_type": "markdown",
   "id": "0c25e327-f29e-4087-b80a-c48d3641aae0",
   "metadata": {},
   "source": [
    "## Random Variable, PMF/PDF"
   ]
  },
  {
   "cell_type": "markdown",
   "id": "d0191b92-c937-46c0-87b7-21ebe33dfd25",
   "metadata": {},
   "source": [
    "A random variable is a key concept in statistics that connects theoretical probability with real-world data. It is a function that assigns a real number to each outcome in the sample space of a random experiment.\n",
    "\n",
    "---\n",
    "\n",
    "## Types of Random Variables\n",
    "\n",
    "There are two types of random variables. They are:\n",
    "\n",
    "1. **Continuous Random Variable**\n",
    "    \n",
    "    A Continuous Random Variable takes on an infinite number of values. The probability function associated with it is said to be PDF(Probability Density Function).\n",
    "    \n",
    "    PDF (Probability Density Function)\n",
    "    \n",
    "    If X is a continuous random variable. P (x < X < x + dx) = f(x)dx then,\n",
    "    \n",
    "    - 0 ≤ f(x) ≤ 1; for all x\n",
    "    - ∫ f(x) dx = 1 over all values of x\n",
    "    \n",
    "    Then P (X) is said to be a PDF of the distribution.\n",
    "    \n",
    "2. **Discrete Random Variable**\n",
    "    \n",
    "    A Discrete Random Variable takes on a finite or countably infinite number of values. The probability function associated with a discrete random variable is called as Probability Mass Function.\n",
    "    \n",
    "    PMF(Probability Mass Function)\n",
    "    \n",
    "    If X is a discrete random variable and the PMF of X is P(xi), then\n",
    "    \n",
    "    - 0 ≤ p_i≤ 1\n",
    "    - ∑p(x_i) = 1, where the sum is taken over all possible values of x\n",
    "        \n",
    "---        \n",
    "\n",
    "## Random Variable Formulas\n",
    "\n",
    "There are two main random variable formulas,\n",
    "\n",
    "- Mean of a Random Variable\n",
    "- Variance of a Random Variable\n",
    "\n",
    "---\n",
    "\n",
    "## Probability Distribution and Random Variable\n",
    "\n",
    "For a random variable, its probability distribution is calculated using three methods,\n",
    "\n",
    "- Theoretical listing of outcomes and probabilities of the outcomes.\n",
    "- Experimental listing of outcomes followed by their observed relative frequencies.\n",
    "- Subjective listing of outcomes followed by their subjective probabilities.\n",
    "\n",
    "---\n",
    "\n",
    "## Random Variables in Computer Science\n",
    "\n",
    "Random variables are important in computer science for dealing with uncertainty and chance.\n",
    "\n",
    "- They are used to study the average behavior of algorithms that use random steps, such as QuickSort.\n",
    "- In machine learning, they help describe input data, predictions, and errors.\n",
    "- Simulations use them to model events like customer arrivals or data flow in a network.\n",
    "- In cybersecurity, random variables help create strong, unpredictable keys.\n",
    "- They are also useful in checking how well data structures like hash tables perform.\n",
    "- In networking, they help predict delays and traffic.\n",
    "- Even in games and animation, random variables create random actions and natural-looking effects."
   ]
  },
  {
   "cell_type": "markdown",
   "id": "83cdc683-bfd6-4a6e-a9a3-3712ae5c3458",
   "metadata": {},
   "source": [
    "# PMF/PDF\n",
    "\n",
    "## **PMF(Probability Mass Function)**\n",
    "\n",
    "Probability function that gives discrete random variables probability equal to an exact value is called the probability mass function. The probability mass function is abbreviated as PMF. The different distribution has different formulas to calculate the probability mass function.\n",
    "\n",
    "## **Uses of Probability Mass Function**\n",
    "\n",
    "Probability Mass Function (PMF) is a fundamental concept in probability theory and statistics, particularly when dealing with discrete random variables. Some uses of the PMF are:\n",
    "\n",
    "- Describing Discrete Distributions: PMF is used to define the distribution of discrete random variables such as the number of heads in a series of coin flips, the number of customers arriving at a store in a given hour, or the number of defective items in a batch.\n",
    "- Calculating Probabilities: PMF allows for the calculation of the probability that a random variable takes on a specific value.\n",
    "- Modeling and Simulations: In simulation studies and probabilistic modeling, PMFs are used to generate random samples and to simulate scenarios involving discrete random variables.\n",
    "- Information Theory: PMFs play a crucial role in information theory, particularly in the calculation of entropy, which measures the uncertainty or randomness of a random variable.\n",
    "\n",
    "---\n",
    "\n",
    "## **PDF(Probability Density Function)**\n",
    "\n",
    "Probability Density Function is used for calculating the probabilities for continuous random variables. When the cumulative distribution function (CDF) is differentiated we get the probability density function (PDF). Both functions are used to represent the probability distribution of a continuous random variable.\n",
    "\n",
    "## How to Find Probability from Probability Density Function\n",
    "\n",
    "To find the probability from the probability density function we have to follow some steps.\n",
    "\n",
    "Step 1: First check the PDF is valid or not using the necessary conditions\n",
    "\n",
    "Step 2: If the PDF is valid, use the formula and write the required probability and limits.\n",
    "\n",
    "Step 3: Divide the integration according to the given PDF.\n",
    "\n",
    "Step 4: Solve all integrations.\n",
    "\n",
    "Step 5: The resultant value gives the required probability.\n",
    "\n",
    "## **Types of Probability Density Function**\n",
    "\n",
    "There are different types of probability density functions given below:\n",
    "\n",
    "- Uniform Distribution\n",
    "    \n",
    "    The uniform distribution is the distribution whose probability for equally likely events lies between a specified range. It is also called as rectangular distribution. The distribution is written as U(a, b) where, a is the minimum value and b is the maximum value.\n",
    "    \n",
    "- Binomial Distribution\n",
    "    \n",
    "    The binomial distribution is the distribution which has two parameters: n and p where, n is the total number of trials and p is the probability of success.\n",
    "    \n",
    "- Normal Distribution\n",
    "    \n",
    "    The normal distribution is distribution that is symmetric about its mean. It is also called as Gaussian distribution. The graph of the normal distribution is bell like graph.\n",
    "    \n",
    "- Chi-Square Distribution\n",
    "    \n",
    "    Chi-Squared distribution is the distribution defined as the sum of squares of k independent standard normal form. IT is denoted as X^2(k).\n",
    "\n",
    "---    \n",
    "\n",
    "## **Difference between Probability Mass Function and Probability Density Function**\n",
    "\n",
    "| **Characteristics** | **Probability Mass Function** | **Probability Density Function** |\n",
    "| --- | --- | --- |\n",
    "| **Definition** | The PMF is the probability that a discrete random variable takes at an exact value. | The PDF is the probability that a continuous random variable takes at a specified interval. |\n",
    "| **Type of Variable** | The PMF deals with the discrete random variables. | The PDF deals with the continuous random variables. |\n",
    "| **Evaluation** | PMF is evaluated at specific point. | PDF is evaluated at specified interval |\n",
    "| **Formula** | f(x) = P (X = x) | P(x) = F'(x) where, F(x) is CDF |\n",
    "\n"
   ]
  },
  {
   "cell_type": "markdown",
   "id": "4ae1aee2-49a3-4e4a-81ff-9732659cbee7",
   "metadata": {},
   "source": [
    "# Mean, Variance, Standard deviation"
   ]
  },
  {
   "cell_type": "markdown",
   "id": "69c8dc2a-35f0-47b7-ab66-1a4a4c50f0f1",
   "metadata": {},
   "source": [
    "## Mean🎯\n",
    "The mean also known as the average, is a measure of the central tendency of a dataset. It is calculated by summing up all the values in the dataset and dividing them by the number of values. It is denoted by the symbol μ. \n",
    "\n",
    "- It tells you the central or typical value.\n",
    "- The mean is the average value of a dataset.\n",
    "- The general formula for mean is given by the ratio of the sum of all the terms and the total number of terms. Hence, we can say;\n",
    "    \n",
    "    Mean = Sum of the Given Data/Total number of Data\n",
    "    \n",
    "- To calculate the arithmetic mean of a set of data we must first add up (sum) all of the data values (x) and then divide the result by the number of values (n). Since ∑ is the symbol used to indicate that values are to be summed (see Sigma Notation) we obtain the following formula for the mean (x̄):\n",
    "    \n",
    "    x̄=∑ x/n\n",
    "\n",
    "--- \n",
    "\n",
    "### Types of Mean\n",
    "    \n",
    "There are majorly three different types of mean value that you will be studying in statistics.\n",
    "    \n",
    "1. Arithmetic Mean: When you add up all the values and divide by the number of values it is called Arithmetic mean. To calculate, just add up all the given numbers then divide by how many numbers are given.\n",
    "        \n",
    "2. Geometric Mean: The geometric mean of two numbers x and y is xy. If you have three numbers x, y, and z, their geometric mean is 3xyz.\n",
    "        \n",
    "3. Harmonic Mean: The harmonic mean is used to average ratios. For two numbers x and y, the harmonic mean is 2xy(x+y). For, three numbers x, y, and z, the harmonic mean is 3xyz(xy+xz+yz).\n",
    "\n",
    "\n",
    "**Root Mean Square (Quadratic)**\n",
    "        \n",
    "The root mean square is used in many engineering and statistical applications, especially when there are data points that can be negative."
   ]
  },
  {
   "cell_type": "markdown",
   "id": "f203b189-2b73-4b24-8b0f-5aa5a413f510",
   "metadata": {},
   "source": [
    "# Variance"
   ]
  },
  {
   "cell_type": "markdown",
   "id": "fa5a6e17-9e38-4817-b3f5-b3df29355f0a",
   "metadata": {},
   "source": [
    "- Variance measures the dispersion of a dataset, indicating how much the values differ from the mean. It is the average of the squared differences from the mean. Variance is the expected value of the squared variation of a random variable from its mean value, in probability and statistics. Informally, variance estimates how far a set of numbers (random) are spread out from their mean value.\n",
    "- Variance is symbolically represented by σ^2, s^2, or Var(X).\n",
    "- Variance means to find the expected difference of deviation from actual value. Therefore, variance depends on the standard deviation of the given data set.\n",
    "- The more the value of variance, the data is more scattered from its mean and if the value of variance is low or minimum, then it is less scattered from mean. Therefore, it is called a measure of spread of data from mean.\n",
    "- **Variance = (Standard deviation)^2= σ^2**\n",
    "\n",
    "---\n",
    "\n",
    "## **How to Calculate Variance**\n",
    "\n",
    "Variance can be calculated easily by following the steps given below:\n",
    "\n",
    "- Find the mean of the given data set. Calculate the average of a given set of values\n",
    "- Now subtract the mean from each value and square them\n",
    "- Find the average of these squared values, that will result in variance\n",
    "\n",
    "Say if x1, x2, x3, x4, …,xn are the given values.\n",
    "\n",
    "Therefore, the mean of all these values is:\n",
    "\n",
    "x̄ = (x1+x2+x3+…+xn)/n\n",
    "\n",
    "Now subtract the mean value from each value of the given data set and square them.\n",
    "\n",
    "(x1-x̄)2, (x2-x̄)2, (x3-x̄)^2,…….,(xn-x̄)^2\n",
    "\n",
    "Find the average of the above values to get the variance.\n",
    "\n",
    "Var (X) = [(x1-x̄)2+ (x2-x̄)2+ (x3-x̄)^2+…….+(xn-x̄)^2]/n\n",
    "\n",
    "Hence, the variance is calculated."
   ]
  },
  {
   "cell_type": "markdown",
   "id": "8dbe4af3-702f-4c20-b11b-19ce4283cfe3",
   "metadata": {},
   "source": [
    "# Standard Deviation"
   ]
  },
  {
   "cell_type": "markdown",
   "id": "5101e633-129f-4a0f-9033-eea18892b6e6",
   "metadata": {},
   "source": [
    "Standard Deviation is the square root of the variance, providing a measure of the spread of the dataset in the same units as the data. The standard deviation indicates a typical deviation from the mean. It is a popular measure of variability because it returns to the original units of measure of the data set. Like the variance, if the data points are close to the mean, there is a small variation whereas the data points are highly spread out from the mean, then it has a high variance. \n",
    "\n",
    "Standard deviation calculates the extent to which the values differ from the average. Standard Deviation, the most widely used measure of dispersion, is based on all values. Therefore a change in even one value affects the value of standard deviation. It is independent of origin but not of scale. It is also useful in certain advanced statistical problems.\n",
    "\n",
    "---\n",
    "\n",
    "## How is Standard Deviation calculated?\n",
    "\n",
    "- Standard deviation (σ) measures how much data points deviate from the mean.\n",
    "- It’s calculated using:\n",
    "    - Each data point x_i\n",
    "    - The mean MMM of the data\n",
    "    - The number of data points nnn\n",
    "- To calculate mean M:\n",
    "    - Add all data points together.\n",
    "    - Divide by nnn, the total number of data points.\n",
    "- Variance:\n",
    "    - Average of the squared differences between each data point and the mean.\n",
    "    - Formula: 1/n∑(x_i-M)^2\n",
    "- Standard deviation:\n",
    "    - Square root of the variance.\n",
    "    - Also called root-mean-square deviation.\n",
    "- Standard deviation can never be negative; smallest possible value is 0.\n",
    "- Larger standard deviation means data points are more spread out from the mean.\n",
    "- It’s a key measure of dispersion, showing how spread out or clustered the data is.\n",
    "- Standard deviation is a second-order average, because it averages squared deviations from the mean, unlike mean, median, and mode which are first-order averages (central tendency).\n",
    "\n",
    "---\n",
    "\n",
    "## **Standard deviation of Grouped Data**\n",
    "\n",
    "In case of grouped data or grouped frequency distribution, the standard deviation can be found by considering the frequency of data values."
   ]
  },
  {
   "cell_type": "markdown",
   "id": "dc519519-f6de-4115-9f58-a0a05b94cd2e",
   "metadata": {},
   "source": [
    "# Bayes’ theorem & conditional probability"
   ]
  },
  {
   "cell_type": "markdown",
   "id": "27d7d60f-a142-4207-b97c-9c166f80cfa0",
   "metadata": {},
   "source": [
    "# Bayes' Theorem"
   ]
  },
  {
   "cell_type": "markdown",
   "id": "c5483eac-4639-493a-89b7-92c2b24b32db",
   "metadata": {},
   "source": [
    "Bayes’ theorem describes the probability of occurrence of an event related to any condition. It is also considered for the case of conditional probability. Bayes theorem is also known as the formula for the probability of causes. \n",
    "\n",
    "- Useful when direct probability P(A∣B) is hard to get but P(B∣A) is known.\n",
    "- Formula:P(A∣B)=P(B∣A)×P(A)/P(B)\n",
    "    \n",
    "    P(A∣B)=P(B∣A)×P(A)P(B)P(A|B) = \\frac{P(B|A) \\times P(A)}{P(B)}\n",
    "    \n",
    "- Here:\n",
    "    - P(A) = prior probability of A\n",
    "    - P(B∣A) = likelihood of B given A\n",
    "    - P(B)= total probability of B (can be calculated via law of total probability)\n",
    "\n",
    "---\n",
    "\n",
    "### Why it matters?\n",
    "\n",
    "- Helps update beliefs with new evidence (Bayesian inference).\n",
    "- Used in spam filters, medical diagnosis, machine learning, decision making.\n",
    "- Allows you to flip conditional probabilities logically."
   ]
  },
  {
   "cell_type": "markdown",
   "id": "21550e92-f661-4f7f-a58c-e65e417add67",
   "metadata": {},
   "source": [
    "# Conditional Probability"
   ]
  },
  {
   "cell_type": "markdown",
   "id": "3ce63fe8-b77c-4147-9817-17f753a374dd",
   "metadata": {},
   "source": [
    "Conditional probability defines the probability of an event occurring based on a given condition or prior knowledge of another event.\n",
    "\n",
    "For Example:\n",
    "#### **Tossing a Coin**\n",
    "\n",
    "Let's consider two events in tossing two coins,\n",
    "\n",
    "- A: Getting a head on the first coin.\n",
    "- B: Getting a head on the second coin.Sample space for tossing two coins is: **S = {HH, HT, TH, TT}**\n",
    "\n",
    "The conditional probability of getting a head on the second coin (B) given that we got a head on the first coin (A) is = P(B|A).\n",
    "\n",
    "Since the coins are independent (one coin's outcome does not affect the other),\n",
    "\n",
    "**P(B|A) = P(B) = 0.5 (50%),** which is the probability of getting a head on a single coin toss.\n",
    "\n",
    "---\n",
    "\n",
    "### Applications of Conditional Probability\n",
    "\n",
    "Various applications of conditional probability are,\n",
    "\n",
    "**Finance and Risk Management**\n",
    "\n",
    "- Example: Assessing the probability of default for a borrower given certain financial indicators.\n",
    "- Application: Banks and financial institutions use conditional probability to evaluate the risk associated with loans and investments.\n",
    "\n",
    "**Healthcare and Diagnostics**\n",
    "\n",
    "- Example: Determining the probability of a patient having a specific disease given the results of diagnostic tests.\n",
    "- Application: Conditional probability is crucial in medical diagnoses and decision-making, helping healthcare professionals make informed decisions based on test results."
   ]
  },
  {
   "cell_type": "markdown",
   "id": "1520b705-8584-4bb2-ad58-f33088e6b762",
   "metadata": {},
   "source": [
    "# Numpy"
   ]
  },
  {
   "cell_type": "markdown",
   "id": "cac74143-87e8-41ab-a3f0-7ec1544a3c01",
   "metadata": {},
   "source": [
    "- Used in almost every field of science and engineering.\n",
    "- Powerful Python library for numerical computing.\n",
    "- Supports large multi-dimensional arrays and matrices.\n",
    "- Brings C and Fortran-like computational power to Python.\n",
    "- Clear and elegant syntax.\n",
    "- Core component of the data science ecosystem.\n",
    "- Foundation for machine learning libraries like scikit-learn and SciPy.\n",
    "- Enables accelerated processing of large datasets.\n",
    "- Allows visualization of datasets too large for native Python.\n",
    "- Provides ndarray, fast and space-efficient multidimensional array providing vectorized arithmetic operations, matrix operations.\n",
    "- Provides linear algebra, random number generation.\n",
    "- Standard mathematical functions for fast operations on entire arrays of data without having to write loops."
   ]
  },
  {
   "cell_type": "code",
   "execution_count": 1,
   "id": "c2266100-5030-4c17-af6f-c0a7fcdc8ee0",
   "metadata": {},
   "outputs": [],
   "source": [
    "#importing numpy\n",
    "import numpy as np"
   ]
  },
  {
   "cell_type": "markdown",
   "id": "db3c6cae-eb96-47e3-98d4-a7b0fc7ff333",
   "metadata": {},
   "source": [
    "### Using numpy to implement vector & matrix operations"
   ]
  },
  {
   "cell_type": "code",
   "execution_count": 3,
   "id": "3d1a02e2-35d7-476e-a7bd-e44bb6f30713",
   "metadata": {},
   "outputs": [
    {
     "name": "stdout",
     "output_type": "stream",
     "text": [
      "[1 2 3]\n"
     ]
    }
   ],
   "source": [
    "#Vectors: Represented as 1-dimensional NumPy arrays\n",
    "vector = np.array([1, 2, 3])\n",
    "print(vector)"
   ]
  },
  {
   "cell_type": "code",
   "execution_count": 4,
   "id": "a97597a4-432f-4afa-a319-71fc2582ba39",
   "metadata": {},
   "outputs": [
    {
     "name": "stdout",
     "output_type": "stream",
     "text": [
      "[[1 2]\n",
      " [3 4]]\n"
     ]
    }
   ],
   "source": [
    "#Matrices: Represented as 2-dimensional NumPy arrays.\n",
    "matrix = np.array([[1, 2], [3, 4]])\n",
    "print(matrix)"
   ]
  },
  {
   "cell_type": "markdown",
   "id": "398fec8e-1f3b-4dd2-8030-9b91adaab94b",
   "metadata": {},
   "source": [
    "### Basic vector operations"
   ]
  },
  {
   "cell_type": "code",
   "execution_count": 5,
   "id": "5589b374-3c43-4520-b429-a88a242ceeaf",
   "metadata": {},
   "outputs": [
    {
     "name": "stdout",
     "output_type": "stream",
     "text": [
      "Sum: [5 7 9]\n",
      "Difference: [-3 -3 -3]\n"
     ]
    }
   ],
   "source": [
    "# Addition/Subtraction: Element-wise operations between vectors of the same shape.\n",
    "vector_b = np.array([4, 5, 6])\n",
    "sum_vector = vector + vector_b\n",
    "diff_vector = vector - vector_b\n",
    "print(\"Sum:\", sum_vector)\n",
    "print(\"Difference:\", diff_vector)"
   ]
  },
  {
   "cell_type": "code",
   "execution_count": 6,
   "id": "5c09dba0-9146-4fae-8f48-c4fa3eb3cfb8",
   "metadata": {},
   "outputs": [
    {
     "name": "stdout",
     "output_type": "stream",
     "text": [
      "Scalar Multiplication: [2 4 6]\n"
     ]
    }
   ],
   "source": [
    "# Scalar Multiplication: Multiplying a vector by a scalar.\n",
    "scalar_mult = 2 * vector\n",
    "print(\"Scalar Multiplication:\", scalar_mult)"
   ]
  },
  {
   "cell_type": "code",
   "execution_count": 7,
   "id": "957fccad-e28c-43ca-9e8d-4b0c1611fe39",
   "metadata": {},
   "outputs": [
    {
     "name": "stdout",
     "output_type": "stream",
     "text": [
      "dot product: 32\n"
     ]
    }
   ],
   "source": [
    "# Dot Product: Calculated using np.dot().\n",
    "dot_product = np.dot(vector, vector_b)\n",
    "print(\"dot product:\", dot_product)"
   ]
  },
  {
   "cell_type": "markdown",
   "id": "fbff5bd1-1098-43df-8d69-c7d6a7d493fb",
   "metadata": {},
   "source": [
    "### Basic Matrix Operations\n"
   ]
  },
  {
   "cell_type": "code",
   "execution_count": 9,
   "id": "3ea2ea1e-3f92-4695-b1b6-0c2a0c7f21ac",
   "metadata": {},
   "outputs": [
    {
     "name": "stdout",
     "output_type": "stream",
     "text": [
      "Sum Matrix:\n",
      " [[ 6  8]\n",
      " [10 12]]\n",
      "Difference Matrix:\n",
      " [[-4 -4]\n",
      " [-4 -4]]\n"
     ]
    }
   ],
   "source": [
    "# Addition/Subtraction: Element-wise operations between matrices of the same shape.\n",
    "matrix_b = np.array([[5, 6], [7, 8]])\n",
    "sum_matrix = matrix + matrix_b\n",
    "diff_matrix = matrix - matrix_b\n",
    "print(\"Sum Matrix:\\n\", sum_matrix)\n",
    "print(\"Difference Matrix:\\n\", diff_matrix)"
   ]
  },
  {
   "cell_type": "code",
   "execution_count": 10,
   "id": "d64c49b3-47ff-4121-9c70-272512040316",
   "metadata": {},
   "outputs": [
    {
     "name": "stdout",
     "output_type": "stream",
     "text": [
      "Scalar Multiplication Matrix:\n",
      " [[ 3  6]\n",
      " [ 9 12]]\n"
     ]
    }
   ],
   "source": [
    "# Scalar Multiplication: Multiplying a matrix by a scalar.\n",
    "scalar_matrix = 3 * matrix\n",
    "print(\"Scalar Multiplication Matrix:\\n\", scalar_matrix)\n"
   ]
  },
  {
   "cell_type": "code",
   "execution_count": 11,
   "id": "7ba04024-ac2d-45c5-ab4f-7100c9a1cba6",
   "metadata": {},
   "outputs": [
    {
     "name": "stdout",
     "output_type": "stream",
     "text": [
      "Transpose Matrix:\n",
      " [[1 3]\n",
      " [2 4]]\n"
     ]
    }
   ],
   "source": [
    "# Transpose: Using .T attribute or np.transpose().\n",
    "transpose_matrix = matrix.T\n",
    "print(\"Transpose Matrix:\\n\", transpose_matrix)"
   ]
  },
  {
   "cell_type": "code",
   "execution_count": 12,
   "id": "1f4fb6e6-7e1f-4d8a-bb3e-99cc452306bc",
   "metadata": {},
   "outputs": [
    {
     "name": "stdout",
     "output_type": "stream",
     "text": [
      "Inverse Matrix:\n",
      " [[-2.   1. ]\n",
      " [ 1.5 -0.5]]\n"
     ]
    }
   ],
   "source": [
    "# Inverse: Calculated using np.linalg.inv(). Only applicable to square matrices with non-zero determinants.\n",
    "inverse_matrix = np.linalg.inv(matrix)\n",
    "print(\"Inverse Matrix:\\n\", inverse_matrix)"
   ]
  },
  {
   "cell_type": "markdown",
   "id": "d4bfecfc-a258-46c6-be39-8f0df7197738",
   "metadata": {},
   "source": [
    "#  **Matplotlib**\n",
    "\n",
    "- Introduced by John Hunter in 2002.\n",
    "- Amazing library for visualization of 2D plots in Python.\n",
    "- Allows visual access to huge amounts of data in a digestible manner.\n",
    "- Supports several plot types like line, bar, scatter, histogram, etc."
   ]
  },
  {
   "cell_type": "code",
   "execution_count": 14,
   "id": "3bd9d6c2-9fd1-4cfa-9706-7514c1bc5d81",
   "metadata": {},
   "outputs": [],
   "source": [
    "# importing malplotlib\n",
    "import matplotlib.pyplot as plt"
   ]
  },
  {
   "cell_type": "markdown",
   "id": "0e160e1b-6415-47b6-ae66-f75dc8f5af58",
   "metadata": {},
   "source": [
    "### Use of Matplotlib"
   ]
  },
  {
   "cell_type": "markdown",
   "id": "15226c28-2d3f-48b1-b60f-1d34d84f9259",
   "metadata": {},
   "source": [
    "- **Plot Insights:**\n",
    "    - Reveals trends, distributions, and relationships within data\n",
    "    - Provides visual summaries to aid informed decision-making\n",
    "- **Supported Plot Types:**\n",
    "    - Includes line, bar, scatter, histogram, pie, and 3D plots\n",
    "    - Caters to diverse data visualization needs\n",
    "- **Enhanced Data Visualization:**\n",
    "    - Simplifies creating insightful visualizations from complex datasets\n",
    "    - Enhances communication, analysis, and reporting capabilities efficiently"
   ]
  },
  {
   "cell_type": "markdown",
   "id": "9a5a124c-7082-411a-afa7-3460bed67293",
   "metadata": {},
   "source": [
    "## 📊 **Matplotlib Pyplot**\n",
    "\n",
    "Pyplot is a module within Matplotlib that provides a MATLAB-like interface for making plots. It simplifies the process of adding plot elements such as lines, images, and text to the axes of the current figure. \n",
    "\n",
    "### 🛠 **Steps to Use Pyplot:**\n",
    "\n",
    "- **Import Matplotlib:** Start by importing matplotlib.pyplot as plt.\n",
    "- **Create Data:** Prepare your data in the form of lists or arrays.\n",
    "- **Plot Data**: Use plt.plot() to create the plot.\n",
    "- **Customize Plot**: Add titles, labels, and other elements using methods like plt.title(), plt.xlabel(), and plt.ylabel().\n",
    "- **Display Plot**: Use plt.show() to display the plot."
   ]
  },
  {
   "cell_type": "markdown",
   "id": "849422f2-2e42-453f-bbbe-2d75f131b52c",
   "metadata": {},
   "source": [
    "### 📊 Different Types of Plots in Matplotlib\n",
    "\n",
    "Matplotlib offers a wide range of plot types to suit various data visualization needs. Here are some of the most commonly used types of plots in Matplotlib:\n",
    "\n",
    "- 1. Line Graph 📈\n",
    "- 2. Bar Chart 📊 \n",
    "- 3. Histogram 📉 \n",
    "- 4. Scatter Plot 🔵 \n",
    "- 5. Pie Chart 🥧 \n",
    "- 6. 3D Plot 🧩 "
   ]
  },
  {
   "cell_type": "code",
   "execution_count": 19,
   "id": "4143591d-1ed8-4a0e-acc6-73038e739b72",
   "metadata": {},
   "outputs": [
    {
     "data": {
      "image/png": "[encoded data removed]",
      "text/plain": [
       "<Figure size 800x400 with 1 Axes>"
      ]
     },
     "metadata": {},
     "output_type": "display_data"
    },
    {
     "data": {
      "image/png": "[encoded data removed]",
      "text/plain": [
       "<Figure size 800x400 with 1 Axes>"
      ]
     },
     "metadata": {},
     "output_type": "display_data"
    },
    {
     "data": {
      "image/png": "[encoded data removed]",
      "text/plain": [
       "<Figure size 600x300 with 1 Axes>"
      ]
     },
     "metadata": {},
     "output_type": "display_data"
    },
    {
     "data": {
      "image/png": "[encoded data removed]",
      "text/plain": [
       "<Figure size 600x300 with 1 Axes>"
      ]
     },
     "metadata": {},
     "output_type": "display_data"
    }
   ],
   "source": [
    "from scipy.stats import norm, binom, expon, uniform\n",
    "\n",
    "# Normal Distribution\n",
    "x = np.linspace(-5, 5, 500)\n",
    "mean, std_dev = 0, 1\n",
    "y_norm = norm.pdf(x, mean, std_dev)\n",
    "\n",
    "plt.figure(figsize=(8, 4))\n",
    "plt.plot(x, y_norm, label=\"Normal Distribution\", color=\"blue\", linewidth=2)\n",
    "plt.title(\"Normal Distribution (μ=0, σ=1)\")\n",
    "plt.xlabel(\"x\")\n",
    "plt.ylabel(\"Probability Density\")\n",
    "plt.grid(True, alpha=0.3)\n",
    "plt.legend()\n",
    "plt.tight_layout()\n",
    "plt.show()\n",
    "\n",
    "# Binomial Distribution\n",
    "n, p = 10, 0.5\n",
    "x_binom = np.arange(0, n + 1)\n",
    "y_binom = binom.pmf(x_binom, n, p)\n",
    "\n",
    "plt.figure(figsize=(8, 4))\n",
    "plt.bar(x_binom, y_binom, width=0.6, color=\"orange\", alpha=0.7)\n",
    "plt.title(\"Binomial Distribution (n=10, p=0.5)\")\n",
    "plt.xlabel(\"Number of Successes\")\n",
    "plt.ylabel(\"Probability\")\n",
    "plt.grid(True, axis=\"y\", alpha=0.3)\n",
    "plt.tight_layout()\n",
    "plt.show()\n",
    "\n",
    "# Exponential Distribution\n",
    "x_exp = np.linspace(0, 5, 500)\n",
    "lambda_exp = 1  # rate parameter\n",
    "y_exp = expon.pdf(x_exp, scale=1/lambda_exp)\n",
    "\n",
    "plt.figure(figsize=(6, 3))\n",
    "plt.plot(x_exp, y_exp, label=\"Exponential Distribution\", color=\"green\", linewidth=2)\n",
    "plt.title(\"Exponential Distribution (λ=1)\")\n",
    "plt.xlabel(\"x\")\n",
    "plt.ylabel(\"Probability Density\")\n",
    "plt.grid(True, alpha=0.3)\n",
    "plt.legend()\n",
    "plt.tight_layout()\n",
    "plt.show()\n",
    "\n",
    "# Uniform Distribution\n",
    "x_uni = np.linspace(0, 1, 500)\n",
    "a, b = 0, 1\n",
    "y_uni = uniform.pdf(x_uni, loc=a, scale=b - a)\n",
    "\n",
    "plt.figure(figsize=(6, 3))\n",
    "plt.plot(x_uni, y_uni, label=\"Uniform Distribution\", color=\"purple\", linewidth=2)\n",
    "plt.title(\"Uniform Distribution (0 to 1)\")\n",
    "plt.xlabel(\"x\")\n",
    "plt.ylabel(\"Probability Density\")\n",
    "plt.grid(True, alpha=0.3)\n",
    "plt.legend()\n",
    "plt.tight_layout()\n",
    "plt.show()\n"
   ]
  },
  {
   "cell_type": "code",
   "execution_count": null,
   "id": "4ce0acc8-0879-444b-9f0d-f62170fac05c",
   "metadata": {},
   "outputs": [],
   "source": []
  }
 ],
 "metadata": {
  "kernelspec": {
   "display_name": "Python 3 (ipykernel)",
   "language": "python",
   "name": "python3"
  },
  "language_info": {
   "codemirror_mode": {
    "name": "ipython",
    "version": 3
   },
   "file_extension": ".py",
   "mimetype": "text/x-python",
   "name": "python",
   "nbconvert_exporter": "python",
   "pygments_lexer": "ipython3",
   "version": "3.12.2"
  }
 },
 "nbformat": 4,
 "nbformat_minor": 5
}
