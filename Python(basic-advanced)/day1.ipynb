{
 "cells": [
  {
   "cell_type": "markdown",
   "id": "6b8c356c-e599-47c3-86ad-49d206243c16",
   "metadata": {},
   "source": [
    "### Python Basics"
   ]
  },
  {
   "cell_type": "code",
   "execution_count": 1,
   "id": "d8285eae-01e9-4872-b58c-1820fb6e6004",
   "metadata": {},
   "outputs": [
    {
     "name": "stdout",
     "output_type": "stream",
     "text": [
      "Hello, world!\n",
      "Name: Rose\n"
     ]
    }
   ],
   "source": [
    "print(\"Hello, world!\")  # Simple string (printing hello world)\n",
    "print(\"Name:\", \"Rose\")  # Multiple values, default separator is a space"
   ]
  },
  {
   "cell_type": "code",
   "execution_count": 2,
   "id": "27830676-cafb-4a69-82ec-93ca703d892e",
   "metadata": {},
   "outputs": [
    {
     "name": "stdout",
     "output_type": "stream",
     "text": [
      "10 I am an AI student 10.0\n"
     ]
    }
   ],
   "source": [
    "#Variables and data types (int, float, str, bool)\n",
    "x = 10\n",
    "y = \"I am an AI student\"\n",
    "z = 10.0\n",
    "print (x,y,z)"
   ]
  },
  {
   "cell_type": "code",
   "execution_count": 5,
   "id": "046be5ff-e33d-406c-bb53-35fa6c1650f5",
   "metadata": {},
   "outputs": [
    {
     "name": "stdin",
     "output_type": "stream",
     "text": [
      "What color is rose?:  pink\n"
     ]
    },
    {
     "name": "stdout",
     "output_type": "stream",
     "text": [
      "pink\n"
     ]
    }
   ],
   "source": [
    "# basic input and output function\n",
    "# Taking input as string\n",
    "color = input(\"What color is rose?: \")\n",
    "print(color)"
   ]
  },
  {
   "cell_type": "code",
   "execution_count": 6,
   "id": "73751e83-2316-4ac1-b499-8138f79b72b8",
   "metadata": {},
   "outputs": [
    {
     "name": "stdin",
     "output_type": "stream",
     "text": [
      "Price of each rose?:  90.0\n"
     ]
    },
    {
     "name": "stdout",
     "output_type": "stream",
     "text": [
      "90.0\n"
     ]
    }
   ],
   "source": [
    "# Taking input as float\n",
    "price = float(input(\"Price of each rose?: \"))\n",
    "print(price)\n"
   ]
  },
  {
   "cell_type": "code",
   "execution_count": 7,
   "id": "51e88a02-a9e0-49f8-afc4-44cf457e1a6b",
   "metadata": {},
   "outputs": [
    {
     "name": "stdin",
     "output_type": "stream",
     "text": [
      "Enter a num:  8\n"
     ]
    },
    {
     "name": "stdout",
     "output_type": "stream",
     "text": [
      "You entered: 8\n"
     ]
    }
   ],
   "source": [
    "# Taking input as integer\n",
    "num = int(input(\"Enter a num: \"))\n",
    "print(\"You entered:\", num)"
   ]
  },
  {
   "cell_type": "code",
   "execution_count": 4,
   "id": "2f08a32c-d4d0-4d26-a1cc-922caa085eba",
   "metadata": {},
   "outputs": [
    {
     "name": "stdin",
     "output_type": "stream",
     "text": [
      "Enter a condition: 7\n"
     ]
    },
    {
     "name": "stdout",
     "output_type": "stream",
     "text": [
      "The number is: True\n"
     ]
    }
   ],
   "source": [
    "# Taking input as boolean\n",
    "r = bool(input(\"Enter a condition:\"))\n",
    "print(\"The number is:\", r)"
   ]
  },
  {
   "cell_type": "code",
   "execution_count": 8,
   "id": "846a8342-fbbc-47b3-825a-c4a9af695326",
   "metadata": {},
   "outputs": [
    {
     "name": "stdin",
     "output_type": "stream",
     "text": [
      "Enter a number:  7\n"
     ]
    },
    {
     "name": "stdout",
     "output_type": "stream",
     "text": [
      "Double the number is: 14\n"
     ]
    }
   ],
   "source": [
    "#Type casting and conversion\n",
    "num_str = input(\"Enter a number: \")\n",
    "\n",
    "# Convert string to integer using type casting\n",
    "num = int(num_str)\n",
    "\n",
    "# Use it as a number\n",
    "print(\"Double the number is:\", num * 2)\n"
   ]
  },
  {
   "cell_type": "code",
   "execution_count": 21,
   "id": "223eeefe-5dfe-4b42-9ebf-6eb707e4d3ea",
   "metadata": {},
   "outputs": [
    {
     "name": "stdin",
     "output_type": "stream",
     "text": [
      "Enter a number word:  eight\n"
     ]
    },
    {
     "name": "stdout",
     "output_type": "stream",
     "text": [
      "Converted number: 8\n"
     ]
    }
   ],
   "source": [
    "words = {\n",
    "    \"zero\": 0, \"one\": 1, \"two\": 2, \"three\": 3,\n",
    "    \"four\": 4, \"five\": 5, \"six\": 6, \"seven\": 7,\n",
    "    \"eight\": 8, \"nine\": 9, \"ten\": 10\n",
    "}\n",
    "\n",
    "# Take input from the user and convert it to lowercase for consistent matching\n",
    "num_str = input(\"Enter a number word: \").lower()\n",
    "\n",
    "# Check if the entered word exists \n",
    "if num_str in words:\n",
    "    # If found get the corresponding integer value\n",
    "    num = words[num_str]\n",
    "    print(\"Converted number:\", num)\n",
    "else:\n",
    "    # If not found inform the user about invalid input\n",
    "    print(\"Invalid input! Please enter a number word from zero to ten.\")\n"
   ]
  },
  {
   "cell_type": "code",
   "execution_count": 24,
   "id": "885179b8-e13a-4c31-8adb-d74a100d1142",
   "metadata": {},
   "outputs": [
    {
     "name": "stdin",
     "output_type": "stream",
     "text": [
      "Enter first number:  5\n",
      "Enter second number:  7\n"
     ]
    },
    {
     "name": "stdout",
     "output_type": "stream",
     "text": [
      "Sum of numbers: 12\n"
     ]
    }
   ],
   "source": [
    "#Opreatos\n",
    "# Adding two numbers from user input\n",
    "num1 = int(input(\"Enter first number: \"))\n",
    "num2 = int(input(\"Enter second number: \"))\n",
    "sum_result = num1 + num2\n",
    "print(\"Sum of numbers:\", sum_result)"
   ]
  },
  {
   "cell_type": "code",
   "execution_count": 34,
   "id": "84cadd9c-e411-47d3-82fe-b141ee0f9723",
   "metadata": {},
   "outputs": [
    {
     "name": "stdin",
     "output_type": "stream",
     "text": [
      "Enter first number:  9\n",
      "Enter second number:  8\n"
     ]
    },
    {
     "name": "stdout",
     "output_type": "stream",
     "text": [
      "Sub of numbers: 1\n"
     ]
    }
   ],
   "source": [
    "# Subtracting two number from user input\n",
    "num1 = int(input(\"Enter first number: \"))\n",
    "num2 = int(input(\"Enter second number: \"))\n",
    "sub_result = num1 - num2\n",
    "print(\"Sub of numbers:\", sub_result)"
   ]
  },
  {
   "cell_type": "code",
   "execution_count": 35,
   "id": "20135c55-7e69-470d-9830-210f27de5f7b",
   "metadata": {},
   "outputs": [
    {
     "name": "stdin",
     "output_type": "stream",
     "text": [
      "Enter first number:  8\n",
      "Enter second number:  5\n"
     ]
    },
    {
     "name": "stdout",
     "output_type": "stream",
     "text": [
      "Multiply numbers: 40\n"
     ]
    }
   ],
   "source": [
    "# Multiplying two number from user input\n",
    "num1 = int(input(\"Enter first number: \"))\n",
    "num2 = int(input(\"Enter second number: \"))\n",
    "multiple_result = num1 * num2\n",
    "print(\"Multiply numbers:\", multiple_result)"
   ]
  },
  {
   "cell_type": "code",
   "execution_count": 36,
   "id": "91e67b3a-6ee0-4f7c-9fc6-61a529943a03",
   "metadata": {},
   "outputs": [
    {
     "name": "stdin",
     "output_type": "stream",
     "text": [
      "Enter first number:  9\n",
      "Enter second number:  3\n"
     ]
    },
    {
     "name": "stdout",
     "output_type": "stream",
     "text": [
      "Division  numbers: 3.0\n"
     ]
    }
   ],
   "source": [
    "# Dividing two number from user input\n",
    "num1 = int(input(\"Enter first number: \"))\n",
    "num2 = int(input(\"Enter second number: \"))\n",
    "div_result = num1 / num2\n",
    "print(\"Division  numbers:\", div_result)"
   ]
  },
  {
   "cell_type": "code",
   "execution_count": 38,
   "id": "06c0077c-5c9e-4383-9e93-2364cb560e09",
   "metadata": {},
   "outputs": [
    {
     "name": "stdin",
     "output_type": "stream",
     "text": [
      "Enter first number:  9\n",
      "Enter second number:  3\n"
     ]
    },
    {
     "name": "stdout",
     "output_type": "stream",
     "text": [
      "Div numbers: 3\n"
     ]
    }
   ],
   "source": [
    "# Division two number from user input without float\n",
    "num1 = int(input(\"Enter first number: \"))\n",
    "num2 = int(input(\"Enter second number: \"))\n",
    "div_result = num1 // num2\n",
    "print(\"Div numbers:\", div_result)"
   ]
  },
  {
   "cell_type": "code",
   "execution_count": 40,
   "id": "501d2947-0cd5-44aa-be64-f203d436b00d",
   "metadata": {},
   "outputs": [
    {
     "name": "stdin",
     "output_type": "stream",
     "text": [
      "Enter the dividend :  9\n",
      "Enter the divisor :  3\n"
     ]
    },
    {
     "name": "stdout",
     "output_type": "stream",
     "text": [
      "Reminder is: 0\n"
     ]
    }
   ],
   "source": [
    "# reminder\n",
    "num1 = int(input(\"Enter the dividend : \"))\n",
    "num2 = int(input(\"Enter the divisor : \"))\n",
    "# Calculate the remainder\n",
    "remainder = num1 % num2\n",
    "# Print the result\n",
    "print(\"Reminder is:\", remainder)"
   ]
  },
  {
   "cell_type": "code",
   "execution_count": 43,
   "id": "bbf6edca-822f-406f-946d-bd6e297dbcd3",
   "metadata": {},
   "outputs": [
    {
     "name": "stdin",
     "output_type": "stream",
     "text": [
      "Enter the base number:  3\n",
      "Enter the exponent:  5\n"
     ]
    },
    {
     "name": "stdout",
     "output_type": "stream",
     "text": [
      "Exponential power is: 243\n"
     ]
    }
   ],
   "source": [
    "# exponent\n",
    "base = int(input(\"Enter the base number: \"))\n",
    "exponent = int(input(\"Enter the exponent: \"))\n",
    "# Calculate power\n",
    "result = base ** exponent\n",
    "\n",
    "# Print the result\n",
    "print(\"Exponential power is:\", result)\n"
   ]
  },
  {
   "cell_type": "code",
   "execution_count": 45,
   "id": "8a5f73d9-0271-46fc-9f84-50108163fc48",
   "metadata": {},
   "outputs": [
    {
     "name": "stdin",
     "output_type": "stream",
     "text": [
      "Enter first number:  8\n",
      "Enter second number:  10\n"
     ]
    },
    {
     "name": "stdout",
     "output_type": "stream",
     "text": [
      "8 == 10 : False\n",
      "8 != 10 : True\n",
      "8 > 10 : False\n",
      "8 < 10 : True\n",
      "8 >= 10 : False\n",
      "8 <= 10 : True\n"
     ]
    }
   ],
   "source": [
    "# Taking two number for user for comparison\n",
    "num1 = int(input(\"Enter first number: \"))\n",
    "num2 = int(input(\"Enter second number: \"))\n",
    "\n",
    "# Compare the numbers\n",
    "print(num1, \"==\", num2, \":\", num1 == num2)  # Equal to\n",
    "print(num1, \"!=\", num2, \":\", num1 != num2)  # Not equal to\n",
    "print(num1, \">\", num2, \":\", num1 > num2)    # Greater than\n",
    "print(num1, \"<\", num2, \":\", num1 < num2)    # Less than\n",
    "print(num1, \">=\", num2, \":\", num1 >= num2)  # Greater than or equal to\n",
    "print(num1, \"<=\", num2, \":\", num1 <= num2)  # Less than or equal to\n"
   ]
  },
  {
   "cell_type": "code",
   "execution_count": 50,
   "id": "fcd28ba0-3a94-4233-b04c-51926b263c09",
   "metadata": {},
   "outputs": [
    {
     "name": "stdout",
     "output_type": "stream",
     "text": [
      "Does 14 lie between p and q?: True\n",
      "Suitable?: True\n",
      "Is the condition true?: False\n"
     ]
    }
   ],
   "source": [
    "# Example for logical \n",
    "p = 11\n",
    "q = 17\n",
    "\n",
    "print(f\"Does 14 lie between p and q?: {16 > p and 16 < q}\")\n",
    "\n",
    "print(f\"Suitable?: {16 < p or 16 < q}\")\n",
    "\n",
    "print(f\"Is the condition true?: {not (16 > p and 16 < q)}\")"
   ]
  },
  {
   "cell_type": "markdown",
   "id": "9c6d212f-7b82-4023-b34d-d87998733e4d",
   "metadata": {},
   "source": [
    "### Control Flow"
   ]
  },
  {
   "cell_type": "code",
   "execution_count": 51,
   "id": "f3956c52-485f-41b3-912f-67cd53aefc83",
   "metadata": {},
   "outputs": [
    {
     "name": "stdin",
     "output_type": "stream",
     "text": [
      "Enter your age:  80\n"
     ]
    },
    {
     "name": "stdout",
     "output_type": "stream",
     "text": [
      "You are an adult.\n"
     ]
    }
   ],
   "source": [
    "# exampme for if, elif, else statements\n",
    "age = int(input(\"Enter your age: \")) # Get age from user\n",
    "\n",
    "if age < 13:\n",
    "    print(\"You are a child.\")\n",
    "elif age < 20:\n",
    "    print(\"You are a teenager.\")\n",
    "else:\n",
    "    print(\"You are an adult.\")\n"
   ]
  },
  {
   "cell_type": "code",
   "execution_count": 57,
   "id": "244a595d-3b40-4086-a24b-8de91485fedf",
   "metadata": {},
   "outputs": [
    {
     "name": "stdin",
     "output_type": "stream",
     "text": [
      "Enter your age:  8\n"
     ]
    },
    {
     "name": "stdout",
     "output_type": "stream",
     "text": [
      "Not eligible to vote\n"
     ]
    }
   ],
   "source": [
    "# example for nested statement\n",
    "i = int(input(\"Enter your age: \"))\n",
    "\n",
    "if i >= 0:  # Check if age is valid\n",
    "    if i < 18:\n",
    "        print(\"Not eligible to vote\")\n",
    "    else:\n",
    "        print(\"Eligible to vote\")\n",
    "else:\n",
    "    print(\"Invalid age\")\n"
   ]
  },
  {
   "cell_type": "code",
   "execution_count": 61,
   "id": "c71c9a6a-ab5e-4df5-b98f-ea074f71131f",
   "metadata": {},
   "outputs": [
    {
     "name": "stdin",
     "output_type": "stream",
     "text": [
      "Are you sick today? (yes/no):  yes\n",
      "Do you go for a work? (yes/no):  yes\n"
     ]
    },
    {
     "name": "stdout",
     "output_type": "stream",
     "text": [
      "a AND b: True\n",
      "a OR b: True\n",
      "NOT a: False\n"
     ]
    }
   ],
   "source": [
    "#Boolean logic (and, or, not)\n",
    "a = input(\"Are you sick today? (yes/no): \").lower() == \"yes\"\n",
    "b = input(\"Do you go for a work? (yes/no): \").lower() == \"yes\"\n",
    "\n",
    "# Boolean logic results\n",
    "print(\"a AND b:\", a and b)\n",
    "print(\"a OR b:\", a or b)\n",
    "print(\"NOT a:\", not a)"
   ]
  },
  {
   "cell_type": "markdown",
   "id": "608d9776-7373-4037-98d5-e734d5ef0ee4",
   "metadata": {},
   "source": [
    "### Loops"
   ]
  },
  {
   "cell_type": "code",
   "execution_count": 63,
   "id": "1895725a-b417-411c-a7f4-de98b3cd690e",
   "metadata": {},
   "outputs": [
    {
     "name": "stdout",
     "output_type": "stream",
     "text": [
      "Cherry\n",
      "Mango\n",
      "Kiwi\n"
     ]
    }
   ],
   "source": [
    "#Example for For loop\n",
    "fruits = [\"Cherry\", \"Mango\", \"Kiwi\"]\n",
    "for x in fruits:\n",
    "  print(x)"
   ]
  },
  {
   "cell_type": "code",
   "execution_count": 64,
   "id": "1e2519ff-09c0-45c3-a20d-f43628d4e5c6",
   "metadata": {},
   "outputs": [
    {
     "name": "stdout",
     "output_type": "stream",
     "text": [
      "1\n",
      "2\n",
      "3\n",
      "4\n",
      "5\n"
     ]
    }
   ],
   "source": [
    "# Example for while loop\n",
    "i = 1\n",
    "while i < 6:\n",
    "  print(i)\n",
    "  i += 1"
   ]
  },
  {
   "cell_type": "code",
   "execution_count": 71,
   "id": "41cac741-b20e-409d-8c71-25acc1a0c458",
   "metadata": {},
   "outputs": [
    {
     "name": "stdout",
     "output_type": "stream",
     "text": [
      "1\n",
      "2\n",
      "3\n",
      "4\n",
      "5\n",
      "6\n",
      "7\n",
      "8\n",
      "9\n"
     ]
    }
   ],
   "source": [
    "# Example for pass\n",
    "for i in range(1, 10):\n",
    "    if i == 2:\n",
    "        pass  # placeholder, no action\n",
    "    print(i)"
   ]
  },
  {
   "cell_type": "code",
   "execution_count": 72,
   "id": "dce0fb50-bfb5-4b34-92f6-9a94cbfc16d7",
   "metadata": {},
   "outputs": [
    {
     "name": "stdout",
     "output_type": "stream",
     "text": [
      "1\n",
      "2\n"
     ]
    }
   ],
   "source": [
    "#Example for break \n",
    "for i in range(1, 10):\n",
    "    if i == 2:\n",
    "        print( i)\n",
    "        break  \n",
    "    print(i)"
   ]
  },
  {
   "cell_type": "code",
   "execution_count": 74,
   "id": "47e8ccd3-1ecc-422e-ac92-d7811ce6e168",
   "metadata": {},
   "outputs": [
    {
     "name": "stdout",
     "output_type": "stream",
     "text": [
      "1\n",
      "2\n",
      "3\n",
      "4\n",
      "5\n",
      "6\n",
      "7\n",
      "8\n",
      "9\n"
     ]
    }
   ],
   "source": [
    "#Example for continuous\n",
    "for i in range(1, 10):\n",
    "    if i == 4:\n",
    "        print( i)\n",
    "        continue  \n",
    "    print(i)"
   ]
  },
  {
   "cell_type": "code",
   "execution_count": 76,
   "id": "e8ddf960-98dd-46f9-a4c8-d828d8910dfe",
   "metadata": {},
   "outputs": [
    {
     "name": "stdin",
     "output_type": "stream",
     "text": [
      "Enter a number:  4\n"
     ]
    },
    {
     "name": "stdout",
     "output_type": "stream",
     "text": [
      "Numbers from 1 to 4\n",
      "1\n",
      "2\n",
      "3\n",
      "4\n"
     ]
    }
   ],
   "source": [
    "# Looping through number(range)\n",
    "# Print numbers from 1 to user entered number\n",
    "end = int(input(\"Enter a number: \"))\n",
    "\n",
    "print(\"Numbers from 1 to\", end)\n",
    "for i in range(1, end + 1):\n",
    "    print(i)\n"
   ]
  },
  {
   "cell_type": "code",
   "execution_count": null,
   "id": "81db8b08-97e6-4333-a3ed-96eabae1b33b",
   "metadata": {},
   "outputs": [],
   "source": [
    "# looping though index (enumerate)\n",
    "# Get 3 favorite fruits and print with index\n",
    "fruits = []\n",
    "\n",
    "for i in range(3):\n",
    "    fruit = input(f\"Enter fruit {i+1}: \")\n",
    "    fruits.append(fruit)\n",
    "\n",
    "print(\"Your fruits:\")\n",
    "for index, fruit in enumerate(fruits):\n",
    "    print(str(index) + \": \" + fruit)\n"
   ]
  },
  {
   "cell_type": "code",
   "execution_count": 81,
   "id": "b87bf033-209e-446b-84bd-b6b0e16a2c98",
   "metadata": {},
   "outputs": [
    {
     "name": "stdin",
     "output_type": "stream",
     "text": [
      "Enter student 1 name:  rose\n",
      "Enter marks for rose:  90\n",
      "Enter student 2 name:  sam\n",
      "Enter marks for sam:  99\n",
      "Enter student 3 name:  nat\n",
      "Enter marks for nat:  67\n"
     ]
    },
    {
     "name": "stdout",
     "output_type": "stream",
     "text": [
      "\n",
      "Student Results:\n",
      "rose got 90\n",
      "sam got 99\n",
      "nat got 67\n"
     ]
    }
   ],
   "source": [
    "# Looping through multiple lists together(zip)\n",
    "# Ask for 3 student names and 3 marks, then show them side-by-side\n",
    "students = []\n",
    "marks = []\n",
    "\n",
    "for i in range(3):\n",
    "    name = input(f\"Enter student {i+1} name: \")\n",
    "    mark = input(f\"Enter marks for {name}: \")\n",
    "    students.append(name)\n",
    "    marks.append(mark)\n",
    "\n",
    "print(\"\\nStudent Results:\")\n",
    "for name, mark in zip(students, marks):\n",
    "    print(name, \"got\", mark)\n"
   ]
  },
  {
   "cell_type": "markdown",
   "id": "b1fecde7-0014-4ac1-acd4-108465544c69",
   "metadata": {},
   "source": [
    "### Data Structure"
   ]
  },
  {
   "cell_type": "code",
   "execution_count": 82,
   "id": "0b7a1ba0-5549-495c-a6bc-4fa6f2e27f05",
   "metadata": {},
   "outputs": [
    {
     "name": "stdin",
     "output_type": "stream",
     "text": [
      "Enter a color:  red\n",
      "Enter a color:  blue\n",
      "Enter a color:  red\n"
     ]
    },
    {
     "name": "stdout",
     "output_type": "stream",
     "text": [
      "Your favorite colors are: ['red', 'blue', 'red']\n"
     ]
    }
   ],
   "source": [
    "# Example for Lists, Tuples, Dictionaries, Sets\n",
    "# List example (ordered, changeable, allows duplicates)\n",
    "colors = []\n",
    "for i in range(3):\n",
    "    color = input(\"Enter a color: \")\n",
    "    colors.append(color)\n",
    "\n",
    "print(\"Your favorite colors are:\", colors)"
   ]
  },
  {
   "cell_type": "code",
   "execution_count": 83,
   "id": "79b2681c-0955-44f9-8a12-b02f18e8022c",
   "metadata": {},
   "outputs": [
    {
     "name": "stdin",
     "output_type": "stream",
     "text": [
      "Enter a name:  nat\n",
      "Enter a name:  aaditi\n",
      "Enter a name:  rose\n"
     ]
    },
    {
     "name": "stdout",
     "output_type": "stream",
     "text": [
      "Names entered: ('nat', 'aaditi', 'rose')\n"
     ]
    }
   ],
   "source": [
    "# Tuple example (ordered, unchangeable, allows duplicates)\n",
    "names = ()\n",
    "for i in range(3):\n",
    "    name = input(\"Enter a name: \")\n",
    "    names = names + (name,)\n",
    "\n",
    "print(\"Names entered:\", names)\n"
   ]
  },
  {
   "cell_type": "code",
   "execution_count": 84,
   "id": "2f490b6e-1880-4716-a7ee-cfb46c9be733",
   "metadata": {},
   "outputs": [
    {
     "name": "stdin",
     "output_type": "stream",
     "text": [
      "Enter your name:  Rose\n",
      "Enter your age:  20\n"
     ]
    },
    {
     "name": "stdout",
     "output_type": "stream",
     "text": [
      "Student info: {'Name': 'Rose', 'Age': '20'}\n"
     ]
    }
   ],
   "source": [
    "# Dictionary example (key-value pairs, unordered, changeable, no duplicates in keys)\n",
    "student = {}\n",
    "name = input(\"Enter your name: \")\n",
    "age = input(\"Enter your age: \")\n",
    "student[\"Name\"] = name\n",
    "student[\"Age\"] = age\n",
    "\n",
    "print(\"Student info:\", student)\n"
   ]
  },
  {
   "cell_type": "code",
   "execution_count": 86,
   "id": "c247e73b-4c13-49f8-a3cb-0c2e0488119b",
   "metadata": {},
   "outputs": [
    {
     "name": "stdin",
     "output_type": "stream",
     "text": [
      "Enter a number:  2\n",
      "Enter a number:  3\n",
      "Enter a number:  6\n",
      "Enter a number:  2\n",
      "Enter a number:  4\n"
     ]
    },
    {
     "name": "stdout",
     "output_type": "stream",
     "text": [
      "Unique numbers you entered: {'6', '2', '3', '4'}\n"
     ]
    }
   ],
   "source": [
    "# Set example (unordered, no duplicates)\n",
    "numbers = set()\n",
    "for i in range(5):\n",
    "    num = input(\"Enter a number: \")\n",
    "    numbers.add(num)\n",
    "\n",
    "print(\"Unique numbers you entered:\", numbers)"
   ]
  },
  {
   "cell_type": "code",
   "execution_count": 89,
   "id": "8331e4c0-1048-430f-8f22-aeeb2fc462af",
   "metadata": {},
   "outputs": [
    {
     "name": "stdin",
     "output_type": "stream",
     "text": [
      "Enter number 1:  3\n",
      "Enter number 2:  5\n",
      "Enter number 3:  6\n"
     ]
    },
    {
     "name": "stdout",
     "output_type": "stream",
     "text": [
      "Original numbers: [3, 5, 6]\n",
      "Squares: [9, 25, 36]\n",
      "Cubes: {3: 27, 5: 125, 6: 216}\n",
      "Even numbers: {6}\n"
     ]
    }
   ],
   "source": [
    "#Comprehensions (list, dict, set)\n",
    "# Ask user to enter 3 numbers\n",
    "nums = [int(input(\"Enter number {}: \".format(i+1))) for i in range(3)]\n",
    "\n",
    "# LIST COMPREHENSION \n",
    "# Square each number\n",
    "squares = [x**2 for x in nums]\n",
    "\n",
    "# DICT COMPREHENSION \n",
    "cubes = {x: x**3 for x in nums}\n",
    "\n",
    "# SET COMPREHENSION \n",
    "# Create a set of only even numbers from input\n",
    "evens = {x for x in nums if x % 2 == 0}\n",
    "\n",
    "print(\"Original numbers:\", nums)\n",
    "print(\"Squares:\", squares)\n",
    "print(\"Cubes:\", cubes)\n",
    "print(\"Even numbers:\", evens)\n"
   ]
  },
  {
   "cell_type": "code",
   "execution_count": 92,
   "id": "1fab6118-7b53-4a03-a13e-ff707bd2918c",
   "metadata": {},
   "outputs": [
    {
     "name": "stdin",
     "output_type": "stream",
     "text": [
      "Enter fruit 1:  cherry\n",
      "Enter fruit 2:  banana\n",
      "Enter fruit 3:  apple\n",
      "Enter fruit 4:  pineapple\n",
      "Enter fruit 5:  kiwi\n"
     ]
    },
    {
     "name": "stdout",
     "output_type": "stream",
     "text": [
      "First fruit: cherry\n",
      "Last fruit: kiwi\n",
      "First three fruits: ['cherry', 'banana', 'apple']\n"
     ]
    },
    {
     "name": "stdin",
     "output_type": "stream",
     "text": [
      "Enter a fruit to replace the second one:  dragoon fruit\n"
     ]
    },
    {
     "name": "stdout",
     "output_type": "stream",
     "text": [
      "Updated fruits: ['cherry', 'dragoon fruit', 'apple', 'pineapple', 'kiwi']\n",
      "After deleting the 4th fruit: ['cherry', 'dragoon fruit', 'apple', 'kiwi']\n"
     ]
    },
    {
     "name": "stdin",
     "output_type": "stream",
     "text": [
      "Enter the name of a fruit to remove:  cherry\n"
     ]
    },
    {
     "name": "stdout",
     "output_type": "stream",
     "text": [
      "After removing cherry: ['dragoon fruit', 'apple', 'kiwi']\n"
     ]
    }
   ],
   "source": [
    "# Basic operations (slicing, indexing, updating, deleting)\n",
    "fruits = []\n",
    "for i in range(5):\n",
    "    fruit = input(\"Enter fruit \" + str(i + 1) + \": \")\n",
    "    fruits.append(fruit)\n",
    "\n",
    "# Indexing (accessing elements)\n",
    "print(\"First fruit:\", fruits[0])\n",
    "print(\"Last fruit:\", fruits[-1])\n",
    "\n",
    "# Slicing \n",
    "print(\"First three fruits:\", fruits[0:3])\n",
    "\n",
    "# Updating\n",
    "new_fruit = input(\"Enter a fruit to replace the second one: \")\n",
    "fruits[1] = new_fruit\n",
    "print(\"Updated fruits:\", fruits)\n",
    "\n",
    "# Deleting an item by index\n",
    "del fruits[3]\n",
    "print(\"After deleting the 4th fruit:\", fruits)\n",
    "\n",
    "# Deleting an item by value\n",
    "fruit_to_remove = input(\"Enter the name of a fruit to remove: \")\n",
    "if fruit_to_remove in fruits:\n",
    "    fruits.remove(fruit_to_remove)\n",
    "    print(\"After removing\", fruit_to_remove + \":\", fruits)\n",
    "else:\n",
    "    print(fruit_to_remove + \" not found in the list.\")\n"
   ]
  },
  {
   "cell_type": "markdown",
   "id": "46339826-40f7-4911-9d15-e2d501f10d57",
   "metadata": {},
   "source": [
    "### Functions"
   ]
  },
  {
   "cell_type": "code",
   "execution_count": 93,
   "id": "a019d1ab-964c-494f-89de-b6ef3364b981",
   "metadata": {},
   "outputs": [
    {
     "name": "stdin",
     "output_type": "stream",
     "text": [
      "Enter your name:  Rose\n"
     ]
    },
    {
     "name": "stdout",
     "output_type": "stream",
     "text": [
      "Hello Rose! Welcome to Python.\n"
     ]
    }
   ],
   "source": [
    "# Defining functions with def\n",
    "def greet(name):\n",
    "    print(\"Hello \" + name + \"! Welcome to Python.\")\n",
    "user_name = input(\"Enter your name: \")\n",
    "greet(user_name)"
   ]
  },
  {
   "cell_type": "code",
   "execution_count": 94,
   "id": "cb539481-f29d-4328-a386-0f52869b66ac",
   "metadata": {},
   "outputs": [
    {
     "name": "stdin",
     "output_type": "stream",
     "text": [
      "Enter first number:  5\n",
      "Enter second number:  8\n"
     ]
    },
    {
     "name": "stdout",
     "output_type": "stream",
     "text": [
      "The sum is: 13\n"
     ]
    }
   ],
   "source": [
    "# Arguments and return value\n",
    "def add_numbers(num1, num2):\n",
    "    result = num1 + num2\n",
    "    return result\n",
    "a = int(input(\"Enter first number: \"))\n",
    "b = int(input(\"Enter second number: \"))\n",
    "\n",
    "# Call the function and store the result\n",
    "sum_result = add_numbers(a, b)\n",
    "print(\"The sum is:\", sum_result)\n"
   ]
  },
  {
   "cell_type": "code",
   "execution_count": 95,
   "id": "4044ab89-7c90-4f16-a5cb-49af7e90b2b3",
   "metadata": {},
   "outputs": [
    {
     "name": "stdin",
     "output_type": "stream",
     "text": [
      "Do you want to enter your name? (yes/no):  yes\n",
      "Enter your name:  Rose\n"
     ]
    },
    {
     "name": "stdout",
     "output_type": "stream",
     "text": [
      "Hello, Rose\n"
     ]
    }
   ],
   "source": [
    "# Example of Default Argument\n",
    "def greet(name=\"Guest\"):\n",
    "    print(\"Hello,\", name)\n",
    "\n",
    "# Ask user if they want to enter their name\n",
    "choice = input(\"Do you want to enter your name? (yes/no): \")\n",
    "\n",
    "if choice.lower() == \"yes\":\n",
    "    user_name = input(\"Enter your name: \")\n",
    "    greet(user_name)  # uses user input\n",
    "else:\n",
    "    greet()  # uses default \"Guest\"\n"
   ]
  },
  {
   "cell_type": "code",
   "execution_count": 99,
   "id": "cebb6228-aef9-4d68-a0de-f5083c700830",
   "metadata": {},
   "outputs": [
    {
     "name": "stdin",
     "output_type": "stream",
     "text": [
      "Enter name:  Aaditi\n",
      "Enter age:  21\n",
      "Enter major:  AI\n"
     ]
    },
    {
     "name": "stdout",
     "output_type": "stream",
     "text": [
      "Student info: Name: Aaditi Age: 21 Major: AI\n"
     ]
    }
   ],
   "source": [
    "# Example of Keyword Argument\n",
    "def student_info(name, age, major):\n",
    "    print(\"Name:\", name)\n",
    "    print(\"Age:\", age)\n",
    "    print(\"Major:\", major)\n",
    "\n",
    "# Ask for inputs\n",
    "name = input(\"Enter name: \")\n",
    "age = input(\"Enter age: \")\n",
    "major = input(\"Enter major: \")\n",
    "\n",
    "print(\"Student info:\", \"Name:\", name, \"Age:\", age, \"Major:\", major)"
   ]
  },
  {
   "cell_type": "code",
   "execution_count": 100,
   "id": "069d6a18-bbc5-4932-8ce2-172a9322626a",
   "metadata": {},
   "outputs": [
    {
     "name": "stdin",
     "output_type": "stream",
     "text": [
      "Enter number 1:  4\n",
      "Enter number 2:  7\n",
      "Enter number 3:  9\n"
     ]
    },
    {
     "name": "stdout",
     "output_type": "stream",
     "text": [
      "Numbers you entered:\n",
      "4\n",
      "7\n",
      "9\n"
     ]
    }
   ],
   "source": [
    "#Example for args\n",
    "def show_numbers(*args):\n",
    "    print(\"Numbers you entered:\")\n",
    "    for num in args:\n",
    "        print(num)\n",
    "\n",
    "# Ask for input\n",
    "num1 = int(input(\"Enter number 1: \"))\n",
    "num2 = int(input(\"Enter number 2: \"))\n",
    "num3 = int(input(\"Enter number 3: \"))\n",
    "\n",
    "show_numbers(num1, num2, num3)"
   ]
  },
  {
   "cell_type": "code",
   "execution_count": 101,
   "id": "e9c05472-a6c4-4519-9d67-07ae9c2d9a47",
   "metadata": {},
   "outputs": [
    {
     "name": "stdin",
     "output_type": "stream",
     "text": [
      "Enter your name:  Rose\n",
      "Enter your age:  20\n",
      "Enter your hobby:  Play Guitar\n"
     ]
    },
    {
     "name": "stdout",
     "output_type": "stream",
     "text": [
      "Profile Info:\n",
      "name : Rose\n",
      "age : 20\n",
      "hobby : Play Guitar\n"
     ]
    }
   ],
   "source": [
    "#Example for kwargs\n",
    "def show_profile(**kwargs):\n",
    "    print(\"Profile Info:\")\n",
    "    for key, value in kwargs.items():\n",
    "        print(key, \":\", value)\n",
    "\n",
    "# Ask for input\n",
    "name = input(\"Enter your name: \")\n",
    "age = input(\"Enter your age: \")\n",
    "hobby = input(\"Enter your hobby: \")\n",
    "\n",
    "show_profile(name=name, age=age, hobby=hobby)"
   ]
  },
  {
   "cell_type": "code",
   "execution_count": 106,
   "id": "2a6a0557-c429-4b0a-adbe-3c6d46dad0ec",
   "metadata": {},
   "outputs": [
    {
     "name": "stdout",
     "output_type": "stream",
     "text": [
      "Square of 5 is: 25\n"
     ]
    }
   ],
   "source": [
    "# Lambda functions\n",
    "square = lambda x: x ** 2 # Square of a number\n",
    "print(\"Square of 5 is:\", square(5))"
   ]
  },
  {
   "cell_type": "code",
   "execution_count": 114,
   "id": "c164843e-b6b0-4bd7-9c97-af54578136b3",
   "metadata": {},
   "outputs": [
    {
     "name": "stdout",
     "output_type": "stream",
     "text": [
      "13\n"
     ]
    }
   ],
   "source": [
    "x = lambda a, b, c : a + b + c\n",
    "print(x(5, 6, 2))"
   ]
  },
  {
   "cell_type": "code",
   "execution_count": 115,
   "id": "10dab057-eae4-4f3f-9c1f-02067245ca21",
   "metadata": {},
   "outputs": [
    {
     "name": "stdout",
     "output_type": "stream",
     "text": [
      "10\n",
      "20\n",
      "30\n",
      "40\n"
     ]
    }
   ],
   "source": [
    "# Lambda with List Comprehension\n",
    "li = [lambda arg=x: arg * 10 for x in range(1, 5)]\n",
    "for i in li:\n",
    "    print(i())"
   ]
  },
  {
   "cell_type": "code",
   "execution_count": 117,
   "id": "15ed905e-35c2-4528-bbc0-1fbc9500d12a",
   "metadata": {},
   "outputs": [
    {
     "name": "stdin",
     "output_type": "stream",
     "text": [
      "Enter a number:  4\n"
     ]
    },
    {
     "name": "stdout",
     "output_type": "stream",
     "text": [
      "The number is Even\n"
     ]
    }
   ],
   "source": [
    "# lambda with if else\n",
    "# Lambda function to check even or odd\n",
    "check = lambda x: \"Even\" if x % 2 == 0 else \"Odd\"\n",
    "num = int(input(\"Enter a number: \"))\n",
    "print(\"The number is\", check(num))\n"
   ]
  },
  {
   "cell_type": "code",
   "execution_count": 111,
   "id": "39644792-e19a-4e6a-9f1d-fa438605cf04",
   "metadata": {},
   "outputs": [
    {
     "name": "stdout",
     "output_type": "stream",
     "text": [
      "x inside function: 1\n",
      "x inside function: 2\n",
      "x outside function: 2\n"
     ]
    }
   ],
   "source": [
    "# Using global keyword\n",
    "x = 0\n",
    "def increase():\n",
    "    global x\n",
    "    x += 1\n",
    "    print(\"x inside function:\", x)\n",
    "\n",
    "# Call it a few times\n",
    "increase()\n",
    "increase()\n",
    "print(\"x outside function:\", x)"
   ]
  },
  {
   "cell_type": "code",
   "execution_count": 113,
   "id": "57a10e43-c0d5-4620-bd3e-d98dc8315378",
   "metadata": {},
   "outputs": [
    {
     "name": "stdout",
     "output_type": "stream",
     "text": [
      "Hello, Rose!\n"
     ]
    }
   ],
   "source": [
    "def greet():\n",
    "    message = \"Hello, Rose!\"  # Local variable\n",
    "    print(message)\n",
    "\n",
    "greet()\n"
   ]
  },
  {
   "cell_type": "markdown",
   "id": "7d1d4503-1303-443b-a18b-f5dde4d5f19b",
   "metadata": {},
   "source": [
    "### Basic String and File Operations\n"
   ]
  },
  {
   "cell_type": "code",
   "execution_count": 118,
   "id": "a31d6744-e8e0-4f34-bc1e-973fb5001e47",
   "metadata": {},
   "outputs": [
    {
     "name": "stdout",
     "output_type": "stream",
     "text": [
      "My name is Rose and I am 20 years old.\n"
     ]
    }
   ],
   "source": [
    "# String methods and formatting (.format(), f-strings)\n",
    "name = \"Rose\"\n",
    "age = 20\n",
    "print(\"My name is {} and I am {} years old.\".format(name, age)) # using format"
   ]
  },
  {
   "cell_type": "code",
   "execution_count": 120,
   "id": "a366c936-67c6-449c-8cfd-5e3c0a878143",
   "metadata": {},
   "outputs": [
    {
     "name": "stdout",
     "output_type": "stream",
     "text": [
      "August 04, 2025\n"
     ]
    }
   ],
   "source": [
    "# Prints today's date with help\n",
    "import datetime\n",
    "today = datetime.datetime.today()\n",
    "print(today.strftime(\"%B %d, %Y\")) # using f-strings"
   ]
  },
  {
   "cell_type": "code",
   "execution_count": 140,
   "id": "0b5f5fa0-99c0-4182-ba19-ca19d89e58c7",
   "metadata": {},
   "outputs": [],
   "source": [
    "# Reading/writing files (open(), with statement, read/write modes)\n",
    "with open(\"Rose.txt\", \"w\") as file:\n",
    "    file.write(\"Hello Rose!\\n\")\n",
    "    file.write(\"This file was written using Python.\")"
   ]
  },
  {
   "cell_type": "code",
   "execution_count": 141,
   "id": "9cd44449-628d-49cc-9e4b-63bae4244ba3",
   "metadata": {},
   "outputs": [
    {
     "name": "stdout",
     "output_type": "stream",
     "text": [
      "Hello Rose!\n",
      "This file was written using Python.\n"
     ]
    }
   ],
   "source": [
    "with open(\"Rose.txt\", \"r\") as file:\n",
    "    content = file.read()\n",
    "    print(content)"
   ]
  },
  {
   "cell_type": "code",
   "execution_count": 143,
   "id": "45c13d92-9903-449b-a859-bdf138d89fe5",
   "metadata": {},
   "outputs": [
    {
     "name": "stdout",
     "output_type": "stream",
     "text": [
      "Before: Hello Rose!\n",
      "This file was written using Python.\n"
     ]
    }
   ],
   "source": [
    "with open(\"Rose.txt\", \"r+\") as file:\n",
    "    print(\"Before:\", file.read())"
   ]
  },
  {
   "cell_type": "markdown",
   "id": "dd00577a-9fd0-4621-9d29-2530409d3975",
   "metadata": {},
   "source": [
    "### Intermediate \n"
   ]
  },
  {
   "cell_type": "code",
   "execution_count": 160,
   "id": "4ff5e4af-3f7d-4d5c-9901-efb457a48c2b",
   "metadata": {},
   "outputs": [],
   "source": [
    "import numpy as np\n",
    "import pandas as pd\n",
    "import math\n",
    "import datetime\n",
    "import random\n",
    "import sys\n",
    "import json\n",
    "import requests  \n"
   ]
  },
  {
   "cell_type": "code",
   "execution_count": 2,
   "id": "a7eb1b58-3834-44a3-a55a-7549afb6613a",
   "metadata": {},
   "outputs": [],
   "source": [
    "def eligible(n):\n",
    "    if n > 18:\n",
    "        return \"Eligible\"\n",
    "    else:\n",
    "        return \"Not eligible\""
   ]
  },
  {
   "cell_type": "code",
   "execution_count": null,
   "id": "c5bc3ba3-7326-4954-a663-25c59ce4911b",
   "metadata": {},
   "outputs": [],
   "source": []
  }
 ],
 "metadata": {
  "kernelspec": {
   "display_name": "Python 3 (ipykernel)",
   "language": "python",
   "name": "python3"
  },
  "language_info": {
   "codemirror_mode": {
    "name": "ipython",
    "version": 3
   },
   "file_extension": ".py",
   "mimetype": "text/x-python",
   "name": "python",
   "nbconvert_exporter": "python",
   "pygments_lexer": "ipython3",
   "version": "3.12.2"
  }
 },
 "nbformat": 4,
 "nbformat_minor": 5
}
