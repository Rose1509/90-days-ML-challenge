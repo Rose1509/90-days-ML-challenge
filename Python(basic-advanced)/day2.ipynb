{
 "cells": [
  {
   "cell_type": "code",
   "execution_count": 4,
   "id": "fbb87347-e41d-4356-9a05-2910cbf2afef",
   "metadata": {},
   "outputs": [
    {
     "name": "stderr",
     "output_type": "stream",
     "text": [
      "\n",
      "[notice] A new release of pip is available: 25.0.1 -> 25.2\n",
      "[notice] To update, run: python.exe -m pip install --upgrade pip\n"
     ]
    },
    {
     "name": "stdout",
     "output_type": "stream",
     "text": [
      "Requirement already satisfied: import-ipynb in c:\\users\\bhagi\\appdata\\local\\programs\\python\\python312\\lib\\site-packages (0.2)\n",
      "Requirement already satisfied: IPython in c:\\users\\bhagi\\appdata\\local\\programs\\python\\python312\\lib\\site-packages (from import-ipynb) (9.0.1)\n",
      "Requirement already satisfied: nbformat in c:\\users\\bhagi\\appdata\\local\\programs\\python\\python312\\lib\\site-packages (from import-ipynb) (5.10.4)\n",
      "Requirement already satisfied: colorama in c:\\users\\bhagi\\appdata\\local\\programs\\python\\python312\\lib\\site-packages (from IPython->import-ipynb) (0.4.6)\n",
      "Requirement already satisfied: decorator in c:\\users\\bhagi\\appdata\\local\\programs\\python\\python312\\lib\\site-packages (from IPython->import-ipynb) (5.2.1)\n",
      "Requirement already satisfied: ipython-pygments-lexers in c:\\users\\bhagi\\appdata\\local\\programs\\python\\python312\\lib\\site-packages (from IPython->import-ipynb) (1.1.1)\n",
      "Requirement already satisfied: jedi>=0.16 in c:\\users\\bhagi\\appdata\\local\\programs\\python\\python312\\lib\\site-packages (from IPython->import-ipynb) (0.19.2)\n",
      "Requirement already satisfied: matplotlib-inline in c:\\users\\bhagi\\appdata\\local\\programs\\python\\python312\\lib\\site-packages (from IPython->import-ipynb) (0.1.7)\n",
      "Requirement already satisfied: prompt_toolkit<3.1.0,>=3.0.41 in c:\\users\\bhagi\\appdata\\local\\programs\\python\\python312\\lib\\site-packages (from IPython->import-ipynb) (3.0.50)\n",
      "Requirement already satisfied: pygments>=2.4.0 in c:\\users\\bhagi\\appdata\\local\\programs\\python\\python312\\lib\\site-packages (from IPython->import-ipynb) (2.19.1)\n",
      "Requirement already satisfied: stack_data in c:\\users\\bhagi\\appdata\\local\\programs\\python\\python312\\lib\\site-packages (from IPython->import-ipynb) (0.6.3)\n",
      "Requirement already satisfied: traitlets>=5.13.0 in c:\\users\\bhagi\\appdata\\local\\programs\\python\\python312\\lib\\site-packages (from IPython->import-ipynb) (5.14.3)\n",
      "Requirement already satisfied: fastjsonschema>=2.15 in c:\\users\\bhagi\\appdata\\local\\programs\\python\\python312\\lib\\site-packages (from nbformat->import-ipynb) (2.21.1)\n",
      "Requirement already satisfied: jsonschema>=2.6 in c:\\users\\bhagi\\appdata\\local\\programs\\python\\python312\\lib\\site-packages (from nbformat->import-ipynb) (4.23.0)\n",
      "Requirement already satisfied: jupyter-core!=5.0.*,>=4.12 in c:\\users\\bhagi\\appdata\\local\\programs\\python\\python312\\lib\\site-packages (from nbformat->import-ipynb) (5.7.2)\n",
      "Requirement already satisfied: parso<0.9.0,>=0.8.4 in c:\\users\\bhagi\\appdata\\local\\programs\\python\\python312\\lib\\site-packages (from jedi>=0.16->IPython->import-ipynb) (0.8.4)\n",
      "Requirement already satisfied: attrs>=22.2.0 in c:\\users\\bhagi\\appdata\\local\\programs\\python\\python312\\lib\\site-packages (from jsonschema>=2.6->nbformat->import-ipynb) (25.1.0)\n",
      "Requirement already satisfied: jsonschema-specifications>=2023.03.6 in c:\\users\\bhagi\\appdata\\local\\programs\\python\\python312\\lib\\site-packages (from jsonschema>=2.6->nbformat->import-ipynb) (2024.10.1)\n",
      "Requirement already satisfied: referencing>=0.28.4 in c:\\users\\bhagi\\appdata\\local\\programs\\python\\python312\\lib\\site-packages (from jsonschema>=2.6->nbformat->import-ipynb) (0.36.2)\n",
      "Requirement already satisfied: rpds-py>=0.7.1 in c:\\users\\bhagi\\appdata\\local\\programs\\python\\python312\\lib\\site-packages (from jsonschema>=2.6->nbformat->import-ipynb) (0.23.1)\n",
      "Requirement already satisfied: platformdirs>=2.5 in c:\\users\\bhagi\\appdata\\local\\programs\\python\\python312\\lib\\site-packages (from jupyter-core!=5.0.*,>=4.12->nbformat->import-ipynb) (4.3.6)\n",
      "Requirement already satisfied: pywin32>=300 in c:\\users\\bhagi\\appdata\\local\\programs\\python\\python312\\lib\\site-packages (from jupyter-core!=5.0.*,>=4.12->nbformat->import-ipynb) (308)\n",
      "Requirement already satisfied: wcwidth in c:\\users\\bhagi\\appdata\\local\\programs\\python\\python312\\lib\\site-packages (from prompt_toolkit<3.1.0,>=3.0.41->IPython->import-ipynb) (0.2.13)\n",
      "Requirement already satisfied: executing>=1.2.0 in c:\\users\\bhagi\\appdata\\local\\programs\\python\\python312\\lib\\site-packages (from stack_data->IPython->import-ipynb) (2.2.0)\n",
      "Requirement already satisfied: asttokens>=2.1.0 in c:\\users\\bhagi\\appdata\\local\\programs\\python\\python312\\lib\\site-packages (from stack_data->IPython->import-ipynb) (3.0.0)\n",
      "Requirement already satisfied: pure-eval in c:\\users\\bhagi\\appdata\\local\\programs\\python\\python312\\lib\\site-packages (from stack_data->IPython->import-ipynb) (0.2.3)\n",
      "Requirement already satisfied: typing-extensions>=4.4.0 in c:\\users\\bhagi\\appdata\\local\\programs\\python\\python312\\lib\\site-packages (from referencing>=0.28.4->jsonschema>=2.6->nbformat->import-ipynb) (4.12.2)\n",
      "Hello, world!\n",
      "Name: Rose\n",
      "10 I am an AI student 10.0\n"
     ]
    },
    {
     "name": "stdin",
     "output_type": "stream",
     "text": [
      "What color is rose?:  dfghj\n"
     ]
    },
    {
     "name": "stdout",
     "output_type": "stream",
     "text": [
      "dfghj\n"
     ]
    },
    {
     "name": "stdin",
     "output_type": "stream",
     "text": [
      "Price of each rose?:  66\n"
     ]
    },
    {
     "name": "stdout",
     "output_type": "stream",
     "text": [
      "66.0\n"
     ]
    },
    {
     "name": "stdin",
     "output_type": "stream",
     "text": [
      "Enter a num:  7\n"
     ]
    },
    {
     "name": "stdout",
     "output_type": "stream",
     "text": [
      "You entered: 7\n"
     ]
    },
    {
     "name": "stdin",
     "output_type": "stream",
     "text": [
      "Enter a condition: yes\n"
     ]
    },
    {
     "name": "stdout",
     "output_type": "stream",
     "text": [
      "The number is: True\n"
     ]
    },
    {
     "name": "stdin",
     "output_type": "stream",
     "text": [
      "Enter a number:  6\n"
     ]
    },
    {
     "name": "stdout",
     "output_type": "stream",
     "text": [
      "Double the number is: 12\n"
     ]
    },
    {
     "name": "stdin",
     "output_type": "stream",
     "text": [
      "Enter a number word:  fghj\n"
     ]
    },
    {
     "name": "stdout",
     "output_type": "stream",
     "text": [
      "Invalid input! Please enter a number word from zero to ten.\n"
     ]
    },
    {
     "name": "stdin",
     "output_type": "stream",
     "text": [
      "Enter first number:  3\n",
      "Enter second number:  4\n"
     ]
    },
    {
     "name": "stdout",
     "output_type": "stream",
     "text": [
      "Sum of numbers: 7\n"
     ]
    },
    {
     "name": "stdin",
     "output_type": "stream",
     "text": [
      "Enter first number:  1\n",
      "Enter second number:  1\n"
     ]
    },
    {
     "name": "stdout",
     "output_type": "stream",
     "text": [
      "Sub of numbers: 0\n"
     ]
    },
    {
     "name": "stdin",
     "output_type": "stream",
     "text": [
      "Enter first number:  2\n",
      "Enter second number:  2\n"
     ]
    },
    {
     "name": "stdout",
     "output_type": "stream",
     "text": [
      "Multiply numbers: 4\n"
     ]
    },
    {
     "name": "stdin",
     "output_type": "stream",
     "text": [
      "Enter first number:  2\n",
      "Enter second number:  3\n"
     ]
    },
    {
     "name": "stdout",
     "output_type": "stream",
     "text": [
      "Division  numbers: 0.6666666666666666\n"
     ]
    },
    {
     "name": "stdin",
     "output_type": "stream",
     "text": [
      "Enter first number:  3\n",
      "Enter second number:  3\n"
     ]
    },
    {
     "name": "stdout",
     "output_type": "stream",
     "text": [
      "Div numbers: 1\n"
     ]
    },
    {
     "name": "stdin",
     "output_type": "stream",
     "text": [
      "Enter the dividend :  4\n",
      "Enter the divisor :  4\n"
     ]
    },
    {
     "name": "stdout",
     "output_type": "stream",
     "text": [
      "Reminder is: 0\n"
     ]
    },
    {
     "name": "stdin",
     "output_type": "stream",
     "text": [
      "Enter the base number:  5\n",
      "Enter the exponent:  6\n"
     ]
    },
    {
     "name": "stdout",
     "output_type": "stream",
     "text": [
      "Exponential power is: 15625\n"
     ]
    },
    {
     "name": "stdin",
     "output_type": "stream",
     "text": [
      "Enter first number:  4\n",
      "Enter second number:  4\n"
     ]
    },
    {
     "name": "stdout",
     "output_type": "stream",
     "text": [
      "4 == 4 : True\n",
      "4 != 4 : False\n",
      "4 > 4 : False\n",
      "4 < 4 : False\n",
      "4 >= 4 : True\n",
      "4 <= 4 : True\n",
      "Does 14 lie between p and q?: True\n",
      "Suitable?: True\n",
      "Is the condition true?: False\n"
     ]
    },
    {
     "name": "stdin",
     "output_type": "stream",
     "text": [
      "Enter your age:  44\n"
     ]
    },
    {
     "name": "stdout",
     "output_type": "stream",
     "text": [
      "You are an adult.\n"
     ]
    },
    {
     "name": "stdin",
     "output_type": "stream",
     "text": [
      "Enter your age:  44\n"
     ]
    },
    {
     "name": "stdout",
     "output_type": "stream",
     "text": [
      "Eligible to vote\n"
     ]
    },
    {
     "name": "stdin",
     "output_type": "stream",
     "text": [
      "Are you sick today? (yes/no):  yes\n",
      "Do you go for a work? (yes/no):  no\n"
     ]
    },
    {
     "name": "stdout",
     "output_type": "stream",
     "text": [
      "a AND b: False\n",
      "a OR b: True\n",
      "NOT a: False\n",
      "Cherry\n",
      "Mango\n",
      "Kiwi\n",
      "1\n",
      "2\n",
      "3\n",
      "4\n",
      "5\n",
      "1\n",
      "2\n",
      "3\n",
      "4\n",
      "5\n",
      "6\n",
      "7\n",
      "8\n",
      "9\n",
      "1\n",
      "2\n",
      "1\n",
      "2\n",
      "3\n",
      "4\n",
      "5\n",
      "6\n",
      "7\n",
      "8\n",
      "9\n"
     ]
    },
    {
     "name": "stdin",
     "output_type": "stream",
     "text": [
      "Enter a number:  7\n"
     ]
    },
    {
     "name": "stdout",
     "output_type": "stream",
     "text": [
      "Numbers from 1 to 7\n",
      "1\n",
      "2\n",
      "3\n",
      "4\n",
      "5\n",
      "6\n",
      "7\n"
     ]
    },
    {
     "name": "stdin",
     "output_type": "stream",
     "text": [
      "Enter fruit 1:  dfgh\n",
      "Enter fruit 2:  dfgh\n",
      "Enter fruit 3:  fghj\n"
     ]
    },
    {
     "name": "stdout",
     "output_type": "stream",
     "text": [
      "Your fruits:\n",
      "0: dfgh\n",
      "1: dfgh\n",
      "2: fghj\n"
     ]
    },
    {
     "name": "stdin",
     "output_type": "stream",
     "text": [
      "Enter student 1 name:  aaaditi\n",
      "Enter marks for aaaditi:  88\n",
      "Enter student 2 name:  rose\n",
      "Enter marks for rose:  90\n",
      "Enter student 3 name:  nat\n",
      "Enter marks for nat:  77\n"
     ]
    },
    {
     "name": "stdout",
     "output_type": "stream",
     "text": [
      "\n",
      "Student Results:\n",
      "aaaditi got 88\n",
      "rose got 90\n",
      "nat got 77\n"
     ]
    },
    {
     "name": "stdin",
     "output_type": "stream",
     "text": [
      "Enter a color:  pink\n",
      "Enter a color:  black\n",
      "Enter a color:  nooo\n"
     ]
    },
    {
     "name": "stdout",
     "output_type": "stream",
     "text": [
      "Your favorite colors are: ['pink', 'black', 'nooo']\n"
     ]
    },
    {
     "name": "stdin",
     "output_type": "stream",
     "text": [
      "Enter a name:  dfghj\n",
      "Enter a name:  fghj\n",
      "Enter a name:   bnm\n"
     ]
    },
    {
     "name": "stdout",
     "output_type": "stream",
     "text": [
      "Names entered: ('dfghj', 'fghj', ' bnm')\n"
     ]
    },
    {
     "name": "stdin",
     "output_type": "stream",
     "text": [
      "Enter your name:  rose\n",
      "Enter your age:  33\n"
     ]
    },
    {
     "name": "stdout",
     "output_type": "stream",
     "text": [
      "Student info: {'Name': 'rose', 'Age': '33'}\n"
     ]
    },
    {
     "name": "stdin",
     "output_type": "stream",
     "text": [
      "Enter a number:  8\n",
      "Enter a number:  3\n",
      "Enter a number:  4\n",
      "Enter a number:  2\n",
      "Enter a number:  5\n"
     ]
    },
    {
     "name": "stdout",
     "output_type": "stream",
     "text": [
      "Unique numbers you entered: {'3', '8', '4', '2', '5'}\n"
     ]
    },
    {
     "name": "stdin",
     "output_type": "stream",
     "text": [
      "Enter number 1:  2\n",
      "Enter number 2:  4\n",
      "Enter number 3:  5\n"
     ]
    },
    {
     "name": "stdout",
     "output_type": "stream",
     "text": [
      "Original numbers: [2, 4, 5]\n",
      "Squares: [4, 16, 25]\n",
      "Cubes: {2: 8, 4: 64, 5: 125}\n",
      "Even numbers: {2, 4}\n"
     ]
    },
    {
     "name": "stdin",
     "output_type": "stream",
     "text": [
      "Enter fruit 1:  dfghj\n",
      "Enter fruit 2:  fghjk\n",
      "Enter fruit 3:  fghj\n",
      "Enter fruit 4:  fghj\n",
      "Enter fruit 5:  fghj\n"
     ]
    },
    {
     "name": "stdout",
     "output_type": "stream",
     "text": [
      "First fruit: dfghj\n",
      "Last fruit: fghj\n",
      "First three fruits: ['dfghj', 'fghjk', 'fghj']\n"
     ]
    },
    {
     "name": "stdin",
     "output_type": "stream",
     "text": [
      "Enter a fruit to replace the second one:  cherry\n"
     ]
    },
    {
     "name": "stdout",
     "output_type": "stream",
     "text": [
      "Updated fruits: ['dfghj', 'cherry', 'fghj', 'fghj', 'fghj']\n",
      "After deleting the 4th fruit: ['dfghj', 'cherry', 'fghj', 'fghj']\n"
     ]
    },
    {
     "name": "stdin",
     "output_type": "stream",
     "text": [
      "Enter the name of a fruit to remove:  cherry\n"
     ]
    },
    {
     "name": "stdout",
     "output_type": "stream",
     "text": [
      "After removing cherry: ['dfghj', 'fghj', 'fghj']\n"
     ]
    },
    {
     "name": "stdin",
     "output_type": "stream",
     "text": [
      "Enter your name:  rose\n"
     ]
    },
    {
     "name": "stdout",
     "output_type": "stream",
     "text": [
      "Hello rose! Welcome to Python.\n"
     ]
    },
    {
     "name": "stdin",
     "output_type": "stream",
     "text": [
      "Enter first number:  2\n",
      "Enter second number:  4\n"
     ]
    },
    {
     "name": "stdout",
     "output_type": "stream",
     "text": [
      "The sum is: 6\n"
     ]
    },
    {
     "name": "stdin",
     "output_type": "stream",
     "text": [
      "Do you want to enter your name? (yes/no):  yes\n",
      "Enter your name:  rose\n"
     ]
    },
    {
     "name": "stdout",
     "output_type": "stream",
     "text": [
      "Hello, rose\n"
     ]
    },
    {
     "name": "stdin",
     "output_type": "stream",
     "text": [
      "Enter name:  rose\n",
      "Enter age:  44\n",
      "Enter major:  AI\n"
     ]
    },
    {
     "name": "stdout",
     "output_type": "stream",
     "text": [
      "Student info: Name: rose Age: 44 Major: AI\n"
     ]
    },
    {
     "name": "stdin",
     "output_type": "stream",
     "text": [
      "Enter number 1:  4\n",
      "Enter number 2:  6\n",
      "Enter number 3:  3\n"
     ]
    },
    {
     "name": "stdout",
     "output_type": "stream",
     "text": [
      "Numbers you entered:\n",
      "4\n",
      "6\n",
      "3\n"
     ]
    },
    {
     "name": "stdin",
     "output_type": "stream",
     "text": [
      "Enter your name:  rose\n",
      "Enter your age:  66\n",
      "Enter your hobby:  play games\n"
     ]
    },
    {
     "name": "stdout",
     "output_type": "stream",
     "text": [
      "Profile Info:\n",
      "name : rose\n",
      "age : 66\n",
      "hobby : play games\n",
      "Square of 5 is: 25\n",
      "13\n",
      "10\n",
      "20\n",
      "30\n",
      "40\n"
     ]
    },
    {
     "name": "stdin",
     "output_type": "stream",
     "text": [
      "Enter a number:  7\n"
     ]
    },
    {
     "name": "stdout",
     "output_type": "stream",
     "text": [
      "The number is Odd\n",
      "x inside function: 1\n",
      "x inside function: 2\n",
      "x outside function: 2\n",
      "Hello, Rose!\n",
      "My name is Rose and I am 20 years old.\n",
      "August 04, 2025\n",
      "Hello Rose!\n",
      "This file was written using Python.\n",
      "Before: Hello Rose!\n",
      "This file was written using Python.\n"
     ]
    }
   ],
   "source": [
    "!pip install import-ipynb\n",
    "import import_ipynb\n",
    "from day1 import eligible"
   ]
  },
  {
   "cell_type": "code",
   "execution_count": 6,
   "id": "cd2506f5-8402-4a2b-aa40-fee9fbce9c34",
   "metadata": {},
   "outputs": [
    {
     "data": {
      "text/plain": [
       "'Not eligible'"
      ]
     },
     "execution_count": 6,
     "metadata": {},
     "output_type": "execute_result"
    }
   ],
   "source": [
    "eligible(18)"
   ]
  },
  {
   "cell_type": "markdown",
   "id": "c5e8b003-2c44-4c2c-b4b9-2fbab408149b",
   "metadata": {},
   "source": [
    "### Error Handling"
   ]
  },
  {
   "cell_type": "code",
   "execution_count": 10,
   "id": "bb453938-415e-4e60-8c18-c3610b3ebcbd",
   "metadata": {},
   "outputs": [
    {
     "name": "stdin",
     "output_type": "stream",
     "text": [
      "Enter numerator (a):  5\n",
      "Enter denominator (b):  3\n"
     ]
    },
    {
     "name": "stdout",
     "output_type": "stream",
     "text": [
      "Result is: 1.6666666666666667\n",
      "Division operation complete.\n"
     ]
    }
   ],
   "source": [
    "# try, except, else, finally\n",
    "def divide():\n",
    "    try:\n",
    "        a = float(input(\"Enter numerator (a): \"))\n",
    "        b = float(input(\"Enter denominator (b): \"))\n",
    "        result = a / b\n",
    "    except ZeroDivisionError:\n",
    "        print(\"Error: Division by zero!\")\n",
    "    except ValueError:\n",
    "        print(\"Error: Invalid input! Please enter numbers.\")\n",
    "    else:\n",
    "        print(\"Result is:\", result)\n",
    "    finally:\n",
    "        print(\"Division operation complete.\")\n",
    "\n",
    "divide()"
   ]
  },
  {
   "cell_type": "code",
   "execution_count": 14,
   "id": "06548131-efa2-471d-aea7-ced93cdb9da4",
   "metadata": {},
   "outputs": [
    {
     "name": "stdout",
     "output_type": "stream",
     "text": [
      "Valid age: 25\n"
     ]
    },
    {
     "ename": "ValueError",
     "evalue": "Age cannot be negative!",
     "output_type": "error",
     "traceback": [
      "\u001b[31m---------------------------------------------------------------------------\u001b[39m",
      "\u001b[31mValueError\u001b[39m                                Traceback (most recent call last)",
      "\u001b[36mCell\u001b[39m\u001b[36m \u001b[39m\u001b[32mIn[14]\u001b[39m\u001b[32m, line 9\u001b[39m\n\u001b[32m      7\u001b[39m \u001b[38;5;66;03m# Example usage\u001b[39;00m\n\u001b[32m      8\u001b[39m check_age(\u001b[32m25\u001b[39m)   \u001b[38;5;66;03m# it prints out \u001b[39;00m\n\u001b[32m----> \u001b[39m\u001b[32m9\u001b[39m \u001b[43mcheck_age\u001b[49m\u001b[43m(\u001b[49m\u001b[43m-\u001b[49m\u001b[32;43m25\u001b[39;49m\u001b[43m)\u001b[49m \u001b[38;5;66;03m# it doesnot prints out\u001b[39;00m\n",
      "\u001b[36mCell\u001b[39m\u001b[36m \u001b[39m\u001b[32mIn[14]\u001b[39m\u001b[32m, line 4\u001b[39m, in \u001b[36mcheck_age\u001b[39m\u001b[34m(age)\u001b[39m\n\u001b[32m      2\u001b[39m \u001b[38;5;28;01mdef\u001b[39;00m\u001b[38;5;250m \u001b[39m\u001b[34mcheck_age\u001b[39m(age):\n\u001b[32m      3\u001b[39m     \u001b[38;5;28;01mif\u001b[39;00m age < \u001b[32m0\u001b[39m:\n\u001b[32m----> \u001b[39m\u001b[32m4\u001b[39m         \u001b[38;5;28;01mraise\u001b[39;00m \u001b[38;5;167;01mValueError\u001b[39;00m(\u001b[33m\"\u001b[39m\u001b[33mAge cannot be negative!\u001b[39m\u001b[33m\"\u001b[39m)\n\u001b[32m      5\u001b[39m     \u001b[38;5;28mprint\u001b[39m(\u001b[33m\"\u001b[39m\u001b[33mValid age:\u001b[39m\u001b[33m\"\u001b[39m, age)\n",
      "\u001b[31mValueError\u001b[39m: Age cannot be negative!"
     ]
    }
   ],
   "source": [
    "# Raising exceptions\n",
    "def check_age(age):\n",
    "    if age < 0:\n",
    "        raise ValueError(\"Age cannot be negative!\")\n",
    "    print(\"Valid age:\", age)\n",
    "\n",
    "# Example usage\n",
    "check_age(25)   # it prints out \n",
    "check_age(-25) # it doesnot prints out"
   ]
  },
  {
   "cell_type": "code",
   "execution_count": 16,
   "id": "2e8adf58-9be4-4e42-9f70-b658b4a5069c",
   "metadata": {},
   "outputs": [
    {
     "name": "stdin",
     "output_type": "stream",
     "text": [
      "Enter your age:  20\n"
     ]
    },
    {
     "name": "stdout",
     "output_type": "stream",
     "text": [
      "Registration successful.\n"
     ]
    }
   ],
   "source": [
    "class TooYoungError(Exception):\n",
    "    def __init__(self, age):\n",
    "        super().__init__(f\"Age {age} is too young to register.\")\n",
    "\n",
    "def register(age):\n",
    "    if age < 18:\n",
    "        raise TooYoungError(age)\n",
    "    print(\"Registration successful.\")\n",
    "\n",
    "try:\n",
    "    age = int(input(\"Enter your age: \"))\n",
    "    register(age)\n",
    "except TooYoungError as e:\n",
    "    print(\"Custom Error Caught:\", e)"
   ]
  },
  {
   "cell_type": "markdown",
   "id": "bc55de6a-983a-45b8-9461-786ddbf3c985",
   "metadata": {},
   "source": [
    "### Object-Oriented Programming (OOP)\n"
   ]
  },
  {
   "cell_type": "code",
   "execution_count": 19,
   "id": "2b3656de-775f-480a-b88c-63da61c222a7",
   "metadata": {},
   "outputs": [
    {
     "name": "stdin",
     "output_type": "stream",
     "text": [
      "Enter your name:  Rose\n",
      "Enter your age:  20\n"
     ]
    },
    {
     "name": "stdout",
     "output_type": "stream",
     "text": [
      "Hi, I'm Rose and I'm 20 years old.\n"
     ]
    }
   ],
   "source": [
    "# Define a class\n",
    "class Student:\n",
    "    def __init__(self, name, age):\n",
    "        self.name = name   # instance variable\n",
    "        self.age = age\n",
    "\n",
    "    def greet(self):\n",
    "        print(f\"Hi, I'm {self.name} and I'm {self.age} years old.\")\n",
    "\n",
    "# Take input from the user\n",
    "name = input(\"Enter your name: \")\n",
    "age = int(input(\"Enter your age: \"))\n",
    "\n",
    "# Create an object using input values\n",
    "s = Student(name, age)\n",
    "s.greet()\n"
   ]
  },
  {
   "cell_type": "code",
   "execution_count": 21,
   "id": "c102b08a-0c1e-4b5b-bc22-4575766582a3",
   "metadata": {},
   "outputs": [
    {
     "name": "stdout",
     "output_type": "stream",
     "text": [
      "I love Apple!\n"
     ]
    }
   ],
   "source": [
    "# A Sample class with init method\n",
    "class Fruit:\n",
    "    def __init__(self, name):\n",
    "        self.name = name\n",
    "\n",
    "    def say_love(self):\n",
    "        print(f\"I love {self.name}!\")\n",
    "\n",
    "p = Fruit('Apple')\n",
    "p.say_love()"
   ]
  },
  {
   "cell_type": "code",
   "execution_count": 25,
   "id": "91f7cdac-8242-4ae0-81a4-d1d3218bdba1",
   "metadata": {},
   "outputs": [
    {
     "name": "stdout",
     "output_type": "stream",
     "text": [
      "Apple is a Red Food.\n",
      "Banana is a Yellow Food.\n",
      "Apple is a Red Fresh Produce.\n",
      "Banana is a Yellow Fresh Produce.\n",
      "Apple is a Green Fresh Produce.\n",
      "Banana is a Yellow Fresh Produce.\n"
     ]
    }
   ],
   "source": [
    "# Instance and class variables\n",
    "class Fruit:\n",
    "    # Class variable \n",
    "    category = \"Food\"\n",
    "\n",
    "    def __init__(self, name, color):\n",
    "        # Instance variables (unique for each fruit)\n",
    "        self.name = name\n",
    "        self.color = color\n",
    "\n",
    "    def describe(self):\n",
    "        print(f\"{self.name} is a {self.color} {Fruit.category}.\")\n",
    "# Creating objects\n",
    "apple = Fruit(\"Apple\", \"Red\")\n",
    "banana = Fruit(\"Banana\", \"Yellow\")\n",
    "\n",
    "apple.describe()   \n",
    "banana.describe()  \n",
    "# Changing class variable affects all instances\n",
    "Fruit.category = \"Fresh Produce\"\n",
    "apple.describe()   \n",
    "banana.describe()  \n",
    "\n",
    "# Changing instance variable affects only that instance\n",
    "apple.color = \"Green\"\n",
    "apple.describe()   # Apple is a Green Fresh Produce.\n",
    "banana.describe()  # Banana is a Yellow Fresh Produce.\n"
   ]
  },
  {
   "cell_type": "code",
   "execution_count": 27,
   "id": "686fcdbc-b94b-4b1e-b77b-416300e539ee",
   "metadata": {},
   "outputs": [
    {
     "name": "stdout",
     "output_type": "stream",
     "text": [
      "Generic Animal makes a sound.\n",
      "Buddy barks.\n",
      "Whiskers meows.\n"
     ]
    }
   ],
   "source": [
    "# Example for inheritance\n",
    "# Parent class\n",
    "class Animal:\n",
    "    def __init__(self, name):\n",
    "        self.name = name\n",
    "\n",
    "    def speak(self):\n",
    "        print(f\"{self.name} makes a sound.\")\n",
    "\n",
    "# Child class\n",
    "class Dog(Animal):\n",
    "    def speak(self):\n",
    "        print(f\"{self.name} barks.\")\n",
    "\n",
    "# Another child class\n",
    "class Cat(Animal):\n",
    "    def speak(self):\n",
    "        print(f\"{self.name} meows.\")\n",
    "\n",
    "# Create objects\n",
    "a = Animal(\"Generic Animal\")\n",
    "d = Dog(\"Buddy\")\n",
    "c = Cat(\"Whiskers\")\n",
    "\n",
    "a.speak()  \n",
    "d.speak()\n",
    "c.speak()  \n"
   ]
  },
  {
   "cell_type": "code",
   "execution_count": 33,
   "id": "72ad355e-e253-4abb-82b5-47dfed65cfb4",
   "metadata": {},
   "outputs": [
    {
     "name": "stdout",
     "output_type": "stream",
     "text": [
      "Starting the vehicle...\n",
      "Starting the car engine... Vrooooooom!\n",
      "Starting the bike... Brrrrrrrm!\n"
     ]
    }
   ],
   "source": [
    "# Example for Method overriding\n",
    "class Vehicle:\n",
    "    def start(self):\n",
    "        print(\"Starting the vehicle...\")\n",
    "\n",
    "class Car(Vehicle):\n",
    "    def start(self):\n",
    "        print(\"Starting the car engine... Vrooooooom!\")\n",
    "\n",
    "class Bike(Vehicle):\n",
    "    def start(self):\n",
    "        print(\"Starting the bike... Brrrrrrrm!\")\n",
    "\n",
    "# Objects\n",
    "v = Vehicle()\n",
    "c = Car()\n",
    "b = Bike()\n",
    "\n",
    "v.start()  # Starting the vehicle\n",
    "c.start()  # Starting the car engine\n",
    "b.start()  # Starting the bike"
   ]
  },
  {
   "cell_type": "code",
   "execution_count": 37,
   "id": "7bcf1e92-812a-40d4-80d6-1ca0ab15ed42",
   "metadata": {},
   "outputs": [
    {
     "name": "stdout",
     "output_type": "stream",
     "text": [
      "Balance: 1300\n"
     ]
    }
   ],
   "source": [
    "# Example for Encapsulation and abstraction\n",
    "class BankAccount:\n",
    "    def __init__(self, balance):\n",
    "        self.__balance = balance  # Private variable\n",
    "\n",
    "    def deposit(self, amount):\n",
    "        if amount > 0:\n",
    "            self.__balance += amount\n",
    "\n",
    "    def withdraw(self, amount):\n",
    "        if 0 < amount <= self.__balance:\n",
    "            self.__balance -= amount\n",
    "        else:\n",
    "            print(\"Insufficient balance!\")\n",
    "\n",
    "    def get_balance(self):\n",
    "        return self.__balance\n",
    "\n",
    "# Usage\n",
    "acc = BankAccount(1000)\n",
    "acc.deposit(500)\n",
    "acc.withdraw(200)\n",
    "print(\"Balance:\", acc.get_balance())  # Output: Balance: 1300\n"
   ]
  },
  {
   "cell_type": "code",
   "execution_count": 42,
   "id": "e18746c6-db6d-4bdf-8e3e-205e98dea0df",
   "metadata": {},
   "outputs": [
    {
     "name": "stdout",
     "output_type": "stream",
     "text": [
      "Good Morning!\n"
     ]
    }
   ],
   "source": [
    "#Example for abstraction\n",
    "from abc import ABC, abstractmethod\n",
    "\n",
    "class Greet(ABC):\n",
    "    @abstractmethod\n",
    "    def say_hello(self):\n",
    "        pass  # Abstract method\n",
    "\n",
    "class English(Greet):\n",
    "    def say_hello(self):\n",
    "        return \"Good Morning!\"\n",
    "\n",
    "g = English()\n",
    "print(g.say_hello())"
   ]
  },
  {
   "cell_type": "code",
   "execution_count": 1,
   "id": "dbdff4cc-cfc6-418f-bea2-6d0be1c85595",
   "metadata": {},
   "outputs": [
    {
     "name": "stdout",
     "output_type": "stream",
     "text": [
      "Student name is Rose\n"
     ]
    }
   ],
   "source": [
    "# Magic methods (__str__, __repr__, __len__, etc.)\n",
    "# __str__\n",
    "class Student:\n",
    "    def __init__(self, name):\n",
    "        self.name = name\n",
    "\n",
    "    def __str__(self):\n",
    "        return f\"Student name is {self.name}\"\n",
    "\n",
    "s = Student(\"Rose\")\n",
    "print(s)  "
   ]
  },
  {
   "cell_type": "code",
   "execution_count": 2,
   "id": "b4878fe5-0458-4727-a8c0-a1d882a056a5",
   "metadata": {},
   "outputs": [
    {
     "name": "stdout",
     "output_type": "stream",
     "text": [
      "Student('Aaditi')\n"
     ]
    }
   ],
   "source": [
    "# __repr__(self)\n",
    "class Student:\n",
    "    def __init__(self, name):\n",
    "        self.name = name\n",
    "\n",
    "    def __repr__(self):\n",
    "        return f\"Student('{self.name}')\"\n",
    "\n",
    "s = Student(\"Aaditi\")\n",
    "print(repr(s))  \n",
    "\n"
   ]
  },
  {
   "cell_type": "code",
   "execution_count": 3,
   "id": "0e73538c-8239-4d32-84f6-6346caf98a18",
   "metadata": {},
   "outputs": [
    {
     "name": "stdout",
     "output_type": "stream",
     "text": [
      "3\n"
     ]
    }
   ],
   "source": [
    "# ___len__(self)\n",
    "class Group:\n",
    "    def __init__(self, members):\n",
    "        self.members = members\n",
    "\n",
    "    def __len__(self):\n",
    "        return len(self.members)\n",
    "\n",
    "g = Group([\"Rose\", \"Aaditi\", \"Nat\"])\n",
    "print(len(g))  "
   ]
  },
  {
   "cell_type": "markdown",
   "id": "5287e837-19c7-4b98-88ad-41501fed2ae1",
   "metadata": {},
   "source": [
    "### Iterators and Generators\n"
   ]
  },
  {
   "cell_type": "code",
   "execution_count": 6,
   "id": "317ebb8d-6172-41c8-967d-fda939f53252",
   "metadata": {},
   "outputs": [
    {
     "name": "stdout",
     "output_type": "stream",
     "text": [
      "r\n",
      "o\n",
      "s\n",
      "e\n"
     ]
    }
   ],
   "source": [
    "#example for iter\n",
    "a = ['r', 'o', 's', 'e']\n",
    "\n",
    "iter_a = iter(a)\n",
    "\n",
    "print(next(iter_a))\n",
    "print(next(iter_a))\n",
    "print(next(iter_a))\n",
    "print(next(iter_a))"
   ]
  },
  {
   "cell_type": "markdown",
   "id": "016fa1c8-62a1-4087-8c5b-6bb4991df72d",
   "metadata": {},
   "source": [
    "#Example for next()\n",
    "a = [11, 22, 33, 44, 55]\n",
    "\n",
    "iter_a = iter(a)\n",
    "while True:\n",
    "    try:\n",
    "        print(iter_a.__next__())\n",
    "    except StopIteration:\n",
    "        break"
   ]
  },
  {
   "cell_type": "code",
   "execution_count": 9,
   "id": "92f5d039-87ff-4aab-87c8-a56c08b12c48",
   "metadata": {},
   "outputs": [
    {
     "name": "stdout",
     "output_type": "stream",
     "text": [
      "3\n",
      "2\n",
      "1\n"
     ]
    }
   ],
   "source": [
    "# Generator functions with yield\n",
    "def countdown(n):\n",
    "    while n > 0:\n",
    "        yield n\n",
    "        n -= 1\n",
    "\n",
    "for num in countdown(3):\n",
    "    print(num)  \n"
   ]
  },
  {
   "cell_type": "code",
   "execution_count": 12,
   "id": "2ba4880f-9b9d-4922-bbc7-f1d383fc256a",
   "metadata": {},
   "outputs": [
    {
     "name": "stdout",
     "output_type": "stream",
     "text": [
      "1\n",
      "4\n",
      "9\n",
      "16\n",
      "25\n",
      "36\n",
      "49\n"
     ]
    }
   ],
   "source": [
    "# Generator Expression\n",
    "r = (x*x for x in range(1, 8))\n",
    "for i in r:\n",
    "    print(i)"
   ]
  },
  {
   "cell_type": "markdown",
   "id": "ff94ce14-9a0f-4e83-a0ac-d2b01b943028",
   "metadata": {},
   "source": [
    "### Decorators and Closures\n"
   ]
  },
  {
   "cell_type": "code",
   "execution_count": 13,
   "id": "4f27b86b-5e47-46a9-a889-78d8179530c0",
   "metadata": {},
   "outputs": [
    {
     "name": "stdout",
     "output_type": "stream",
     "text": [
      "Hello!!\n"
     ]
    }
   ],
   "source": [
    "# Example for Inner functions\n",
    "def function1(msg): # outer function\n",
    "    \n",
    "    def function2(): # inner function\n",
    "        print(msg)\n",
    "    function2()\n",
    "\n",
    "function1(\"Hello!!\")"
   ]
  },
  {
   "cell_type": "code",
   "execution_count": 18,
   "id": "3882748c-3604-4533-8065-3dc1fdfa8843",
   "metadata": {},
   "outputs": [
    {
     "name": "stdout",
     "output_type": "stream",
     "text": [
      "25\n"
     ]
    }
   ],
   "source": [
    "# Example for Closures\n",
    "def function1(x):\n",
    "    def function2(y):\n",
    "        # This is the inner function that takes an argument 'y'\n",
    "        return x + y  \n",
    "    return function2  # Returning the inner function as a closure\n",
    "\n",
    "# Create a closure by calling outer function\n",
    "closure = function1(15)\n",
    "print(closure(10))  \n"
   ]
  },
  {
   "cell_type": "code",
   "execution_count": 22,
   "id": "c9d002e1-c3a2-40d2-b99f-97b8b106b8a8",
   "metadata": {},
   "outputs": [
    {
     "name": "stdout",
     "output_type": "stream",
     "text": [
      "Preparing to run the function...\n",
      "Hello, world!\n",
      "Function execution complete.\n"
     ]
    }
   ],
   "source": [
    "# using decorator\n",
    "def my_decorator(func):\n",
    "    def wrapper():\n",
    "        print(\"Preparing to run the function...\")\n",
    "        func()\n",
    "        print(\"Function execution complete.\")\n",
    "    return wrapper\n",
    "\n",
    "@my_decorator\n",
    "def say_hello():\n",
    "    print(\"Hello, world!\")\n",
    "\n",
    "# Call the decorated function\n",
    "say_hello()"
   ]
  },
  {
   "cell_type": "code",
   "execution_count": 26,
   "id": "e1691bb0-1432-402c-83a0-7fa53ae12d26",
   "metadata": {},
   "outputs": [
    {
     "name": "stdout",
     "output_type": "stream",
     "text": [
      "Before the function runs.\n",
      "Hello, myself Rose!\n",
      "After the function runs.\n",
      "greet\n",
      "This function says hello\n"
     ]
    }
   ],
   "source": [
    "# using functools.wraps\n",
    "import functools\n",
    "\n",
    "def my_decorator(func):\n",
    "    @functools.wraps(func)\n",
    "    def wrapper():\n",
    "        print(\"Before the function runs.\")\n",
    "        func()\n",
    "        print(\"After the function runs.\")\n",
    "    return wrapper\n",
    "\n",
    "@my_decorator\n",
    "def greet():\n",
    "    \"\"\"This function says hello\"\"\"\n",
    "    print(\"Hello, myself Rose!\")\n",
    "\n",
    "# Call the function\n",
    "greet()\n",
    "\n",
    "# Check metadata\n",
    "print(greet.__name__)  \n",
    "print(greet.__doc__)   \n"
   ]
  },
  {
   "cell_type": "markdown",
   "id": "87ca3d4d-bbc6-4b80-af91-550624e3277e",
   "metadata": {},
   "source": [
    "### Comprehensions & Functional Programming\n"
   ]
  },
  {
   "cell_type": "code",
   "execution_count": 27,
   "id": "e7cb1f4f-9ff6-46dc-8d31-ae0025df0847",
   "metadata": {},
   "outputs": [
    {
     "name": "stdout",
     "output_type": "stream",
     "text": [
      "[2, 4, 6, 8]\n"
     ]
    }
   ],
   "source": [
    "#List, dict, set comprehensions\n",
    "# Example for list Comprehensions\n",
    "a = [1, 2, 3, 4, 5, 6, 7, 8, 9]\n",
    "res = [num for num in a if num % 2 == 0]\n",
    "print(res)"
   ]
  },
  {
   "cell_type": "code",
   "execution_count": 28,
   "id": "506da02a-d4af-4d3b-ac3a-8a17c236919b",
   "metadata": {},
   "outputs": [
    {
     "name": "stdout",
     "output_type": "stream",
     "text": [
      "{1: 1, 2: 8, 3: 27, 4: 64, 5: 125}\n"
     ]
    }
   ],
   "source": [
    "# Example for dictonary comprehensions\n",
    "res = {num: num**3 for num in range(1, 6)}\n",
    "print(res)"
   ]
  },
  {
   "cell_type": "code",
   "execution_count": 29,
   "id": "282e470f-f0a8-464f-95ad-74321afcc7a7",
   "metadata": {},
   "outputs": [
    {
     "name": "stdout",
     "output_type": "stream",
     "text": [
      "{2, 4, 6}\n"
     ]
    }
   ],
   "source": [
    "# Example for set comprehensions\n",
    "a = [1, 2, 2, 3, 4, 4, 5, 6, 6, 7]\n",
    "\n",
    "res = {num for num in a if num % 2 == 0}\n",
    "print(res)"
   ]
  },
  {
   "cell_type": "code",
   "execution_count": 30,
   "id": "3b827c1c-296b-4c6e-b7b0-aae036937746",
   "metadata": {},
   "outputs": [
    {
     "name": "stdout",
     "output_type": "stream",
     "text": [
      "[10, 12, 14, 16]\n"
     ]
    }
   ],
   "source": [
    "# map(), filter(), reduce()\n",
    "#Example for map function\n",
    "def double(n):\n",
    "    return n * 2\n",
    "\n",
    "# Using map to double all numbers\n",
    "numbers = [5, 6, 7, 8]\n",
    "result = map(double, numbers)\n",
    "print(list(result))"
   ]
  },
  {
   "cell_type": "code",
   "execution_count": 31,
   "id": "5c4f3ac9-6b8e-470e-b93f-188a0a2f5770",
   "metadata": {},
   "outputs": [
    {
     "name": "stdout",
     "output_type": "stream",
     "text": [
      "Doubled numbers: [2, 4, 6, 8]\n"
     ]
    }
   ],
   "source": [
    "# Example for filter function\n",
    "# Double each number in the list\n",
    "numbers = [1, 2, 3, 4]\n",
    "doubled = list(map(lambda x: x * 2, numbers))\n",
    "print(\"Doubled numbers:\", doubled)\n"
   ]
  },
  {
   "cell_type": "code",
   "execution_count": 32,
   "id": "236d81fb-c737-4f61-bb6c-764dbaadaafc",
   "metadata": {},
   "outputs": [
    {
     "name": "stdout",
     "output_type": "stream",
     "text": [
      "Product of list elements: 24\n"
     ]
    }
   ],
   "source": [
    "#Example for reduce\n",
    "import functools\n",
    "\n",
    "# Multiply all numbers in the list\n",
    "numbers = [1, 2, 3, 4]\n",
    "product = functools.reduce(lambda x, y: x * y, numbers)\n",
    "print(\"Product of list elements:\", product)\n"
   ]
  },
  {
   "cell_type": "code",
   "execution_count": 33,
   "id": "61b083f2-b5d9-45f2-b88f-3dc344c799e4",
   "metadata": {},
   "outputs": [
    {
     "name": "stdout",
     "output_type": "stream",
     "text": [
      "[10, 12, 14, 16]\n"
     ]
    }
   ],
   "source": [
    "# Using lambda directly in map to double numbers\n",
    "numbers = [5, 6, 7, 8]\n",
    "result = map(lambda n: n * 2, numbers)\n",
    "print(list(result))\n"
   ]
  },
  {
   "cell_type": "code",
   "execution_count": 35,
   "id": "eea5bdf7-9ad0-4794-84f6-3480b1899499",
   "metadata": {},
   "outputs": [
    {
     "name": "stdout",
     "output_type": "stream",
     "text": [
      "Rose\n",
      "Aaditi\n",
      "Nat\n"
     ]
    }
   ],
   "source": [
    "#Lambda Function\n",
    "#lambda with Condition Checking\n",
    "n = lambda x: \"Rose\" if x > 0 else \"Aaditi\" if x < 0 else \"Nat\"\n",
    "\n",
    "print(n(5))   \n",
    "print(n(-3))  \n",
    "print(n(0))"
   ]
  },
  {
   "cell_type": "code",
   "execution_count": 36,
   "id": "6ef8b0aa-af4f-43be-8dbd-81c51fe836a1",
   "metadata": {},
   "outputs": [
    {
     "name": "stdout",
     "output_type": "stream",
     "text": [
      "9\n",
      "9\n"
     ]
    }
   ],
   "source": [
    "# Using lambda\n",
    "sq = lambda x: x ** 2\n",
    "print(sq(3))\n",
    "\n",
    "# Using def\n",
    "def sqdef(x):\n",
    "    return x ** 2\n",
    "print(sqdef(3))"
   ]
  },
  {
   "cell_type": "code",
   "execution_count": 37,
   "id": "92faf076-c5ca-4472-83a0-8251ced93011",
   "metadata": {},
   "outputs": [
    {
     "name": "stdout",
     "output_type": "stream",
     "text": [
      "10\n",
      "20\n",
      "30\n",
      "40\n"
     ]
    }
   ],
   "source": [
    "# Lambda with List Comprehension\n",
    "li = [lambda arg=x: arg * 10 for x in range(1, 5)]\n",
    "for i in li:\n",
    "    print(i())"
   ]
  },
  {
   "cell_type": "code",
   "execution_count": 39,
   "id": "3fe63103-d84d-459f-a5cd-4947692cbef8",
   "metadata": {},
   "outputs": [
    {
     "name": "stdout",
     "output_type": "stream",
     "text": [
      "Even\n",
      "Odd\n"
     ]
    }
   ],
   "source": [
    "# Lambda with if-else\n",
    "# Example: Check if a number is even or odd\n",
    "check = lambda x: \"Even\" if x % 2 == 0 else \"Odd\"\n",
    "\n",
    "print(check(8))  \n",
    "print(check(5))"
   ]
  },
  {
   "cell_type": "code",
   "execution_count": 40,
   "id": "07927a2e-78d4-46b0-b465-b818a822b10b",
   "metadata": {},
   "outputs": [
    {
     "name": "stdout",
     "output_type": "stream",
     "text": [
      "(7, 12)\n"
     ]
    }
   ],
   "source": [
    "# Lambda with Multiple Statements\n",
    "# Example: Perform addition and multiplication in a single line\n",
    "calc = lambda x, y: (x + y, x * y)\n",
    "\n",
    "res = calc(3, 4)\n",
    "print(res)"
   ]
  },
  {
   "cell_type": "markdown",
   "id": "2eaa7786-b66b-4466-9bf7-02d465839053",
   "metadata": {},
   "source": [
    "### ADVANCED LEVEL\n",
    "### Advanced OOP\n"
   ]
  },
  {
   "cell_type": "code",
   "execution_count": 43,
   "id": "fc8c3679-6581-4956-a75a-254b387da28d",
   "metadata": {},
   "outputs": [
    {
     "name": "stdout",
     "output_type": "stream",
     "text": [
      "Child: Running, Singing\n",
      "Father: Cooking, Driving\n",
      "Mother: Dancing, Painting\n"
     ]
    }
   ],
   "source": [
    "# Multiple inheritance\n",
    "# First parent class\n",
    "class Father:\n",
    "    def skills(self):\n",
    "        print(\"Father: Cooking, Driving\")\n",
    "\n",
    "# Second parent class\n",
    "class Mother:\n",
    "    def skills(self):\n",
    "        print(\"Mother: Dancing, Painting\")\n",
    "\n",
    "# Child class inherits from both Father and Mother\n",
    "class Child(Father, Mother):\n",
    "    def skills(self):\n",
    "        print(\"Child: Running, Singing\")\n",
    "        # Call skills from both parents\n",
    "        Father.skills(self)\n",
    "        Mother.skills(self)\n",
    "\n",
    "# Create object of Child\n",
    "c = Child()\n",
    "c.skills()\n"
   ]
  },
  {
   "cell_type": "code",
   "execution_count": 45,
   "id": "b6522fd8-d23d-4d0a-926d-15a4b7b9584e",
   "metadata": {},
   "outputs": [
    {
     "name": "stdout",
     "output_type": "stream",
     "text": [
      "B\n"
     ]
    }
   ],
   "source": [
    "#Example for MRO(Method Resolution Order)\n",
    "class A:\n",
    "    def show(self):\n",
    "        print(\"A\")\n",
    "\n",
    "class B(A):\n",
    "    def show(self):\n",
    "        print(\"B\")\n",
    "\n",
    "class C(A):\n",
    "    def show(self):\n",
    "        print(\"C\")\n",
    "\n",
    "class D(B, C):\n",
    "    pass\n",
    "\n",
    "d = D()\n",
    "d.show()\n"
   ]
  },
  {
   "cell_type": "code",
   "execution_count": 1,
   "id": "2b1adff3-f881-44fb-818d-aeb43d5bd22b",
   "metadata": {},
   "outputs": [
    {
     "name": "stdout",
     "output_type": "stream",
     "text": [
      "30\n",
      "30\n"
     ]
    }
   ],
   "source": [
    "# Class methods and static methods\n",
    "# static method\n",
    "class MyClass:\n",
    "    def __init__(self, value):\n",
    "        self.value = value\n",
    "\n",
    "    @staticmethod\n",
    "    def get_max_value(x, y):\n",
    "        return max(x, y)\n",
    "\n",
    "# Create an instance of MyClass\n",
    "obj = MyClass(10)\n",
    "\n",
    "print(MyClass.get_max_value(20, 30))  \n",
    "\n",
    "print(obj.get_max_value(20, 30))"
   ]
  },
  {
   "cell_type": "code",
   "execution_count": 2,
   "id": "5aa30f14-f38e-417c-a2be-b623780b326d",
   "metadata": {},
   "outputs": [
    {
     "name": "stdout",
     "output_type": "stream",
     "text": [
      "10\n"
     ]
    }
   ],
   "source": [
    "# class method\n",
    "class MyClass:\n",
    "    def __init__(self, value):\n",
    "        self.value = value\n",
    "\n",
    "    def get_value(self):\n",
    "        return self.value\n",
    "\n",
    "# Create an instance of MyClass\n",
    "obj = MyClass(10)\n",
    "\n",
    "# Call the get_value method on the instance\n",
    "print(obj.get_value())  "
   ]
  },
  {
   "cell_type": "code",
   "execution_count": 4,
   "id": "3dd316c7-88c6-4308-bc19-be1699eb251e",
   "metadata": {},
   "outputs": [
    {
     "name": "stdout",
     "output_type": "stream",
     "text": [
      "21\n",
      "29\n",
      "True\n"
     ]
    }
   ],
   "source": [
    "# class and static method \n",
    "# Python program to demonstrate\n",
    "# use of class method and static method.\n",
    "from datetime import date\n",
    "\n",
    "\n",
    "class Person:\n",
    "    def __init__(self, name, age):\n",
    "        self.name = name\n",
    "        self.age = age\n",
    "\n",
    "    # a class method to create a Person object by birth year.\n",
    "    @classmethod\n",
    "    def fromBirthYear(cls, name, year):\n",
    "        return cls(name, date.today().year - year)\n",
    "\n",
    "    # a static method to check if a Person is adult or not.\n",
    "    @staticmethod\n",
    "    def isAdult(age):\n",
    "        return age > 18\n",
    "\n",
    "\n",
    "person1 = Person('mayank', 21)\n",
    "person2 = Person.fromBirthYear('mayank', 1996)\n",
    "\n",
    "print(person1.age)\n",
    "print(person2.age)\n",
    "\n",
    "print(Person.isAdult(22))"
   ]
  },
  {
   "cell_type": "code",
   "execution_count": 7,
   "id": "7dc68f3b-1d78-48b7-980e-e0cea2d4837d",
   "metadata": {},
   "outputs": [
    {
     "name": "stdout",
     "output_type": "stream",
     "text": [
      "False\n",
      "True\n",
      "10\n"
     ]
    }
   ],
   "source": [
    "# example for metaclass\n",
    "# Define a metaclass\n",
    "class UppercaseAttributesMeta(type):\n",
    "    def __new__(cls, name, bases, dct):\n",
    "        uppercase_attrs = {\n",
    "            key.upper() if not key.startswith('__') else key: value\n",
    "            for key, value in dct.items()\n",
    "        }\n",
    "        return super().__new__(cls, name, bases, uppercase_attrs)\n",
    "\n",
    "# Use the metaclass in a class\n",
    "class MyClass(metaclass=UppercaseAttributesMeta):\n",
    "    x = 10\n",
    "    y = 20\n",
    "\n",
    "# Now the attributes are uppercase\n",
    "print(hasattr(MyClass, 'x'))  \n",
    "print(hasattr(MyClass, 'X'))  \n",
    "print(MyClass.X)              \n"
   ]
  },
  {
   "cell_type": "code",
   "execution_count": 15,
   "id": "b01b1927-1937-4788-83bc-2b6a7c5167e8",
   "metadata": {},
   "outputs": [
    {
     "name": "stdout",
     "output_type": "stream",
     "text": [
      "Email: rose.khatiwada@company.com\n",
      "Full Name: Rose Khatiwada\n",
      "Updated Email: aaditi.ghimire@company.com\n",
      "Updated Name: Aaditi Ghimire\n"
     ]
    }
   ],
   "source": [
    "# Property decorator\n",
    "class Employee:\n",
    "    def __init__(self, first_name, last_name):\n",
    "        self.first_name = first_name\n",
    "        self.last_name = last_name\n",
    "\n",
    "    @property\n",
    "    def email(self):\n",
    "        return self.first_name.lower() + \".\" + self.last_name.lower() + \"@company.com\"\n",
    "\n",
    "    @property\n",
    "    def full_name(self):\n",
    "        return self.first_name + \" \" + self.last_name\n",
    "\n",
    "    @full_name.setter\n",
    "    def full_name(self, name):\n",
    "        parts = name.strip().split(\" \")\n",
    "        if len(parts) != 2:\n",
    "            raise ValueError(\"Full name must include first and last name\")\n",
    "        self.first_name, self.last_name = parts\n",
    "\n",
    "\n",
    "# Now actually use the class\n",
    "emp = Employee(\"Rose\", \"Khatiwada\")\n",
    "\n",
    "print(\"Email: \" + emp.email)             \n",
    "print(\"Full Name: \" + emp.full_name)    \n",
    "\n",
    "emp.full_name = \"Aaditi Ghimire\"             \n",
    "\n",
    "print(\"Updated Email: \" + emp.email)     \n",
    "print(\"Updated Name: \" + emp.full_name)  \n"
   ]
  },
  {
   "cell_type": "code",
   "execution_count": null,
   "id": "a24aec53-10aa-4760-841c-39e7a4fe1735",
   "metadata": {},
   "outputs": [],
   "source": []
  }
 ],
 "metadata": {
  "kernelspec": {
   "display_name": "Python 3 (ipykernel)",
   "language": "python",
   "name": "python3"
  },
  "language_info": {
   "codemirror_mode": {
    "name": "ipython",
    "version": 3
   },
   "file_extension": ".py",
   "mimetype": "text/x-python",
   "name": "python",
   "nbconvert_exporter": "python",
   "pygments_lexer": "ipython3",
   "version": "3.12.2"
  }
 },
 "nbformat": 4,
 "nbformat_minor": 5
}
