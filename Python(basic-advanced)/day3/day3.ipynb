{
 "cells": [
  {
   "cell_type": "markdown",
   "id": "11e4ca92-6b4f-4f15-9a72-af4447221f14",
   "metadata": {},
   "source": [
    "# Concurrency & Parallelism"
   ]
  },
  {
   "cell_type": "markdown",
   "id": "4403813c-e014-4e38-bc03-80fc99afb75b",
   "metadata": {},
   "source": [
    "### Concurrency\n",
    "-> Dealing with multiple tasks at once (not necessarily simultaneously).\n",
    "It’s about managing tasks efficiently — switching between them, often with a single processor (e.g., async programming).\n",
    "\n",
    "### Parallelism\n",
    "-> Executing multiple tasks at the exact same time.\n",
    "It’s about doing tasks simultaneously using multiple cores or processors."
   ]
  },
  {
   "cell_type": "markdown",
   "id": "d2be1c35-7162-48cc-9808-db417c16a668",
   "metadata": {},
   "source": [
    "## Threading"
   ]
  },
  {
   "cell_type": "markdown",
   "id": "201bec18-c262-4777-8fe6-d80e4b9f1691",
   "metadata": {},
   "source": [
    "##### Definition: Multiple threads in one process; good for I/O-bound tasks.\n",
    "##### Use Case: Web scraping, handling user input, I/O heavy apps.\n",
    "##### Limitation: Python’s GIL prevents true parallelism for CPU tasks.\n",
    "##### Example: Two threads running concurrently."
   ]
  },
  {
   "cell_type": "code",
   "execution_count": 5,
   "id": "7228cc46-7e09-4ec8-9170-cb56e1d781f9",
   "metadata": {},
   "outputs": [
    {
     "name": "stdout",
     "output_type": "stream",
     "text": [
      "Hello\n",
      "Hello\n",
      "Bye\n",
      "Bye\n"
     ]
    }
   ],
   "source": [
    "import threading\n",
    "import time\n",
    "\n",
    "def greet():\n",
    "    print(\"Hello\")\n",
    "    time.sleep(2)\n",
    "    print(\"Bye\")\n",
    "\n",
    "t1 = threading.Thread(target=greet)\n",
    "t2 = threading.Thread(target=greet)\n",
    "t1.start()\n",
    "t2.start()\n"
   ]
  },
  {
   "cell_type": "markdown",
   "id": "7157bd92-32e9-4103-be87-3519785febdb",
   "metadata": {},
   "source": [
    "## Multi-Processing"
   ]
  },
  {
   "cell_type": "markdown",
   "id": "2be7d138-d7ae-43cc-8061-00847f780fb5",
   "metadata": {},
   "source": [
    "#### Definition: Spawns separate processes (each with its own Python interpreter).\n",
    "#### Use Case: For heavy CPU-bound work.\n",
    "#### Benefit: True parallelism (bypasses GIL).\n",
    "#### Example: Process pool for faster math ops."
   ]
  },
  {
   "cell_type": "code",
   "execution_count": 2,
   "id": "d72f8377-b7da-4188-8abc-afe29d440b6b",
   "metadata": {},
   "outputs": [
    {
     "name": "stdout",
     "output_type": "stream",
     "text": [
      "Done!\n"
     ]
    }
   ],
   "source": [
    "import multiprocessing\n",
    "\n",
    "def square(n):\n",
    "    print(\"Square:\", n * n)\n",
    "\n",
    "def cube(n):\n",
    "    print(\"Cube:\", n * n * n)\n",
    "\n",
    "if __name__ == \"__main__\":\n",
    "    p1 = multiprocessing.Process(target=square, args=(10,))\n",
    "    p2 = multiprocessing.Process(target=cube, args=(10,))\n",
    "\n",
    "    p1.start()\n",
    "    p2.start()\n",
    "\n",
    "    p1.join()\n",
    "    p2.join()\n",
    "\n",
    "    print(\"Done!\")\n"
   ]
  },
  {
   "cell_type": "markdown",
   "id": "b9fe39d7-b5cb-465c-aeeb-c8b378c16ed4",
   "metadata": {},
   "source": [
    "### What’s Happening\n",
    "🔹 Two separate processes are created — one to calculate squares, the other for cubes.\n",
    "\n",
    "🔹 Both processes run simultaneously — this is true parallel execution (thanks to multiprocessing).\n",
    "\n",
    "🔹 The main process waits for both to finish using .join() before printing \"Done!\"."
   ]
  },
  {
   "cell_type": "markdown",
   "id": "0586beb3-617b-41b0-b673-df11ec02a95c",
   "metadata": {},
   "source": [
    "## Asyncio"
   ]
  },
  {
   "cell_type": "markdown",
   "id": "adede18e-7a9a-431d-a281-d2a31acabdce",
   "metadata": {},
   "source": [
    "<p> Asyncio is a Python library that is used for concurrent programming, including the use of async iterator in Python. It is not multi-threading or multi-processing. Asyncio is used as a foundation for multiple Python asynchronous frameworks that provide high-performance network and web servers, database connection libraries, distributed task queues, etc.</p>"
   ]
  },
  {
   "cell_type": "code",
   "execution_count": 6,
   "id": "aab99357-5d8d-497c-8ca4-dedc076d15c4",
   "metadata": {},
   "outputs": [
    {
     "name": "stdout",
     "output_type": "stream",
     "text": [
      "This is \n",
      "Rose Khatiwada\n",
      "and not Aaditi Ghimire\n"
     ]
    }
   ],
   "source": [
    "import asyncio\n",
    "\n",
    "async def fn():\n",
    "    print('This is ')\n",
    "    await asyncio.sleep(1)\n",
    "    print('Rose Khatiwada')\n",
    "    await asyncio.sleep(1)\n",
    "    print('and not Aaditi Ghimire')\n",
    "\n",
    "await fn() \n"
   ]
  },
  {
   "cell_type": "markdown",
   "id": "85cee91c-2d64-457a-8bdc-2ca0d694ff1e",
   "metadata": {},
   "source": [
    "## asyncio\n",
    "<p> Use it when: You want to define a function that can be paused and resumed later.</p>"
   ]
  },
  {
   "cell_type": "code",
   "execution_count": 17,
   "id": "adeae9a6-b1a5-4b22-84a6-bd313f89d294",
   "metadata": {},
   "outputs": [
    {
     "name": "stdout",
     "output_type": "stream",
     "text": [
      "Hello World\n"
     ]
    }
   ],
   "source": [
    "async def say_hello():\n",
    "    print(\"Hello World\")\n",
    "# asyncio.run(say_hello())\n",
    "\n",
    "# In Jupyter/Notebook:\n",
    "await say_hello()\n"
   ]
  },
  {
   "cell_type": "code",
   "execution_count": 18,
   "id": "4f72aba6-bc02-4552-b088-d5393d0286ac",
   "metadata": {},
   "outputs": [
    {
     "name": "stdout",
     "output_type": "stream",
     "text": [
      "Waiting...\n",
      "Done waiting!\n"
     ]
    }
   ],
   "source": [
    "#Use it when: You want to wait for a coroutine to complete.\n",
    "async def delay():\n",
    "    print(\"Waiting...\")\n",
    "    await asyncio.sleep(2)  # wait for 2 seconds\n",
    "    print(\"Done waiting!\")\n",
    "\n",
    "await delay()"
   ]
  },
  {
   "cell_type": "markdown",
   "id": "9232b209-10b4-4327-ba6a-ff6aedc6a969",
   "metadata": {},
   "source": [
    "## async for\n",
    "<p> Use it when: You’re working with asynchronous streams or generators (like reading from a socket, async DB, or paginated API).</p>\n",
    "\n"
   ]
  },
  {
   "cell_type": "code",
   "execution_count": 19,
   "id": "a63d8c62-f11b-4e9d-b946-825698e117b2",
   "metadata": {},
   "outputs": [
    {
     "name": "stdout",
     "output_type": "stream",
     "text": [
      "Received: 0\n",
      "Received: 1\n",
      "Received: 2\n"
     ]
    }
   ],
   "source": [
    "async def async_gen():\n",
    "    for i in range(3):\n",
    "        await asyncio.sleep(1)\n",
    "        yield i\n",
    "\n",
    "async def main():\n",
    "    async for num in async_gen():\n",
    "        print(f\"Received: {num}\")\n",
    "\n",
    "await main()\n"
   ]
  },
  {
   "cell_type": "markdown",
   "id": "4e1d5005-ea8d-4ba6-9b00-3e2b69e1b84e",
   "metadata": {},
   "source": [
    "### async with\n",
    "<p> Use it when: You're using an async context manager, like for async files, sessions, or locks.</p>"
   ]
  },
  {
   "cell_type": "code",
   "execution_count": 1,
   "id": "cc1e81de-2854-46f8-a5e4-119c08426e34",
   "metadata": {},
   "outputs": [
    {
     "name": "stdout",
     "output_type": "stream",
     "text": [
      "Requirement already satisfied: aiofiles in c:\\users\\bhagi\\appdata\\local\\programs\\python\\python312\\lib\\site-packages (24.1.0)\n",
      "Hello Rose!\n",
      "This file was written using Python.\n"
     ]
    },
    {
     "name": "stderr",
     "output_type": "stream",
     "text": [
      "\n",
      "[notice] A new release of pip is available: 25.0.1 -> 25.2\n",
      "[notice] To update, run: python.exe -m pip install --upgrade pip\n"
     ]
    }
   ],
   "source": [
    "# async with\n",
    "!pip install aiofiles\n",
    "import aiofiles  # Needs: pip install aiofiles\n",
    "import asyncio\n",
    "\n",
    "async def read_file():\n",
    "    async with aiofiles.open('Rose.txt', mode='r') as f:\n",
    "        content = await f.read()\n",
    "        print(content)\n",
    "\n",
    "await read_file()"
   ]
  },
  {
   "cell_type": "code",
   "execution_count": 20,
   "id": "e1d61824-feb6-454d-8c02-e5a11d867f70",
   "metadata": {},
   "outputs": [
    {
     "name": "stdout",
     "output_type": "stream",
     "text": [
      "Entering context\n",
      "Working...\n",
      "Exiting context\n"
     ]
    }
   ],
   "source": [
    "class DummyAsyncContext:\n",
    "    async def __aenter__(self):\n",
    "        print(\"Entering context\")\n",
    "        return self\n",
    "\n",
    "    async def __aexit__(self, exc_type, exc, tb):\n",
    "        print(\"Exiting context\")\n",
    "\n",
    "    async def work(self):\n",
    "        print(\"Working...\")\n",
    "\n",
    "async def main():\n",
    "    async with DummyAsyncContext() as ctx:\n",
    "        await ctx.work()\n",
    "\n",
    "await main()\n"
   ]
  },
  {
   "cell_type": "markdown",
   "id": "f4b24f69-fbd5-4fd2-a661-09fe3bf695ed",
   "metadata": {},
   "source": [
    "### Queue\n",
    "#### The queue is a linear data structure that stores items in a First In First Out (FIFO) manner. With a queue, the least recently added item is removed first. A good example of a queue is any queue of consumers for a resource where the consumer that came first is served first.\n",
    " "
   ]
  },
  {
   "cell_type": "code",
   "execution_count": 2,
   "id": "04919a0d-5d73-4328-b691-f8284c097ae5",
   "metadata": {},
   "outputs": [
    {
     "name": "stdout",
     "output_type": "stream",
     "text": [
      "0\n",
      "1\n",
      "2\n"
     ]
    }
   ],
   "source": [
    "import threading\n",
    "import queue\n",
    "\n",
    "q = queue.Queue()\n",
    "\n",
    "def producer():\n",
    "    for i in range(3):\n",
    "        q.put(i)\n",
    "\n",
    "def consumer():\n",
    "    while not q.empty():\n",
    "        print(q.get())\n",
    "\n",
    "t1 = threading.Thread(target=producer)\n",
    "t2 = threading.Thread(target=consumer)\n",
    "\n",
    "t1.start()\n",
    "t1.join()\n",
    "t2.start()\n",
    "t2.join()"
   ]
  },
  {
   "cell_type": "markdown",
   "id": "4ddf658a-93f8-4807-8adf-9ff7c755b5b4",
   "metadata": {},
   "source": [
    "## synchronization\n",
    "#### Used to prevent race conditions when multiple threads/processes access the same resource (e.g. a variable, file, counter)."
   ]
  },
  {
   "cell_type": "code",
   "execution_count": 22,
   "id": "6d952010-1021-4f1d-8e62-08e7edb3899a",
   "metadata": {},
   "outputs": [
    {
     "name": "stdout",
     "output_type": "stream",
     "text": [
      "Final counter: 200000\n"
     ]
    }
   ],
   "source": [
    "counter = 0\n",
    "lock = threading.Lock()\n",
    "\n",
    "def increment():\n",
    "    global counter\n",
    "    for _ in range(100000):\n",
    "        with lock:  # only one thread can access at a time\n",
    "            counter += 1\n",
    "\n",
    "threads = [threading.Thread(target=increment) for _ in range(2)]\n",
    "[t.start() for t in threads]\n",
    "[t.join() for t in threads]\n",
    "\n",
    "print(\"Final counter:\", counter)\n"
   ]
  },
  {
   "cell_type": "code",
   "execution_count": null,
   "id": "7c58d5b5-4118-4147-8ea4-6645e5cae31e",
   "metadata": {},
   "outputs": [],
   "source": []
  }
 ],
 "metadata": {
  "kernelspec": {
   "display_name": "Python 3 (ipykernel)",
   "language": "python",
   "name": "python3"
  },
  "language_info": {
   "codemirror_mode": {
    "name": "ipython",
    "version": 3
   },
   "file_extension": ".py",
   "mimetype": "text/x-python",
   "name": "python",
   "nbconvert_exporter": "python",
   "pygments_lexer": "ipython3",
   "version": "3.12.2"
  }
 },
 "nbformat": 4,
 "nbformat_minor": 5
}
