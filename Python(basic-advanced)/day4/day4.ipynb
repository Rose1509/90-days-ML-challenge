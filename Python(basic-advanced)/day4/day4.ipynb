{
 "cells": [
  {
   "cell_type": "markdown",
   "id": "2b13a9bd-a40d-4cc2-ac76-c3e1ea6d6329",
   "metadata": {},
   "source": [
    "# Type Hints & Annotations "
   ]
  },
  {
   "cell_type": "markdown",
   "id": "f502cbff-5383-4cc1-8c7a-c3825e5b3415",
   "metadata": {},
   "source": [
    "<p>Python is dynamically typed, but with type hints (introduced in Python 3.5+), you can suggest types without enforcing them at runtime. Type hints are a feature in Python that allow developers to annotate their code with expected types for variables and function arguments. This helps to improve code readability and provides an opportunity to catch errors before runtime using type checkers like mypy.</p>\n",
    "\n",
    "\n"
   ]
  },
  {
   "cell_type": "markdown",
   "id": "da717596-4c7b-4fdc-9fd8-c8eeb07782c1",
   "metadata": {},
   "source": [
    "### Why Use It?\n",
    "-> Cleaner Code:\n",
    "Improves readability and maintainability by making the code more explicit and structured.\n",
    "\n",
    "-> Easier Debugging:\n",
    "Type-related issues can be caught early, reducing runtime errors and speeding up troubleshooting.\n",
    "\n",
    "-> Better Tooling Support:\n",
    "Enables powerful features like auto-completion, intelligent refactoring, and inline documentation in editors like VSCode and PyCharm.\n",
    "\n",
    "-> Scalability:\n",
    "Strong typing becomes essential as codebases grow — it makes collaboration easier, onboarding faster, and bugs less frequent."
   ]
  },
  {
   "cell_type": "code",
   "execution_count": 18,
   "id": "0fc597e8-f5f3-427d-a330-0228d05b92cb",
   "metadata": {},
   "outputs": [
    {
     "name": "stdout",
     "output_type": "stream",
     "text": [
      "None\n"
     ]
    }
   ],
   "source": [
    "def factorial(i: int) -> int:\n",
    "    if not isinstance(i, int):  \n",
    "        return None\n",
    "    if i < 0:\n",
    "        return None\n",
    "    if i == 0:\n",
    "        return 1\n",
    "    return i * factorial(i - 1)\n",
    "\n",
    "print(factorial(5.01))"
   ]
  },
  {
   "cell_type": "code",
   "execution_count": 25,
   "id": "5481227c-a925-4351-85d6-8fe728001586",
   "metadata": {},
   "outputs": [
    {
     "name": "stdout",
     "output_type": "stream",
     "text": [
      "Requirement already satisfied: mypy in c:\\users\\bhagi\\appdata\\local\\programs\\python\\python312\\lib\\site-packages (1.17.1)\n",
      "Requirement already satisfied: typing_extensions>=4.6.0 in c:\\users\\bhagi\\appdata\\local\\programs\\python\\python312\\lib\\site-packages (from mypy) (4.12.2)\n",
      "Requirement already satisfied: mypy_extensions>=1.0.0 in c:\\users\\bhagi\\appdata\\local\\programs\\python\\python312\\lib\\site-packages (from mypy) (1.1.0)\n",
      "Requirement already satisfied: pathspec>=0.9.0 in c:\\users\\bhagi\\appdata\\local\\programs\\python\\python312\\lib\\site-packages (from mypy) (0.12.1)\n"
     ]
    },
    {
     "name": "stderr",
     "output_type": "stream",
     "text": [
      "\n",
      "[notice] A new release of pip is available: 25.0.1 -> 25.2\n",
      "[notice] To update, run: python.exe -m pip install --upgrade pip\n"
     ]
    }
   ],
   "source": [
    "# Static Type Checking with mypy\n",
    "!pip install mypy\n"
   ]
  },
  {
   "cell_type": "markdown",
   "id": "0057227a-34a4-40a0-8ddc-9c64f478ad57",
   "metadata": {},
   "source": [
    "## Why Use the typing Module?\n",
    "-> Static Type Checking:\n",
    "Enables tools like mypy to catch type-related bugs before runtime, making development safer.\n",
    "\n",
    "-> Improved Readability & Maintainability:\n",
    "Type hints make it clear what each function expects and returns — no more guessing what a variable holds.\n",
    "\n",
    "-> Early Bug Detection:\n",
    "While not enforced at runtime, type annotations help catch issues early during development, reducing debugging time."
   ]
  },
  {
   "cell_type": "code",
   "execution_count": 7,
   "id": "28024173-a8d1-40f4-9afa-e30b6e00cc99",
   "metadata": {},
   "outputs": [],
   "source": [
    "#List\n",
    "from typing import List\n",
    "\n",
    "numbers: List[int] = [1, 2, 3]\n",
    "names: List[str] = [\"A\", \"B\"]"
   ]
  },
  {
   "cell_type": "code",
   "execution_count": 14,
   "id": "824e83ef-755b-4831-8858-c3410ce758e9",
   "metadata": {},
   "outputs": [],
   "source": [
    "# Dict\n",
    "from typing import Dict\n",
    "\n",
    "person: Dict[str, int] = {\"age\": 20, \"height\": 155}"
   ]
  },
  {
   "cell_type": "code",
   "execution_count": 16,
   "id": "09664360-cfc5-49de-927c-946c5a820b84",
   "metadata": {},
   "outputs": [],
   "source": [
    "# Union\n",
    "from typing import Union\n",
    "\n",
    "value: Union[int, str] = 40\n",
    "value = \"forty-one\"  # Also valid"
   ]
  },
  {
   "cell_type": "code",
   "execution_count": 12,
   "id": "e45b0a79-8cf6-4284-8de0-df124bb8ce85",
   "metadata": {},
   "outputs": [],
   "source": [
    "# Optional\n",
    "from typing import Optional\n",
    "\n",
    "nickname: Optional[str] = None\n",
    "nickname = \"Rose\"  # Also valid"
   ]
  },
  {
   "cell_type": "code",
   "execution_count": 13,
   "id": "fac2c60e-e1f3-4634-a7f6-40cdfd563b90",
   "metadata": {},
   "outputs": [],
   "source": [
    "# Tuple\n",
    "from typing import Tuple\n",
    "\n",
    "user_info: Tuple[str, int] = (\"Rose\", 40)\n"
   ]
  },
  {
   "cell_type": "code",
   "execution_count": 17,
   "id": "5cbe1c11-6739-4dd0-bb42-b040a4af3b0a",
   "metadata": {},
   "outputs": [],
   "source": [
    "from typing import List, Optional\n",
    "\n",
    "# Function to greet a person\n",
    "def greet(name: str) -> str:\n",
    "    return \"Hello, \" + name\n",
    "\n",
    "# Function to calculate the average of a list of numbers\n",
    "def average(numbers: List[int]) -> float:\n",
    "    return sum(numbers) / len(numbers)\n",
    "\n",
    "# Function that returns an email if provided, else a default one\n",
    "def get_email(username: Optional[str]) -> str:\n",
    "    if username is None or username.strip() == \"\":\n",
    "        return \"guest@exa\""
   ]
  },
  {
   "cell_type": "markdown",
   "id": "09ec2db5-3355-43dd-ae0e-f8134b01a73d",
   "metadata": {},
   "source": [
    "## Dataclass\n"
   ]
  },
  {
   "cell_type": "markdown",
   "id": "80f6d740-3c9a-42a8-9059-a149bbea8668",
   "metadata": {},
   "source": [
    "<p>A dataclass  is a class designed primarily to hold data, minimizing the boilerplate code typically required for such classes.  A dataclass is a decorator (@dataclass) that automatically adds special methods to your class like: </p>\n",
    "\n",
    "What @dataclass Automatically Generates \n",
    "-> __init__\n",
    "Automatically creates the constructor so you don’t have to write it manually.\n",
    "\n",
    "-> __repr__\n",
    "Provides a human-readable string representation of the object — helpful for debugging and logging.\n",
    "\n",
    "-> __eq__\n",
    "Enables comparison between instances using == based on field values.\n",
    "\n",
    "-> __hash__ (optional)\n",
    "Generated only if the dataclass is immutable (frozen=True). Allows use in sets and as dictionary keys.\n",
    "\n",
    "-> __lt__, __gt__, etc. (optional)\n",
    "Comparison methods like less-than or greater-than are included if order=True is set."
   ]
  },
  {
   "cell_type": "markdown",
   "id": "0be3223c-57ee-4480-ae43-006cd9f66ed5",
   "metadata": {},
   "source": [
    "## When to Use It? (referring to dataclasses)\n",
    "-> Modeling Data Containers:\n",
    "Ideal for representing structured data like User, Product, or Book — without boilerplate code.\n",
    "\n",
    "-> Need for Immutability, Equality, or Auto-Generated __init__:\n",
    "Use features like frozen=True for immutability, and get __init__, __repr__, and __eq__ auto-generated for free.\n",
    "\n",
    "-> Building POPOs (Plain Old Python Objects):\n",
    "@dataclass offers a clean, lightweight, and Pythonic way to build simple classes quickly."
   ]
  },
  {
   "cell_type": "code",
   "execution_count": 5,
   "id": "73b61227-5a9c-418c-9e4d-f596af7f4386",
   "metadata": {},
   "outputs": [
    {
     "name": "stdout",
     "output_type": "stream",
     "text": [
      "Student 1 Name: Roseeyy\n",
      "Student 2 Email: rose09@example.com\n",
      "Student(name='Roseeyy', age=20, grade=75.5, email=None)\n",
      "Are they same? False\n"
     ]
    }
   ],
   "source": [
    "# Example of dataclass\n",
    "from dataclasses import dataclass\n",
    "from typing import Optional\n",
    "\n",
    "# Define the dataclass\n",
    "@dataclass\n",
    "class Student:\n",
    "    name: str\n",
    "    age: int\n",
    "    grade: float\n",
    "    email: Optional[str] = None  # Optional field with default = None\n",
    "\n",
    "# Create student objects\n",
    "student1 = Student(\"Roseeyy\", 20, 75.5)\n",
    "student2 = Student(\"Mina\", 16, 99.0, \"rose09@example.com\")\n",
    "\n",
    "# Accessing fields\n",
    "print(\"Student 1 Name:\", student1.name)\n",
    "print(\"Student 2 Email:\", student2.email)\n",
    "\n",
    "# Auto-generated __repr__\n",
    "print(student1)\n",
    "\n",
    "# Auto-generated __eq__\n",
    "print(\"Are they same?\", student1 == student2)"
   ]
  },
  {
   "cell_type": "markdown",
   "id": "583effb5-0b31-47da-8730-ee1380e36448",
   "metadata": {},
   "source": [
    "#  Testing and Debugging\n",
    "# Unittest\n"
   ]
  },
  {
   "cell_type": "markdown",
   "id": "aa456e25-a07f-4e43-97ad-1cce5b898759",
   "metadata": {},
   "source": [
    "<p>Unit Testing is the first level of software testing where the smallest testable parts of software are tested.  This is used to validate that each software unit performs as designed. The unittest module is a built-in Python library for unit testing, inspired by JUnit. It provides a framework for writing and running tests to ensure the correctness and reliability of Python code.</p>\n",
    "\n",
    "## Key Features:\n",
    "#### -> Test Discovery: It can find and run all test methods starting with test_.\n",
    "#### -> Test Fixtures:\n",
    "#### -> setUp() – runs before each test.\n",
    "#### -> tearDown() – runs after each test.\n",
    "#### -> Command-line execution: python -m unittest test_file.py"
   ]
  },
  {
   "cell_type": "code",
   "execution_count": 32,
   "id": "0fc6642d-dfc8-4149-a3c2-afaf5eea4793",
   "metadata": {},
   "outputs": [
    {
     "name": "stderr",
     "output_type": "stream",
     "text": [
      ".\n",
      "----------------------------------------------------------------------\n",
      "Ran 1 test in 0.002s\n",
      "\n",
      "OK\n"
     ]
    }
   ],
   "source": [
    "import unittest\n",
    "\n",
    "def add(a, b):\n",
    "    return a + b\n",
    "\n",
    "class TestMath(unittest.TestCase):\n",
    "\n",
    "    def test_add(self):\n",
    "        self.assertEqual(add(2, 3), 5)\n",
    "        self.assertNotEqual(add(2, 2), 5)\n",
    "\n",
    "if __name__ == \"__main__\":\n",
    "    unittest.TextTestRunner().run(unittest.TestLoader().loadTestsFromTestCase(TestMath))"
   ]
  },
  {
   "cell_type": "markdown",
   "id": "ce9d175e-bddc-483c-a011-accfa6296d76",
   "metadata": {},
   "source": [
    "## Pytest"
   ]
  },
  {
   "cell_type": "markdown",
   "id": "5e30bc5a-16ab-4b57-91b8-3845d7ca113c",
   "metadata": {},
   "source": [
    "### What it is:\n",
    "\n",
    "<p>Pytest is a framework based on Python. It is mainly used to write API test cases. It helps you write better programs.</p>\n",
    "\n",
    "\n",
    "- A powerful, **modern testing tool**.\n",
    "- Way more flexible and concise than unittest.\n",
    "- No need to wrap tests in classes.\n",
    "- Requires installation: `pip install pytest`.\n",
    "- You write **plain functions**, no need for classes unless you want them.\n",
    "\n",
    "### Key Features:\n",
    "\n",
    "- **Fixtures** using `@pytest.fixture` for setup/teardown logic.\n",
    "- **Parameterization** with `@pytest.mark.parametrize` to test multiple inputs.\n",
    "- **Detailed failure introspection** – Shows what failed and why, without needing custom messages.\n",
    "- **Plugins** galore (e.g. `pytest-django`, `pytest-cov`, `pytest-mock`).\n",
    "\n",
    "Way more flexible and concise than unittest.\n",
    "No need to wrap tests in classes."
   ]
  },
  {
   "cell_type": "code",
   "execution_count": 3,
   "id": "3a0840f0-06fe-4959-bba1-9f9bb679f075",
   "metadata": {},
   "outputs": [
    {
     "name": "stdout",
     "output_type": "stream",
     "text": [
      "Requirement already satisfied: pytest in c:\\users\\bhagi\\appdata\\local\\programs\\python\\python312\\lib\\site-packages (8.4.1)\n",
      "Requirement already satisfied: colorama>=0.4 in c:\\users\\bhagi\\appdata\\local\\programs\\python\\python312\\lib\\site-packages (from pytest) (0.4.6)\n",
      "Requirement already satisfied: iniconfig>=1 in c:\\users\\bhagi\\appdata\\local\\programs\\python\\python312\\lib\\site-packages (from pytest) (2.1.0)\n",
      "Requirement already satisfied: packaging>=20 in c:\\users\\bhagi\\appdata\\local\\programs\\python\\python312\\lib\\site-packages (from pytest) (24.2)\n",
      "Requirement already satisfied: pluggy<2,>=1.5 in c:\\users\\bhagi\\appdata\\local\\programs\\python\\python312\\lib\\site-packages (from pytest) (1.6.0)\n",
      "Requirement already satisfied: pygments>=2.7.2 in c:\\users\\bhagi\\appdata\\local\\programs\\python\\python312\\lib\\site-packages (from pytest) (2.19.1)\n",
      "Note: you may need to restart the kernel to use updated packages.\n"
     ]
    },
    {
     "name": "stderr",
     "output_type": "stream",
     "text": [
      "\n",
      "[notice] A new release of pip is available: 25.0.1 -> 25.2\n",
      "[notice] To update, run: python.exe -m pip install --upgrade pip\n"
     ]
    }
   ],
   "source": [
    "pip install pytest\n"
   ]
  },
  {
   "cell_type": "code",
   "execution_count": 1,
   "id": "e0af3cfd-cbb0-4558-89d8-3b90096a94a7",
   "metadata": {},
   "outputs": [
    {
     "name": "stdout",
     "output_type": "stream",
     "text": [
      "\u001b[1m============================= test session starts =============================\u001b[0m\n",
      "platform win32 -- Python 3.12.2, pytest-8.4.1, pluggy-1.6.0\n",
      "rootdir: C:\\Users\\bhagi\\Documents\\Scrapping\n",
      "plugins: anyio-4.8.0\n",
      "collected 1 item\n",
      "\n",
      "test.py \u001b[32m.\u001b[0m\u001b[32m                                                                [100%]\u001b[0m\n",
      "\n",
      "\u001b[32m============================== \u001b[32m\u001b[1m1 passed\u001b[0m\u001b[32m in 0.03s\u001b[0m\u001b[32m ==============================\u001b[0m\n"
     ]
    }
   ],
   "source": [
    "# Write to a .py file\n",
    "with open(\"test.py\", \"w\") as f:\n",
    "    f.write('''\n",
    "def add(a, b):\n",
    "    return a + b\n",
    "\n",
    "def test_add():\n",
    "    assert add(1, 2) == 3\n",
    "    assert add(-1, 1) == 0\n",
    "''')\n",
    "!pytest test.py"
   ]
  },
  {
   "cell_type": "markdown",
   "id": "52b7262a-0a88-455b-b796-d764dc83921c",
   "metadata": {},
   "source": [
    "## Mocking\n",
    "Mocking is a technique used in unit testing to isolate the code being tested from its external dependencies. Mocking is **faking** real objects or functions in your tests so you don’t rely on external systems (like APIs, databases, files, etc.) and **only test your logic**.\n",
    "\n",
    "### Why Use Mocking?\n",
    "\n",
    "→ Isolate the unit under test\n",
    "\n",
    "→ Avoid side effects (network calls, DB writes)\n",
    "\n",
    "→ Control return values and behavior\n",
    "\n",
    "→ Speed up tests\n",
    "\n",
    "→ Simulate edge cases easily"
   ]
  },
  {
   "cell_type": "code",
   "execution_count": 4,
   "id": "a6372758-b022-49bd-9bb0-412d6baedaaa",
   "metadata": {},
   "outputs": [
    {
     "name": "stdout",
     "output_type": "stream",
     "text": [
      "rainy\n"
     ]
    }
   ],
   "source": [
    "from unittest.mock import Mock\n",
    "\n",
    "# Fake API function\n",
    "def get_weather():\n",
    "    return \"sunny\"\n",
    "\n",
    "# Test function using mock\n",
    "weather = Mock(return_value=\"rainy\")\n",
    "print(weather())  # Output: rainy\n"
   ]
  },
  {
   "cell_type": "markdown",
   "id": "a14ab083-7b48-43bc-98e2-d56cc2650545",
   "metadata": {},
   "source": [
    "## Assesrt statement\n",
    "The `assert` statement in Python is a debugging aid used to check if a given condition is true. It is a built-in construct that helps in verifying assumptions about the state of the program during development.\n",
    "\n",
    "**How it works:**\n",
    "\n",
    "If condition is:\n",
    "\n",
    "- `True` → nothing happens, code continues\n",
    "- `False` → throws `AssertionError` (with optional message)\n",
    "\n",
    "**Purpose and Use Cases:**\n",
    "\n",
    "- **Debugging:**\n",
    "    \n",
    "    Assertions are primarily used for debugging. They help identify logical errors or incorrect assumptions in the code early in the development cycle.\n",
    "    \n",
    "- **Sanity Checks:**\n",
    "    \n",
    "    They act as sanity checks, ensuring that certain conditions that are expected to always be true (unless there's a bug) are indeed met.\n",
    "    \n",
    "- **Pre-conditions and Post-conditions:**\n",
    "    \n",
    "    Assertions can be used to check pre-conditions (inputs to a function) and post-conditions (outputs of a function) to ensure correct behavior."
   ]
  },
  {
   "cell_type": "markdown",
   "id": "8a1bb004-26b5-4799-8bf6-35197e0f31cc",
   "metadata": {},
   "source": [
    "## **Logging (Built-in `logging` module)**\n",
    "\n",
    "**Purpose:**\n",
    "\n",
    "Instead of printing stuff with `print()`, use `logging` to track events, errors, and statuses in a clean and professional way.\n",
    "\n",
    "### **Why Logging > Print**\n",
    "\n",
    "- `print()` is for devs hacking things together.\n",
    "- `logging` is for real devs writing maintainable code.\n",
    "\n",
    "### Common Use Cases:\n",
    "\n",
    "- Track app flow\n",
    "- Debug unexpected behavior in production\n",
    "- Record errors without crashing"
   ]
  },
  {
   "cell_type": "code",
   "execution_count": 6,
   "id": "5d699603-c346-4648-9eac-bee167874577",
   "metadata": {},
   "outputs": [
    {
     "name": "stderr",
     "output_type": "stream",
     "text": [
      "INFO:root:The value of x is 42\n"
     ]
    }
   ],
   "source": [
    "import logging\n",
    "\n",
    "logging.basicConfig(level=logging.INFO)\n",
    "\n",
    "x = 42\n",
    "logging.info(f\"The value of x is {x}\")\n"
   ]
  },
  {
   "cell_type": "markdown",
   "id": "1dee7311-a0b5-42eb-b0f2-c9d183619e23",
   "metadata": {},
   "source": [
    "## **Debugger (`pdb` — Python Debugger)**\n",
    "\n",
    "**Purpose:**\n",
    "\n",
    "Step through your code *line by line* while it runs. Catch bugs like a surgeon — not a caveman with `print()`.\n",
    "\n",
    "## Logging vs Debugging\n",
    "\n",
    "| Feature | Logging | Debugging (`pdb`) |\n",
    "| --- | --- | --- |\n",
    "| When to use | During normal execution / prod | During development / bug fixing |\n",
    "| Output | Terminal/file logs | Interactive terminal session |\n",
    "| Performance | Minimal impact if managed well | Stops execution temporarily |\n",
    "| Use case | Monitoring | Inspecting live code |"
   ]
  },
  {
   "cell_type": "code",
   "execution_count": null,
   "id": "996d04b2-7e1d-499c-9d41-5d7d048a56f4",
   "metadata": {},
   "outputs": [
    {
     "name": "stdout",
     "output_type": "stream",
     "text": [
      "--Return--\n",
      "None\n",
      "> \u001b[32mc:\\users\\bhagi\\appdata\\local\\temp\\ipykernel_5336\\1108430576.py\u001b[39m(\u001b[92m6\u001b[39m)\u001b[36m<module>\u001b[39m\u001b[34m()\u001b[39m\n",
      "\n"
     ]
    },
    {
     "name": "stdin",
     "output_type": "stream",
     "text": [
      "ipdb>  3\n"
     ]
    },
    {
     "name": "stdout",
     "output_type": "stream",
     "text": [
      "3\n"
     ]
    },
    {
     "name": "stdin",
     "output_type": "stream",
     "text": [
      "ipdb>  3\n"
     ]
    },
    {
     "name": "stdout",
     "output_type": "stream",
     "text": [
      "3\n"
     ]
    },
    {
     "name": "stdin",
     "output_type": "stream",
     "text": [
      "ipdb>  4\n"
     ]
    },
    {
     "name": "stdout",
     "output_type": "stream",
     "text": [
      "4\n"
     ]
    },
    {
     "name": "stdin",
     "output_type": "stream",
     "text": [
      "ipdb>  2\n"
     ]
    },
    {
     "name": "stdout",
     "output_type": "stream",
     "text": [
      "2\n"
     ]
    },
    {
     "name": "stdin",
     "output_type": "stream",
     "text": [
      "ipdb>  2\n"
     ]
    },
    {
     "name": "stdout",
     "output_type": "stream",
     "text": [
      "2\n"
     ]
    },
    {
     "name": "stdin",
     "output_type": "stream",
     "text": [
      "ipdb>  4\n"
     ]
    },
    {
     "name": "stdout",
     "output_type": "stream",
     "text": [
      "4\n"
     ]
    },
    {
     "name": "stdin",
     "output_type": "stream",
     "text": [
      "ipdb>  6\n"
     ]
    },
    {
     "name": "stdout",
     "output_type": "stream",
     "text": [
      "6\n"
     ]
    },
    {
     "name": "stdin",
     "output_type": "stream",
     "text": [
      "ipdb>  7\n"
     ]
    },
    {
     "name": "stdout",
     "output_type": "stream",
     "text": [
      "7\n"
     ]
    },
    {
     "name": "stdin",
     "output_type": "stream",
     "text": [
      "ipdb>  10\n"
     ]
    },
    {
     "name": "stdout",
     "output_type": "stream",
     "text": [
      "10\n"
     ]
    },
    {
     "name": "stdin",
     "output_type": "stream",
     "text": [
      "ipdb>  5\n"
     ]
    },
    {
     "name": "stdout",
     "output_type": "stream",
     "text": [
      "5\n"
     ]
    },
    {
     "name": "stdin",
     "output_type": "stream",
     "text": [
      "ipdb>  10\n"
     ]
    },
    {
     "name": "stdout",
     "output_type": "stream",
     "text": [
      "10\n"
     ]
    },
    {
     "name": "stdin",
     "output_type": "stream",
     "text": [
      "ipdb>  5\n"
     ]
    },
    {
     "name": "stdout",
     "output_type": "stream",
     "text": [
      "5\n"
     ]
    },
    {
     "name": "stdin",
     "output_type": "stream",
     "text": [
      "ipdb>  v\n"
     ]
    },
    {
     "name": "stdout",
     "output_type": "stream",
     "text": [
      "*** NameError: name 'v' is not defined\n"
     ]
    }
   ],
   "source": [
    "import pdb\n",
    "\n",
    "a = 10\n",
    "b = 5\n",
    "\n",
    "pdb.set_trace()  # ← This line pauses execution. You can inspect vars.\n",
    "\n",
    "c = a + b\n",
    "print(c)\n"
   ]
  },
  {
   "cell_type": "code",
   "execution_count": 5,
   "id": "3bc048a8-160f-4bb4-a577-2dc220c72a15",
   "metadata": {},
   "outputs": [],
   "source": [
    "x = 5\n",
    "y = 2 + 3\n",
    "\n",
    "assert x == y, \"x and y are not equal\"  # No error, both are 5\n",
    "\n",
    "# assert x == 10, \"x is not 10\"  ← this would crash with AssertionError\n"
   ]
  },
  {
   "cell_type": "markdown",
   "id": "f3c96a10-3d56-4dc1-ad40-e06dfeb504bb",
   "metadata": {},
   "source": [
    "# Regular Expressions\n"
   ]
  },
  {
   "cell_type": "markdown",
   "id": "833ee372-5f91-47ed-b78a-56b22e9b1e53",
   "metadata": {},
   "source": [
    "<p>Regular expressions (regex) are powerful tools for pattern matching and text manipulation. They provide a concise way to search, match, and replace text based on patterns.</p>\n",
    "\n",
    "### Key Concepts\n",
    "\n",
    "- **Pattern**: A sequence of characters that defines a search pattern\n",
    "- **Match**: When text conforms to a pattern\n",
    "- **Metacharacters**: Special characters with special meanings (`.`, , `+`, `?`, etc.)\n",
    "- **Literal characters**: Characters that match themselves"
   ]
  },
  {
   "cell_type": "code",
   "execution_count": null,
   "id": "1ae09219-57dc-4e5a-88d5-37f0092744b4",
   "metadata": {},
   "outputs": [],
   "source": [
    "Example :  Regular expression for an email address :\n",
    "^([a-zA-Z0-9_\\-\\.]+)@([a-zA-Z0-9_\\-\\.]+)\\.([a-zA-Z]{2,5})$ "
   ]
  },
  {
   "cell_type": "markdown",
   "id": "280b5b92-e905-43c4-ab1f-978fccddeb2f",
   "metadata": {},
   "source": [
    "## Pattern Matching, search, replace"
   ]
  },
  {
   "cell_type": "markdown",
   "id": "9c67fc43-6dbf-4e9b-9292-bdac958a7ac6",
   "metadata": {},
   "source": [
    "## **Pattern Matching:**\n",
    "\n",
    "<p>Pattern matching involves identifying specific sequences of characters or data structures that conform to a defined pattern. This pattern can be a simple literal string or a complex regular expression that describes a set of possible matches. Many programming languages and tools offer built-in functionalities for pattern matching, allowing for efficient identification of desired elements within larger bodies of text or data.</p>\n",
    "\n",
    "### Use Cases:\n",
    "\n",
    "- **Input validation**\n",
    "    - Validate email addresses, phone numbers, ZIP codes, etc.\n",
    "    - `r\"\\b[A-Za-z0-9._%+-]+@[A-Za-z0-9.-]+\\.[A-Z|a-z]{2,}\\b\"`\n",
    "- **Data extraction**\n",
    "    - Extract dates, hashtags, mentions, or URLs from a text.\n",
    "    - Get all `@usernames` from a tweet.\n",
    "- **Log parsing**\n",
    "    - Match error messages, timestamps, or IP addresses in server logs.\n",
    "    - Extract `[ERROR]` entries from thousands of log lines.\n",
    "- **Tokenization in NLP**\n",
    "    - Split sentences into tokens (words/punctuation) using regex patterns.\n",
    "- **Syntax checking**\n",
    "    - Quickly detect if strings follow a defined syntax (e.g., file paths or identifiers)"
   ]
  },
  {
   "cell_type": "code",
   "execution_count": 11,
   "id": "44c28573-3e08-4c84-be6c-8f4f65d86e90",
   "metadata": {},
   "outputs": [
    {
     "name": "stdout",
     "output_type": "stream",
     "text": [
      "Valid\n"
     ]
    }
   ],
   "source": [
    "#Example\n",
    "import re\n",
    "phone = \"9841-234-567\"\n",
    "pattern = r\"^\\d{4}-\\d{3}-\\d{3}$\"\n",
    "\n",
    "if re.match(pattern, phone):\n",
    "    print(\"Valid\")\n",
    "else:\n",
    "    print(\"Invalid\")"
   ]
  },
  {
   "cell_type": "markdown",
   "id": "4805187c-2562-4f68-bad9-43efa2e82bcd",
   "metadata": {},
   "source": [
    "## **Search:**\n",
    "\n",
    "Searching, in this context, refers to the process of locating occurrences of a specified pattern within a larger text or data set. This can involve finding the first instance, all instances, or instances that meet certain criteria (e.g., case-sensitive or case-insensitive). The result of a search operation typically indicates whether a match was found and, if so, its location(s) within the searched content.\n",
    "\n",
    "### Use Cases:\n",
    "\n",
    "- **Keyword search**\n",
    "    - Find if a word like \"urgent\" or \"error\" exists in an email or file.\n",
    "- **Log analysis**\n",
    "    - Search logs for specific codes, like `404` or `503`.\n",
    "- **File scanning**\n",
    "    - Search for occurrences of specific API keys or secrets in files.\n",
    "- **Web scraping**\n",
    "    - Search for specific tags or class names in HTML content.\n",
    "- **Case-insensitive matching**\n",
    "    - Detect terms like \"admin\" regardless of uppercase/lowercase: `re.search(\"admin\", text, re.IGNORECASE)`\n",
    "- **Search with conditions**\n",
    "    - E.g., Find all words that start with a capital letter followed by digits."
   ]
  },
  {
   "cell_type": "code",
   "execution_count": 12,
   "id": "a8a9c54e-f78f-4f75-8f81-5ecd3265162a",
   "metadata": {},
   "outputs": [
    {
     "name": "stdout",
     "output_type": "stream",
     "text": [
      "OTP found: 456789\n"
     ]
    }
   ],
   "source": [
    "#Example\n",
    "text = \"Your OTP is 456789. Do not share it.\"\n",
    "pattern = r\"\\d{6}\"\n",
    "\n",
    "match = re.search(pattern, text)\n",
    "if match:\n",
    "    print(\"OTP found:\", match.group())   #456789\n",
    "else:\n",
    "    print(\"No OTP found.\")\n"
   ]
  },
  {
   "cell_type": "markdown",
   "id": "b713d238-e43e-4221-adff-0bdfd9af0f5d",
   "metadata": {},
   "source": [
    "## re.findall(pattern, string):\n",
    "<p>This function finds all non-overlapping occurrences of the pattern in the string and returns them as a list of strings. If the pattern contains capturing groups, it returns a list of tuples, where each tuple contains the strings matched by the groups.\n",
    "</p>"
   ]
  },
  {
   "cell_type": "code",
   "execution_count": 15,
   "id": "2eb20a27-79cd-4873-8e5f-06b910fe7122",
   "metadata": {},
   "outputs": [
    {
     "name": "stdout",
     "output_type": "stream",
     "text": [
      "['apple', 'apple']\n",
      "['30', '5', '5']\n"
     ]
    }
   ],
   "source": [
    "text = \"apple banana apple orange\"\n",
    "matches = re.findall(r\"apple\", text)\n",
    "print(matches) # Output: ['apple', 'apple']\n",
    "\n",
    "text_with_numbers = \"Price: $30, Quantity: 5, Discount: $5\"\n",
    "numbers = re.findall(r\"\\d+\", text_with_numbers)\n",
    "print(numbers) # Output: ['30', '5', '5']"
   ]
  },
  {
   "cell_type": "markdown",
   "id": "5800ceff-dad6-4549-b66a-6dde7454d5b7",
   "metadata": {},
   "source": [
    "## Use Case:\n",
    "<p>Use re.search() when you need to find the first occurrence of a pattern and potentially extract specific parts of that match using groups.</p><p> Use re.findall() when you need to retrieve all instances of a pattern within a string.</p>"
   ]
  },
  {
   "cell_type": "markdown",
   "id": "f36cf521-7f88-4887-8866-3dc09dfb8c03",
   "metadata": {},
   "source": [
    "## **Replace:**\n",
    "\n",
    "Replacement involves substituting all or specific occurrences of a matched pattern with a new string or value. This operation is often performed in conjunction with searching, where identified patterns are then modified. Regular expressions enhance replacement capabilities by allowing for dynamic replacements using captured groups, where parts of the original matched pattern can be reused or reordered in the replacement string.\n",
    "\n",
    "### Use Cases:\n",
    "\n",
    "- **Censoring sensitive content**\n",
    "    - Replace curse words or personal data with placeholders.\n",
    "    - Replace `\\d{16}` (credit card numbers) with `XXXX-XXXX-XXXX-XXXX`\n",
    "- **Format conversion**\n",
    "    - Convert date formats: from `DD-MM-YYYY` → `YYYY/MM/DD`\n",
    "- **HTML/Markdown cleanup**\n",
    "    - Replace `<br>` tags with `\\n`, or `*bold**` with `<strong>bold</strong>`\n",
    "- **Refactoring code/text**\n",
    "    - Replace deprecated function names or variables in multiple files.\n",
    "- **Dynamic template generation**\n",
    "    - Use regex to swap out `{{placeholders}}` with actual values.\n",
    "- **Reordering strings using groups**\n",
    "    - Swap \"Last, First\" to \"First Last\":\n",
    "        \n",
    "        `r\"(\\w+), (\\w+)\" → r\"\\2 \\1\"`"
   ]
  },
  {
   "cell_type": "code",
   "execution_count": 17,
   "id": "98ba5b7f-50cb-4b09-a7b6-446624c9cb36",
   "metadata": {},
   "outputs": [
    {
     "name": "stdout",
     "output_type": "stream",
     "text": [
      "Today is 2025/08/07\n"
     ]
    }
   ],
   "source": [
    "#re.sub(pattern, placement, string)\n",
    "text = \"Today is 07-08-2025\"\n",
    "new_text = re.sub(r\"(\\d{2})-(\\d{2})-(\\d{4})\", r\"\\3/\\2/\\1\", text)\n",
    "print(new_text)  # Today is 2025/08/07"
   ]
  },
  {
   "cell_type": "markdown",
   "id": "2d225b11-f827-4ccf-9c2b-b68372b05e57",
   "metadata": {},
   "source": [
    "## Groups and capturing\n",
    "\n",
    "## Groups let you:\n",
    "\n",
    "- Extract specific parts of a match.\n",
    "- Apply quantifiers to a **portion** of a pattern.\n",
    "- Capture sub-patterns for later use.\n",
    "\n",
    "Capturing groups are parts of a regular expression enclosed in parentheses `()`. They allow you to extract specific **substrings** from the matched text.\n",
    "\n",
    "### **Purpose of Groups and Capturing:**\n",
    "\n",
    "- To extract portions of matched patterns.\n",
    "- To reuse matched content in substitutions.\n",
    "- To apply quantifiers to part of a pattern.\n",
    "- To make code readable and structured"
   ]
  },
  {
   "cell_type": "code",
   "execution_count": 16,
   "id": "e897f871-d39b-4176-b516-8381750b289b",
   "metadata": {},
   "outputs": [
    {
     "name": "stdout",
     "output_type": "stream",
     "text": [
      "ababab\n"
     ]
    }
   ],
   "source": [
    "pattern = r\"(ab)+\"\n",
    "text = \"ababab\"\n",
    "match = re.match(pattern, text)\n",
    "print(match.group())  # Output: ababab\n"
   ]
  },
  {
   "cell_type": "code",
   "execution_count": 18,
   "id": "099cd899-8ca0-4794-b83b-50991bbda140",
   "metadata": {},
   "outputs": [
    {
     "name": "stdout",
     "output_type": "stream",
     "text": [
      "('123', '456', '7890', None, None)\n",
      "('123', '456', '7890', ' ext1234', '1234')\n"
     ]
    }
   ],
   "source": [
    "pattern = r\"(\\d{3})-(\\d{3})-(\\d{4})( ext(\\d+))?\"\n",
    "text1 = \"123-456-7890\"\n",
    "text2 = \"123-456-7890 ext1234\"\n",
    "\n",
    "match1 = re.match(pattern, text1)\n",
    "match2 = re.match(pattern, text2)\n",
    "\n",
    "print(match1.groups())  # ('123', '456', '7890', None, None)\n",
    "print(match2.groups())  # ('123', '456', '7890', ' ext1234', '1234')\n"
   ]
  },
  {
   "cell_type": "markdown",
   "id": "1f6c54e1-ee51-4871-86b4-a193d3379b97",
   "metadata": {},
   "source": [
    "\n",
    "### Capturing Groups\n",
    "\n",
    "These are **numbered automatically** from **left to right**, starting from 1.\n",
    "\n",
    "Group 0 is always the **entire match**."
   ]
  },
  {
   "cell_type": "code",
   "execution_count": 19,
   "id": "d7228564-a23a-4b62-9228-1e84ea7b68a8",
   "metadata": {},
   "outputs": [
    {
     "name": "stdout",
     "output_type": "stream",
     "text": [
      "Rose\n",
      "20\n"
     ]
    }
   ],
   "source": [
    "#Example for capturing group\n",
    "text = \"Name: Rose, Age: 20\"\n",
    "pattern = r\"Name: (\\w+), Age: (\\d+)\"\n",
    "\n",
    "match = re.search(pattern, text)\n",
    "\n",
    "if match:\n",
    "    print(match.group(1))  # Rose\n",
    "    print(match.group(2))  # 20\n"
   ]
  },
  {
   "cell_type": "code",
   "execution_count": 20,
   "id": "93005c44-321e-4d18-84c8-1279a9b1a219",
   "metadata": {},
   "outputs": [
    {
     "name": "stdout",
     "output_type": "stream",
     "text": [
      "('9841-123-456', None)\n",
      "('9841-123-456', '789')\n"
     ]
    }
   ],
   "source": [
    "#Example for oprional capturing group\n",
    "text1 = \"Call me at 9841-123-456\"\n",
    "text2 = \"Call me at 9841-123-456 ext 789\"\n",
    "\n",
    "pattern = r\"(\\d{4}-\\d{3}-\\d{3})(?: ext (\\d+))?\"\n",
    "\n",
    "for text in [text1, text2]:\n",
    "    match = re.search(pattern, text)\n",
    "    print(match.groups())\n"
   ]
  },
  {
   "cell_type": "code",
   "execution_count": 23,
   "id": "06303c6f-cd60-4e2f-93e4-727eb8fa8254",
   "metadata": {},
   "outputs": [
    {
     "name": "stdout",
     "output_type": "stream",
     "text": [
      "key\n",
      "value\n",
      "Rose\n"
     ]
    }
   ],
   "source": [
    "text = \"key:value:Rose\"\n",
    "pattern = r\"(\\w+):(\\w+):(\\w+)\"  # Three capturing groups\n",
    "match = re.search(pattern, text)\n",
    "\n",
    "if match:\n",
    "    print(match.group(1))  # key\n",
    "    print(match.group(2))  # value\n",
    "    print(match.group(3)) # Rose"
   ]
  },
  {
   "cell_type": "markdown",
   "id": "bf5157ba-2a02-400d-a408-e9ece78af51e",
   "metadata": {},
   "source": [
    "### You have the string \"first-last\".\n",
    "\n",
    "### The pattern (\\w+)-(\\w+) captures:\n",
    "\n",
    "Group 1: \"first\"\n",
    "\n",
    "Group 2: \"last\"\n",
    "\n",
    "### The replacement \\2 \\1 means:\n",
    "\n",
    "Put group 2 (\"last\") first,\n",
    "\n",
    "Add a space,\n",
    "\n",
    "Then group 1 (\"first\").\n",
    "\n",
    "re.sub() swaps the words and gives you \"last first\"."
   ]
  },
  {
   "cell_type": "code",
   "execution_count": 24,
   "id": "b02aed30-1d3e-4269-86c7-e247f4ff50f9",
   "metadata": {},
   "outputs": [
    {
     "name": "stdout",
     "output_type": "stream",
     "text": [
      "last first\n"
     ]
    }
   ],
   "source": [
    "text = \"first-last\"\n",
    "pattern = r\"(\\w+)-(\\w+)\"\n",
    "replacement = r\"\\2 \\1\"  # Swap first and last\n",
    "\n",
    "new = re.sub(pattern, replacement, text)\n",
    "print(new)  # Output: last first"
   ]
  },
  {
   "cell_type": "markdown",
   "id": "689b549d-6fad-43a2-a74a-8970e5145839",
   "metadata": {},
   "source": [
    "## Non capturing group\n",
    "A non-capturing group allows for grouping parts of a regular expression pattern without storing the matched text in a separate group within the match object. This is useful when you need to apply quantifiers or alternation to a group of characters or expressions but do not need to extract that specific part of the match."
   ]
  },
  {
   "cell_type": "code",
   "execution_count": 27,
   "id": "bb317044-b484-449c-a9ee-1058978bbcb5",
   "metadata": {},
   "outputs": [
    {
     "name": "stdout",
     "output_type": "stream",
     "text": [
      "Rose\n"
     ]
    }
   ],
   "source": [
    "# non capturing group\n",
    "pattern = r\"(?:Mr|Ms)\\. (\\w+)\"\n",
    "text = \"Ms. Rose\"\n",
    "match = re.search(pattern, text)\n",
    "\n",
    "print(match.group(1))  # Rose"
   ]
  },
  {
   "cell_type": "markdown",
   "id": "310f7692-faeb-4964-bd44-d79f860e029b",
   "metadata": {},
   "source": [
    "## Named Group\n",
    "A named group is a subset of dimension values. They are created by limiting a dimension to specific data values and can be used in calculations. The group's matching result can later be identified by this name instead of by its index in the pattern.\n"
   ]
  },
  {
   "cell_type": "code",
   "execution_count": 29,
   "id": "cef377dc-6bcc-43b9-b13d-541d47125d04",
   "metadata": {},
   "outputs": [
    {
     "name": "stdout",
     "output_type": "stream",
     "text": [
      "Rose\n",
      "Khatiwada\n"
     ]
    }
   ],
   "source": [
    "# named groups\n",
    "pattern = r\"(?P<first>\\w+)-(?P<last>\\w+)\"\n",
    "text = \"Rose-Khatiwada\"\n",
    "match = re.search(pattern, text)\n",
    "\n",
    "print(match.group(\"first\"))  # Rose\n",
    "print(match.group(\"last\"))   # Khatiwada\n"
   ]
  },
  {
   "cell_type": "code",
   "execution_count": null,
   "id": "bba46c41-b4c4-4eba-ac39-75ef7cdf1348",
   "metadata": {},
   "outputs": [],
   "source": []
  }
 ],
 "metadata": {
  "kernelspec": {
   "display_name": "Python 3 (ipykernel)",
   "language": "python",
   "name": "python3"
  },
  "language_info": {
   "codemirror_mode": {
    "name": "ipython",
    "version": 3
   },
   "file_extension": ".py",
   "mimetype": "text/x-python",
   "name": "python",
   "nbconvert_exporter": "python",
   "pygments_lexer": "ipython3",
   "version": "3.12.2"
  }
 },
 "nbformat": 4,
 "nbformat_minor": 5
}
