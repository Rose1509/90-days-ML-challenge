{
 "cells": [
  {
   "cell_type": "markdown",
   "id": "7ba9e62a-0339-435a-bcc7-5105230b6acb",
   "metadata": {},
   "source": [
    "# EXPERT LEVEL"
   ]
  },
  {
   "cell_type": "markdown",
   "id": "e8faf027-7d3b-4495-87bf-799ccaf5f137",
   "metadata": {},
   "source": [
    "##  Packaging and Distribution"
   ]
  },
  {
   "cell_type": "markdown",
   "id": "7b650ce3-1482-4c3b-952d-a07eb8e4f9c6",
   "metadata": {},
   "source": [
    "# 🛠️ 1. setuptools\n",
    "\n",
    "## 🔍 What it is:\n",
    "\n",
    "<p>Setuptools is a library for building and distributing Python packages. It's an enhancement over the old distutils system. It's basically the core tool for package management in Python and has become the de facto standard for defining setup.py and managing dependencies.</p>\n",
    "\n",
    "## ✅ Use Cases:\n",
    "\n",
    "- Creating setup.py or setup.cfg to define package metadata.\n",
    "- Packaging pure Python projects.\n",
    "- Managing dependencies via install_requires.\n",
    "- Including non-Python files in your packages (e.g., images, JSONs, etc.).\n",
    "- Supporting entry_points for CLI tools.\n",
    "- Specifying Python version compatibility.\n",
    "\n",
    "## ❌ Limitations:\n",
    "\n",
    "- It doesn't build .whl files (needs wheel for that).\n",
    "- No support for uploading to PyPI (that's where twine comes in).\n",
    "- Still a bit clunky when handling non-code assets.\n",
    "- Verbose config if you're not using setup.cfg or pyproject.toml.\n",
    "- pyproject.toml\n",
    "\n",
    "\n",
    "\n"
   ]
  },
  {
   "cell_type": "code",
   "execution_count": 12,
   "id": "8c388942-38ef-4b52-9fb1-ca37c1e45b61",
   "metadata": {},
   "outputs": [
    {
     "name": "stdout",
     "output_type": "stream",
     "text": [
      "Python 3.12.2\n"
     ]
    },
    {
     "name": "stderr",
     "output_type": "stream",
     "text": [
      "'pip' is not recognized as an internal or external command,\n",
      "operable program or batch file.\n"
     ]
    }
   ],
   "source": [
    "!python --version\n",
    "!pip --version"
   ]
  },
  {
   "cell_type": "code",
   "execution_count": 13,
   "id": "0d31c6f2-fe6b-4c15-8ce5-7591c2e63734",
   "metadata": {},
   "outputs": [
    {
     "name": "stdout",
     "output_type": "stream",
     "text": [
      "Requirement already satisfied: pip in c:\\users\\bhagi\\appdata\\local\\programs\\python\\python312\\lib\\site-packages (25.2)\n"
     ]
    }
   ],
   "source": [
    "!pip install --upgrade pip"
   ]
  },
  {
   "cell_type": "code",
   "execution_count": 14,
   "id": "044ba89b-8c8d-4380-b134-851afee7efb6",
   "metadata": {},
   "outputs": [
    {
     "name": "stdout",
     "output_type": "stream",
     "text": [
      "Requirement already satisfied: setuptools in c:\\users\\bhagi\\appdata\\local\\programs\\python\\python312\\lib\\site-packages (75.8.2)\n",
      "Requirement already satisfied: build in c:\\users\\bhagi\\appdata\\local\\programs\\python\\python312\\lib\\site-packages (1.3.0)\n",
      "Requirement already satisfied: packaging>=19.1 in c:\\users\\bhagi\\appdata\\local\\programs\\python\\python312\\lib\\site-packages (from build) (24.2)\n",
      "Requirement already satisfied: pyproject_hooks in c:\\users\\bhagi\\appdata\\local\\programs\\python\\python312\\lib\\site-packages (from build) (1.2.0)\n",
      "Requirement already satisfied: colorama in c:\\users\\bhagi\\appdata\\local\\programs\\python\\python312\\lib\\site-packages (from build) (0.4.6)\n"
     ]
    }
   ],
   "source": [
    "!pip install setuptools\n",
    "!pip install build"
   ]
  },
  {
   "cell_type": "code",
   "execution_count": 15,
   "id": "8d687cb9-3ee2-4867-8d33-a83ac88970a2",
   "metadata": {},
   "outputs": [
    {
     "name": "stdout",
     "output_type": "stream",
     "text": [
      "Overwriting setup.py\n"
     ]
    }
   ],
   "source": [
    "%%writefile setup.py\n",
    "from setuptools import setup, find_packages\n",
    "\n",
    "setup(\n",
    "    name=\"my_package\",\n",
    "    version=\"0.1.0\",\n",
    "    packages=find_packages(),\n",
    "    python_requires='>=3.6',\n",
    ")"
   ]
  },
  {
   "cell_type": "markdown",
   "id": "aa5d20f2-7f2a-42ba-8513-590aafa94765",
   "metadata": {},
   "source": [
    "# Wheel\n",
    "### 🔍 What it is:\n",
    "\n",
    "<p>Wheel is a built-package format (.whl) that’s faster and easier to install than the traditional source distributions (.tar.gz). Think of .whl as a pre-compiled ZIP file with all your code, ready to be dumped straight into a Python environment. They are designed to make it easier to install and manage Python packages, by providing a convenient, single-file format that can be downloaded and installed without the need to compile the package from source code. They are designed to replace the older egg format and provide a number of benefits over eggs and other package formats, such as easier installation and better support for versioning and dependencies.</p>\n",
    "\n",
    "It’s not a build tool. It just defines a format and a way to build `.whl` files from your code.\n",
    "\n",
    "### ✅ Use Cases:\n",
    "\n",
    "- Creating .whl files for faster installation (`pip install your_package.whl`).\n",
    "- Distributing compiled or binary modules (e.g., C/Cython extensions).\n",
    "- Uploading a distributable package to PyPI via twine.\n",
    "- Avoiding the need for users to compile from source.\n",
    "\n",
    "#### When you install a package provided in traditional .egg format the following steps are performed by the system.\n",
    "\n",
    "- The system downloads a TAR file (tarball).\n",
    "- The system builds a .whl file by calling  setup.py\n",
    "- The system installs the actual package after having built the wheel.\n",
    "\n",
    "#### What are the advantages of using Python Wheels?\n",
    "\n",
    "<p>One of the key advantages of using wheels is that they allow Python modules to be installed and used without requiring a build process. This means that users can simply download a wheel package and install it using the pip command, without needing to compile the package from the source code or install any additional dependencies. This can significantly speed up the installation process for large or complex Python packages.</p>"
   ]
  },
  {
   "cell_type": "code",
   "execution_count": 16,
   "id": "814e7f17-49d6-466e-b6c4-f200de336477",
   "metadata": {},
   "outputs": [
    {
     "name": "stdout",
     "output_type": "stream",
     "text": [
      "Requirement already satisfied: wheel in c:\\users\\bhagi\\appdata\\local\\programs\\python\\python312\\lib\\site-packages (0.45.1)\n"
     ]
    }
   ],
   "source": [
    "!pip install wheel"
   ]
  },
  {
   "cell_type": "code",
   "execution_count": 18,
   "id": "0b8fb12e-295f-4986-8311-fbeadd8691f3",
   "metadata": {},
   "outputs": [
    {
     "name": "stdout",
     "output_type": "stream",
     "text": [
      "* Creating isolated environment: venv+pip...\n",
      "* Installing packages in isolated environment:\n",
      "  - setuptools >= 40.8.0\n",
      "* Getting build dependencies for sdist...\n",
      "running egg_info\n",
      "writing my_package.egg-info\\PKG-INFO\n",
      "writing dependency_links to my_package.egg-info\\dependency_links.txt\n",
      "writing top-level names to my_package.egg-info\\top_level.txt\n",
      "reading manifest file 'my_package.egg-info\\SOURCES.txt'\n",
      "writing manifest file 'my_package.egg-info\\SOURCES.txt'\n",
      "* Building sdist...\n",
      "running sdist\n",
      "running egg_info\n",
      "writing my_package.egg-info\\PKG-INFO\n",
      "writing dependency_links to my_package.egg-info\\dependency_links.txt\n",
      "writing top-level names to my_package.egg-info\\top_level.txt\n",
      "reading manifest file 'my_package.egg-info\\SOURCES.txt'\n",
      "writing manifest file 'my_package.egg-info\\SOURCES.txt'\n",
      "running check\n",
      "creating my_package-0.1.0\n",
      "creating my_package-0.1.0\\my_package.egg-info\n",
      "copying files to my_package-0.1.0...\n",
      "copying setup.py -> my_package-0.1.0\n",
      "copying my_package.egg-info\\PKG-INFO -> my_package-0.1.0\\my_package.egg-info\n",
      "copying my_package.egg-info\\SOURCES.txt -> my_package-0.1.0\\my_package.egg-info\n",
      "copying my_package.egg-info\\dependency_links.txt -> my_package-0.1.0\\my_package.egg-info\n",
      "copying my_package.egg-info\\top_level.txt -> my_package-0.1.0\\my_package.egg-info\n",
      "copying my_package.egg-info\\SOURCES.txt -> my_package-0.1.0\\my_package.egg-info\n",
      "Writing my_package-0.1.0\\setup.cfg\n",
      "Creating tar archive\n",
      "removing 'my_package-0.1.0' (and everything under it)\n",
      "* Building wheel from sdist\n",
      "* Creating isolated environment: venv+pip...\n",
      "* Installing packages in isolated environment:\n",
      "  - setuptools >= 40.8.0\n",
      "* Getting build dependencies for wheel...\n",
      "running egg_info\n",
      "writing my_package.egg-info\\PKG-INFO\n",
      "writing dependency_links to my_package.egg-info\\dependency_links.txt\n",
      "writing top-level names to my_package.egg-info\\top_level.txt\n",
      "reading manifest file 'my_package.egg-info\\SOURCES.txt'\n",
      "writing manifest file 'my_package.egg-info\\SOURCES.txt'\n",
      "* Building wheel...\n",
      "running bdist_wheel\n",
      "running build\n",
      "installing to build\\bdist.win-amd64\\wheel\n",
      "running install\n",
      "running install_egg_info\n",
      "running egg_info\n",
      "writing my_package.egg-info\\PKG-INFO\n",
      "writing dependency_links to my_package.egg-info\\dependency_links.txt\n",
      "writing top-level names to my_package.egg-info\\top_level.txt\n",
      "reading manifest file 'my_package.egg-info\\SOURCES.txt'\n",
      "writing manifest file 'my_package.egg-info\\SOURCES.txt'\n",
      "Copying my_package.egg-info to build\\bdist.win-amd64\\wheel\\.\\my_package-0.1.0-py3.12.egg-info\n",
      "running install_scripts\n",
      "creating build\\bdist.win-amd64\\wheel\\my_package-0.1.0.dist-info\\WHEEL\n",
      "creating 'C:\\Users\\bhagi\\Documents\\Scrapping\\dist\\.tmp-nqyf8roq\\my_package-0.1.0-py3-none-any.whl' and adding 'build\\bdist.win-amd64\\wheel' to it\n",
      "adding 'my_package-0.1.0.dist-info/METADATA'\n",
      "adding 'my_package-0.1.0.dist-info/WHEEL'\n",
      "adding 'my_package-0.1.0.dist-info/top_level.txt'\n",
      "adding 'my_package-0.1.0.dist-info/RECORD'\n",
      "removing build\\bdist.win-amd64\\wheel\n",
      "Successfully built my_package-0.1.0.tar.gz and my_package-0.1.0-py3-none-any.whl\n"
     ]
    },
    {
     "name": "stderr",
     "output_type": "stream",
     "text": [
      "warning: sdist: standard file not found: should have one of README, README.rst, README.txt, README.md\n",
      "\n"
     ]
    }
   ],
   "source": [
    "## creating package wheel using build\n",
    "!python -m build"
   ]
  },
  {
   "cell_type": "code",
   "execution_count": 21,
   "id": "97e045a3-b875-448a-9732-9883760e8617",
   "metadata": {},
   "outputs": [
    {
     "name": "stdout",
     "output_type": "stream",
     "text": [
      "Processing c:\\users\\bhagi\\documents\\scrapping\\dist\\my_package-0.1.0-py3-none-any.whl\n",
      "Installing collected packages: my-package\n",
      "Successfully installed my-package-0.1.0\n"
     ]
    }
   ],
   "source": [
    "## Installing built wheel file using pip\n",
    "!pip install dist/my_package-0.1.0-py3-none-any.whl"
   ]
  },
  {
   "cell_type": "markdown",
   "id": "81a41e77-2f7d-4504-9566-e5197b24d6bb",
   "metadata": {},
   "source": [
    "# Twine\n",
    "<p>Twine is a secure tool to upload Python packages to PyPI. It fixes a big security hole in setup.py upload (which is deprecated and insecure as hell). It’s only for uploading, not building.</p>\n",
    "\n",
    "### ✅ Use Cases:\n",
    "\n",
    "- Uploading packages to PiPy or TestPyPI.\n",
    "- Automating publishing steps in CI/CD (like GitHub Actions).\n",
    "- Uploading `.whl` and `.tar.gz` files with strong authentication.\n",
    "- Ensuring your credentials aren't leaked (uses `.pypirc` or prompts safely).\n",
    "\n",
    "<p>This is a command-line utility used to securely upload Python packages (source distributions and wheels) to the Python Package Index (PyPI) or other compatible package indexes. It is the recommended and secure way to publish your Python projects, replacing the older and less secure python setup.py upload command.</p>"
   ]
  },
  {
   "cell_type": "code",
   "execution_count": 22,
   "id": "e8cf8021-79ce-4885-a1d9-7be049139daa",
   "metadata": {},
   "outputs": [
    {
     "name": "stdout",
     "output_type": "stream",
     "text": [
      "Collecting twine\n",
      "  Downloading twine-6.1.0-py3-none-any.whl.metadata (3.7 kB)\n",
      "Collecting readme-renderer>=35.0 (from twine)\n",
      "  Downloading readme_renderer-44.0-py3-none-any.whl.metadata (2.8 kB)\n",
      "Requirement already satisfied: requests>=2.20 in c:\\users\\bhagi\\appdata\\local\\programs\\python\\python312\\lib\\site-packages (from twine) (2.32.3)\n",
      "Collecting requests-toolbelt!=0.9.0,>=0.8.0 (from twine)\n",
      "  Downloading requests_toolbelt-1.0.0-py2.py3-none-any.whl.metadata (14 kB)\n",
      "Requirement already satisfied: urllib3>=1.26.0 in c:\\users\\bhagi\\appdata\\local\\programs\\python\\python312\\lib\\site-packages (from twine) (2.3.0)\n",
      "Collecting keyring>=15.1 (from twine)\n",
      "  Downloading keyring-25.6.0-py3-none-any.whl.metadata (20 kB)\n",
      "Collecting rfc3986>=1.4.0 (from twine)\n",
      "  Downloading rfc3986-2.0.0-py2.py3-none-any.whl.metadata (6.6 kB)\n",
      "Requirement already satisfied: rich>=12.0.0 in c:\\users\\bhagi\\appdata\\local\\programs\\python\\python312\\lib\\site-packages (from twine) (14.0.0)\n",
      "Requirement already satisfied: packaging>=24.0 in c:\\users\\bhagi\\appdata\\local\\programs\\python\\python312\\lib\\site-packages (from twine) (24.2)\n",
      "Collecting id (from twine)\n",
      "  Downloading id-1.5.0-py3-none-any.whl.metadata (5.2 kB)\n",
      "Collecting pywin32-ctypes>=0.2.0 (from keyring>=15.1->twine)\n",
      "  Downloading pywin32_ctypes-0.2.3-py3-none-any.whl.metadata (3.9 kB)\n",
      "Collecting jaraco.classes (from keyring>=15.1->twine)\n",
      "  Downloading jaraco.classes-3.4.0-py3-none-any.whl.metadata (2.6 kB)\n",
      "Collecting jaraco.functools (from keyring>=15.1->twine)\n",
      "  Downloading jaraco_functools-4.2.1-py3-none-any.whl.metadata (2.9 kB)\n",
      "Collecting jaraco.context (from keyring>=15.1->twine)\n",
      "  Downloading jaraco.context-6.0.1-py3-none-any.whl.metadata (4.1 kB)\n",
      "Collecting nh3>=0.2.14 (from readme-renderer>=35.0->twine)\n",
      "  Downloading nh3-0.3.0-cp38-abi3-win_amd64.whl.metadata (2.1 kB)\n",
      "Collecting docutils>=0.21.2 (from readme-renderer>=35.0->twine)\n",
      "  Downloading docutils-0.22-py3-none-any.whl.metadata (15 kB)\n",
      "Requirement already satisfied: Pygments>=2.5.1 in c:\\users\\bhagi\\appdata\\local\\programs\\python\\python312\\lib\\site-packages (from readme-renderer>=35.0->twine) (2.19.1)\n",
      "Requirement already satisfied: charset-normalizer<4,>=2 in c:\\users\\bhagi\\appdata\\local\\programs\\python\\python312\\lib\\site-packages (from requests>=2.20->twine) (3.4.1)\n",
      "Requirement already satisfied: idna<4,>=2.5 in c:\\users\\bhagi\\appdata\\local\\programs\\python\\python312\\lib\\site-packages (from requests>=2.20->twine) (3.10)\n",
      "Requirement already satisfied: certifi>=2017.4.17 in c:\\users\\bhagi\\appdata\\local\\programs\\python\\python312\\lib\\site-packages (from requests>=2.20->twine) (2025.1.31)\n",
      "Requirement already satisfied: markdown-it-py>=2.2.0 in c:\\users\\bhagi\\appdata\\local\\programs\\python\\python312\\lib\\site-packages (from rich>=12.0.0->twine) (3.0.0)\n",
      "Requirement already satisfied: mdurl~=0.1 in c:\\users\\bhagi\\appdata\\local\\programs\\python\\python312\\lib\\site-packages (from markdown-it-py>=2.2.0->rich>=12.0.0->twine) (0.1.2)\n",
      "Collecting more-itertools (from jaraco.classes->keyring>=15.1->twine)\n",
      "  Downloading more_itertools-10.7.0-py3-none-any.whl.metadata (37 kB)\n",
      "Downloading twine-6.1.0-py3-none-any.whl (40 kB)\n",
      "Downloading keyring-25.6.0-py3-none-any.whl (39 kB)\n",
      "Downloading pywin32_ctypes-0.2.3-py3-none-any.whl (30 kB)\n",
      "Downloading readme_renderer-44.0-py3-none-any.whl (13 kB)\n",
      "Downloading docutils-0.22-py3-none-any.whl (630 kB)\n",
      "   ---------------------------------------- 0.0/630.7 kB ? eta -:--:--\n",
      "   ---------------------------------------- 630.7/630.7 kB 4.7 MB/s  0:00:00\n",
      "Downloading nh3-0.3.0-cp38-abi3-win_amd64.whl (604 kB)\n",
      "   ---------------------------------------- 0.0/604.5 kB ? eta -:--:--\n",
      "   ---------------------------------------- 604.5/604.5 kB 4.4 MB/s  0:00:00\n",
      "Downloading requests_toolbelt-1.0.0-py2.py3-none-any.whl (54 kB)\n",
      "Downloading rfc3986-2.0.0-py2.py3-none-any.whl (31 kB)\n",
      "Downloading id-1.5.0-py3-none-any.whl (13 kB)\n",
      "Downloading jaraco.classes-3.4.0-py3-none-any.whl (6.8 kB)\n",
      "Downloading jaraco.context-6.0.1-py3-none-any.whl (6.8 kB)\n",
      "Downloading jaraco_functools-4.2.1-py3-none-any.whl (10 kB)\n",
      "Downloading more_itertools-10.7.0-py3-none-any.whl (65 kB)\n",
      "Installing collected packages: rfc3986, pywin32-ctypes, nh3, more-itertools, jaraco.context, docutils, requests-toolbelt, readme-renderer, jaraco.functools, jaraco.classes, id, keyring, twine\n",
      "\n",
      "   ----------------------------------------  0/13 [rfc3986]\n",
      "   ----------------------------------------  0/13 [rfc3986]\n",
      "   --- ------------------------------------  1/13 [pywin32-ctypes]\n",
      "   --- ------------------------------------  1/13 [pywin32-ctypes]\n",
      "   --- ------------------------------------  1/13 [pywin32-ctypes]\n",
      "   --- ------------------------------------  1/13 [pywin32-ctypes]\n",
      "   --- ------------------------------------  1/13 [pywin32-ctypes]\n",
      "   --- ------------------------------------  1/13 [pywin32-ctypes]\n",
      "   --------- ------------------------------  3/13 [more-itertools]\n",
      "   ------------ ---------------------------  4/13 [jaraco.context]\n",
      "   --------------- ------------------------  5/13 [docutils]\n",
      "   --------------- ------------------------  5/13 [docutils]\n",
      "   --------------- ------------------------  5/13 [docutils]\n",
      "   --------------- ------------------------  5/13 [docutils]\n",
      "   --------------- ------------------------  5/13 [docutils]\n",
      "   --------------- ------------------------  5/13 [docutils]\n",
      "   --------------- ------------------------  5/13 [docutils]\n",
      "   --------------- ------------------------  5/13 [docutils]\n",
      "   --------------- ------------------------  5/13 [docutils]\n",
      "   --------------- ------------------------  5/13 [docutils]\n",
      "   --------------- ------------------------  5/13 [docutils]\n",
      "   --------------- ------------------------  5/13 [docutils]\n",
      "   --------------- ------------------------  5/13 [docutils]\n",
      "   --------------- ------------------------  5/13 [docutils]\n",
      "   --------------- ------------------------  5/13 [docutils]\n",
      "   --------------- ------------------------  5/13 [docutils]\n",
      "   --------------- ------------------------  5/13 [docutils]\n",
      "   --------------- ------------------------  5/13 [docutils]\n",
      "   --------------- ------------------------  5/13 [docutils]\n",
      "   --------------- ------------------------  5/13 [docutils]\n",
      "   --------------- ------------------------  5/13 [docutils]\n",
      "   --------------- ------------------------  5/13 [docutils]\n",
      "   --------------- ------------------------  5/13 [docutils]\n",
      "   --------------- ------------------------  5/13 [docutils]\n",
      "   --------------- ------------------------  5/13 [docutils]\n",
      "   --------------- ------------------------  5/13 [docutils]\n",
      "   --------------- ------------------------  5/13 [docutils]\n",
      "   --------------- ------------------------  5/13 [docutils]\n",
      "   --------------- ------------------------  5/13 [docutils]\n",
      "   --------------- ------------------------  5/13 [docutils]\n",
      "   --------------- ------------------------  5/13 [docutils]\n",
      "   --------------- ------------------------  5/13 [docutils]\n",
      "   --------------- ------------------------  5/13 [docutils]\n",
      "   --------------- ------------------------  5/13 [docutils]\n",
      "   --------------- ------------------------  5/13 [docutils]\n",
      "   --------------- ------------------------  5/13 [docutils]\n",
      "   --------------- ------------------------  5/13 [docutils]\n",
      "   --------------- ------------------------  5/13 [docutils]\n",
      "   --------------- ------------------------  5/13 [docutils]\n",
      "   ------------------ ---------------------  6/13 [requests-toolbelt]\n",
      "   ------------------ ---------------------  6/13 [requests-toolbelt]\n",
      "   ------------------ ---------------------  6/13 [requests-toolbelt]\n",
      "   ------------------ ---------------------  6/13 [requests-toolbelt]\n",
      "   ------------------ ---------------------  6/13 [requests-toolbelt]\n",
      "   --------------------- ------------------  7/13 [readme-renderer]\n",
      "   ------------------------ ---------------  8/13 [jaraco.functools]\n",
      "   ------------------------------ --------- 10/13 [id]\n",
      "   --------------------------------- ------ 11/13 [keyring]\n",
      "   --------------------------------- ------ 11/13 [keyring]\n",
      "   --------------------------------- ------ 11/13 [keyring]\n",
      "   --------------------------------- ------ 11/13 [keyring]\n",
      "   --------------------------------- ------ 11/13 [keyring]\n",
      "   --------------------------------- ------ 11/13 [keyring]\n",
      "   ------------------------------------ --- 12/13 [twine]\n",
      "   ------------------------------------ --- 12/13 [twine]\n",
      "   ------------------------------------ --- 12/13 [twine]\n",
      "   ------------------------------------ --- 12/13 [twine]\n",
      "   ---------------------------------------- 13/13 [twine]\n",
      "\n",
      "Successfully installed docutils-0.22 id-1.5.0 jaraco.classes-3.4.0 jaraco.context-6.0.1 jaraco.functools-4.2.1 keyring-25.6.0 more-itertools-10.7.0 nh3-0.3.0 pywin32-ctypes-0.2.3 readme-renderer-44.0 requests-toolbelt-1.0.0 rfc3986-2.0.0 twine-6.1.0\n"
     ]
    }
   ],
   "source": [
    "## Installing twine\n",
    "!pip install twine"
   ]
  },
  {
   "cell_type": "code",
   "execution_count": null,
   "id": "8edec3bc-189a-4e95-97a5-e12936baa72f",
   "metadata": {},
   "outputs": [],
   "source": [
    "## Uploading built packages(python -m build)\n",
    "## !twine upload dist/*"
   ]
  },
  {
   "cell_type": "markdown",
   "id": "a864feda-7f2a-40d0-8ff9-cc227baa7e38",
   "metadata": {},
   "source": [
    "##  **pyproject.toml** "
   ]
  },
  {
   "cell_type": "markdown",
   "id": "9d7da2cf-c922-4281-ae40-913e3df4699f",
   "metadata": {},
   "source": [
    "<p> TOML files are primarily used for configuration, separating code from settings for flexibility. pyproject. Toml is crucial for package configuration and specifies the build system and dependencies.pyproject.toml is a configuration file for building, packaging, and configuring tools in Python projects. It's like a package.json for Python  central hub for your build system, formatter, linter, type checker, test runner, and more.</p>\n",
    "\n",
    "### Why is it important:\n",
    "\n",
    "Python projects used multiple files like `setup.py`, `requirements.txt`, and `MANIFEST.in` to handle these aspects separately, which could be complex and inconsistent.\n",
    "With `pyproject.toml`, everything lives in one place, making project setup, dependency management, and builds si"
   ]
  },
  {
   "cell_type": "code",
   "execution_count": 7,
   "id": "b9da0b43-89a2-4ab6-8202-3c671ec63e6f",
   "metadata": {},
   "outputs": [
    {
     "name": "stdout",
     "output_type": "stream",
     "text": [
      "pyproject.toml created!\n"
     ]
    }
   ],
   "source": [
    "pyproject_content = \"\"\"\\\n",
    "[build-system]\n",
    "requires = [\"setuptools>=61.0\", \"wheel\"]\n",
    "build-backend = \"setuptools.build_meta\"\n",
    "\n",
    "[project]\n",
    "name = \"my_package\"\n",
    "version = \"0.1.0\"\n",
    "description = \"My example package built with pyproject.toml\"\n",
    "authors = [\n",
    "    { name = \"Rose Khatiwada\", email = \"rose@email.com\" }\n",
    "]\n",
    "readme = \"README.md\"\n",
    "requires-python = \">=3.6\"\n",
    "license = { text = \"MIT\" }\n",
    "classifiers = [\n",
    "    \"Programming Language :: Python :: 3\",\n",
    "    \"License :: OSI Approved :: MIT License\",\n",
    "    \"Operating System :: OS Independent\"\n",
    "]\n",
    "dependencies = [\n",
    "    # Example dependency\n",
    "    # \"requests>=2.25.1\",\n",
    "]\n",
    "\n",
    "[project.urls]\n",
    "Homepage = \"https://your-homepage.example.com\"\n",
    "\"\"\"\n",
    "\n",
    "with open(\"pyproject.toml\", \"w\") as f:\n",
    "    f.write(pyproject_content)\n",
    "\n",
    "print(\"pyproject.toml created!\")"
   ]
  },
  {
   "cell_type": "markdown",
   "id": "feb35dbf-53f0-4e05-9722-b4e3231b20be",
   "metadata": {},
   "source": [
    "<p>This pyproject.toml file defines metadata and build configuration for your Python package called my_package. It's a modern replacement for setup.py, and it’s used to build, install, and configure your project with tools like setuptools, pip, build, and twine.</p>"
   ]
  },
  {
   "cell_type": "markdown",
   "id": "136db5ca-a867-40aa-bc68-7b4c5c239ecd",
   "metadata": {},
   "source": [
    "# **Code Quality and Automation**"
   ]
  },
  {
   "cell_type": "markdown",
   "id": "f2f355b0-5db8-441e-8586-5c6fc4f9421b",
   "metadata": {},
   "source": [
    "# What is a Linter?\n",
    "\n",
    "<p>A linter is a tool that analyzes your code for style issues, bugs, bad patterns, code smells, and violations of coding standards (like PEP 8).\n",
    "Linters are static code analysis tools designed to improve code quality, enforce style guidelines, and identify potential errors or issues in Python source code. They analyze the code without executing it, providing feedback on various aspects, including:</p>\n",
    "\n",
    "- **Syntax Errors:**\n",
    "    \n",
    "    Detecting common mistakes like missing parentheses, incorrect indentation, or undefined variables.\n",
    "    \n",
    "- **Stylistic Issues:**\n",
    "    \n",
    "    Ensuring adherence to coding conventions, such as PEP 8 (Python Enhancement Proposal 8), which outlines style guidelines for Python code. This includes checks for line length, whitespace usage, naming conventions, and more.\n",
    "    \n",
    "- **Potential Bugs and Anti-patterns:**\n",
    "    \n",
    "    Identifying code constructs that might lead to unexpected behavior, performance issues, or security vulnerabilities.\n",
    "    \n",
    "- **Code Complexity:**\n",
    "    \n",
    "    Analyzing metrics like cyclomatic complexity to highlight overly complex functions or modules that may be difficult to understand and maintain.\n",
    "\n",
    "# `Flake8`\n",
    "\n",
    "### 🔍 What it is:\n",
    "\n",
    "<p>Flake8 is a widely used command-line utility for enforcing style consistency and identifying potential issues in Python code. It acts as a wrapper that combines the functionalities of several other tools:</p>\n",
    "\n",
    "- **PyFlakes:**\n",
    "    \n",
    "    Checks for programming errors, such as unused imports or variables, and undefined names.\n",
    "    \n",
    "- **PyCodeStyle (formerly PEP8):**\n",
    "    \n",
    "    Enforces adherence to the PEP 8 style guide, which outlines conventions for writing readable and maintainable Python code.\n",
    "    \n",
    "- **McCabe:**\n",
    "    \n",
    "    Measures the cyclomatic complexity of code, helping to identify overly complex functions or methods that might be difficult to understand and test.\n",
    "\n",
    "\n",
    "## **Key Features and Usage:**\n",
    "\n",
    "- **Single Command:**\n",
    "    \n",
    "    Flake8 allows users to run all these checks with a single command, simplifying the linting process.\n",
    "    \n",
    "- **Extensibility:**\n",
    "    \n",
    "    It supports third-party plugins that can extend its capabilities to check for additional aspects of code quality, such as security vulnerabilities or specific framework-related issues.\n",
    "    \n",
    "- **Configuration:**\n",
    "    \n",
    "    Users can configure Flake8 using a `setup.cfg` or `.flake8` file to customize settings like ignored errors, maximum line length, and excluded files or directories.\n",
    "    \n",
    "- **Integration:**\n",
    "    \n",
    "    Flake8 can be integrated into various development workflows, including continuous integration (CI) pipelines and IDEs like Visual Studio Code, to provide real-time feedback on code quality."
   ]
  },
  {
   "cell_type": "code",
   "execution_count": 9,
   "id": "c886b2e4-41f3-4872-86ef-a9d068c5cb2e",
   "metadata": {},
   "outputs": [
    {
     "name": "stdout",
     "output_type": "stream",
     "text": [
      "test.py:5:1: E302 expected 2 blank lines, found 1\n"
     ]
    }
   ],
   "source": [
    "!flake8 test.py"
   ]
  },
  {
   "cell_type": "markdown",
   "id": "b3e8210a-1c68-423c-b533-98dbf9fad9b9",
   "metadata": {},
   "source": [
    "# `Pylint`\n"
   ]
  },
  {
   "cell_type": "markdown",
   "id": "7e7bf31e-e6a1-4cc2-ac15-3a41d76a2482",
   "metadata": {},
   "source": [
    "## 🔍 What it is:\n",
    "\n",
    "Pylint is a static code analyser for Python 2 or 3. `pylint` is a heavier, more comprehensive linter. It doesn’t just do style it performs static code analysis to catch:\n",
    "\n",
    "- **Bad practices**\n",
    "- **Unused variables/imports**\n",
    "- **Potential bugs**\n",
    "- **Complexity**\n",
    "- **Type mismatches**\n",
    "- **Docstring compliance**\n",
    "- and even **enforces naming conventions**\n",
    "\n",
    "## **Key aspects of Pylint:**\n",
    "\n",
    "- **Static Code Analysis:**\n",
    "    \n",
    "    It examines the source code directly rather than running the program, allowing it to find issues before runtime.\n",
    "    \n",
    "- **Error Detection:**\n",
    "    \n",
    "    Pylint can identify various programming errors, such as undefined variables, unused imports, incorrect function arguments, and more.\n",
    "    \n",
    "- **Coding Standard Enforcement:**\n",
    "    \n",
    "    It helps ensure adherence to established coding conventions, most notably PEP 8, which promotes readability and consistency in Python code.\n",
    "    \n",
    "- **Code Smell Identification:**\n",
    "    \n",
    "    Pylint can pinpoint patterns in code that might indicate maintainability issues or potential for bugs, even if they aren't direct errors.\n",
    "    \n",
    "- **Refactoring Suggestions:**\n",
    "    \n",
    "    It provides recommendations on how to improve the structure and clarity of the code.\n",
    "    \n",
    "- **Configurability:**\n",
    "    \n",
    "    Pylint is highly configurable, allowing users to customize its checks and rules to fit specific project requirements or personal preferences.\n",
    "    \n",
    "- **Integration:**\n",
    "    \n",
    "    It can be used from the command line, and also integrated into various Integrated Development Environments (IDEs) and text editors for real-time feedback.\n",
    "\n",
    "### In Summery Pylint is a tool that\n",
    "\n",
    "- Lists Errors which comes after execution of that Python code\n",
    "- Enforces a coding standard and looks for code smells\n",
    "- Suggest how particular blocks can be updated\n",
    "- Offer details about the code's complexity\n",
    "\n",
    "Pylint tool is similar to **pychecker**, **pyflakes**, **flake8**, and **mypy**."
   ]
  },
  {
   "cell_type": "code",
   "execution_count": 17,
   "id": "691d43ca-4445-42cb-b6de-abd1a2b28d35",
   "metadata": {},
   "outputs": [],
   "source": [
    "# Pylint \n",
    "code = \"\"\"a = 1\n",
    "b = 2\n",
    "print(a + b)\n",
    "\"\"\"\n",
    "\n",
    "with open(\"rose.py\", \"w\") as f:\n",
    "    f.write(code)"
   ]
  },
  {
   "cell_type": "code",
   "execution_count": 18,
   "id": "997c253a-f0c1-4003-9323-42717277fb03",
   "metadata": {},
   "outputs": [
    {
     "name": "stdout",
     "output_type": "stream",
     "text": [
      "************* Module rose\n",
      "rose.py:1:0: C0114: Missing module docstring (missing-module-docstring)\n",
      "rose.py:1:0: C0103: Constant name \"a\" doesn't conform to UPPER_CASE naming style (invalid-name)\n",
      "rose.py:2:0: C0103: Constant name \"b\" doesn't conform to UPPER_CASE naming style (invalid-name)\n",
      "\n",
      "-----------------------------------\n",
      "Your code has been rated at 0.00/10\n",
      "\n"
     ]
    }
   ],
   "source": [
    "!pylint rose.py"
   ]
  },
  {
   "cell_type": "markdown",
   "id": "fc1f54f2-1530-48dc-9be5-40678f60469a",
   "metadata": {},
   "source": [
    "## Formatters\n",
    "\n",
    "Formatters are tools that automatically format your code based on a set of rules or standards making your codebase consistent, clean, and readable. Instead of wasting time debating where the newline or comma goes, formatters handle that for you. \n",
    "\n",
    "### How to Format Strings in Python\n",
    "There are five different ways to perform string formatting in Python\n",
    "\n",
    "- Formatting with % Operator.\n",
    "- Formatting with format() string method.\n",
    "- Formatting with string literals, called f-strings.\n",
    "- Formatting with String Template Class\n",
    "- Formatting with center() string method.\n",
    "\n",
    "#### Two popular ones:\n",
    "\n",
    "- `black` — The uncompromising code formatter\n",
    "- `isort` — Sorts and organizes imports"
   ]
  },
  {
   "cell_type": "markdown",
   "id": "607486a3-7ed8-4451-aeef-1fcb50745f63",
   "metadata": {},
   "source": [
    "## Black Formatters\n",
    "\n",
    "Black is **a highly opinionated code formatter for Python**. It's designed to enforce a consistent coding style across your projects. Unlike linters, which identify errors or enforce specific rules, Black takes your code and reformats it to adhere to its style guide.\n",
    "\n",
    "### 🔍 What It Does:\n",
    "\n",
    "- Reformats your Python code to conform to a consistent style.\n",
    "- Follows PEP 8, with opinionated choices (e.g., line length = 88 by default).\n",
    "- Makes formatting decisions for you no bikeshedding.\n",
    "\n",
    "\n",
    "### **Integration:**    \n",
    "Black can be integrated into various development environments, including Visual Studio Code, allowing for automatic formatting on save or through specific commands.\n",
    "    \n",
    "### **Benefits:**  \n",
    "By automating code formatting, Black promotes code readability, simplifies code reviews, and helps maintain a consistent codebase, especially in collaborative environments."
   ]
  },
  {
   "cell_type": "code",
   "execution_count": 22,
   "id": "68f4d2fc-84e0-47f3-9320-ffce2704060a",
   "metadata": {},
   "outputs": [
    {
     "name": "stdout",
     "output_type": "stream",
     "text": [
      "Collecting black\n",
      "  Downloading black-25.1.0-cp312-cp312-win_amd64.whl.metadata (81 kB)\n",
      "Requirement already satisfied: click>=8.0.0 in c:\\users\\bhagi\\appdata\\local\\programs\\python\\python312\\lib\\site-packages (from black) (8.2.1)\n",
      "Requirement already satisfied: mypy-extensions>=0.4.3 in c:\\users\\bhagi\\appdata\\local\\programs\\python\\python312\\lib\\site-packages (from black) (1.1.0)\n",
      "Requirement already satisfied: packaging>=22.0 in c:\\users\\bhagi\\appdata\\local\\programs\\python\\python312\\lib\\site-packages (from black) (24.2)\n",
      "Requirement already satisfied: pathspec>=0.9.0 in c:\\users\\bhagi\\appdata\\local\\programs\\python\\python312\\lib\\site-packages (from black) (0.12.1)\n",
      "Requirement already satisfied: platformdirs>=2 in c:\\users\\bhagi\\appdata\\local\\programs\\python\\python312\\lib\\site-packages (from black) (4.3.6)\n",
      "Requirement already satisfied: colorama in c:\\users\\bhagi\\appdata\\local\\programs\\python\\python312\\lib\\site-packages (from click>=8.0.0->black) (0.4.6)\n",
      "Downloading black-25.1.0-cp312-cp312-win_amd64.whl (1.4 MB)\n",
      "   ---------------------------------------- 0.0/1.4 MB ? eta -:--:--\n",
      "   --------------------- ------------------ 0.8/1.4 MB 5.6 MB/s eta 0:00:01\n",
      "   ---------------------------------------- 1.4/1.4 MB 5.0 MB/s  0:00:00\n",
      "Installing collected packages: black\n",
      "Successfully installed black-25.1.0\n"
     ]
    }
   ],
   "source": [
    "!pip install black"
   ]
  },
  {
   "cell_type": "code",
   "execution_count": 23,
   "id": "262f9085-bfd5-41b2-8ae5-5df5652b3117",
   "metadata": {},
   "outputs": [],
   "source": [
    "# Create a messy Python file for formatting\n",
    "code = \"\"\"\n",
    "import numpy as np\n",
    "import sys\n",
    "from numpy import arange,argmax\n",
    "def addition(a   ,       b):\n",
    "    ans=a+      b\n",
    "    \n",
    "    return ans\n",
    "def subtraction(a   ,       b):\n",
    "    ans=a      -      b\n",
    "    return ans\n",
    "a = arange(5)\n",
    "print(a)\n",
    "print(argmax(a))\n",
    "\"\"\"\n",
    "\n",
    "# Save to test.py\n",
    "with open(\"black.py\", \"w\") as f:\n",
    "    f.write(code)"
   ]
  },
  {
   "cell_type": "code",
   "execution_count": 24,
   "id": "5a8b9fb2-190f-4d0e-9f9d-ae6b4d3d7bf8",
   "metadata": {},
   "outputs": [
    {
     "name": "stdout",
     "output_type": "stream",
     "text": [
      "\n",
      "import numpy as np\n",
      "import sys\n",
      "from numpy import arange,argmax\n",
      "def addition(a   ,       b):\n",
      "    ans=a+      b\n",
      "    \n",
      "    return ans\n",
      "def subtraction(a   ,       b):\n",
      "    ans=a      -      b\n",
      "    return ans\n",
      "a = arange(5)\n",
      "print(a)\n",
      "print(argmax(a))\n",
      "\n"
     ]
    }
   ],
   "source": [
    "# Display the original unformatted code\n",
    "with open(\"black.py\", \"r\") as f:\n",
    "    print(f.read())"
   ]
  },
  {
   "cell_type": "code",
   "execution_count": 25,
   "id": "902ca25c-bb42-4f71-8180-61184deccb9d",
   "metadata": {},
   "outputs": [
    {
     "name": "stderr",
     "output_type": "stream",
     "text": [
      "reformatted black.py\n",
      "\n",
      "All done! \\u2728 \\U0001f370 \\u2728\n",
      "1 file reformatted.\n"
     ]
    }
   ],
   "source": [
    "# Format the code file with Black\n",
    "!black black.py"
   ]
  },
  {
   "cell_type": "code",
   "execution_count": 26,
   "id": "8d08ce96-331f-4090-9026-d9c60e33b6ee",
   "metadata": {},
   "outputs": [
    {
     "name": "stdout",
     "output_type": "stream",
     "text": [
      "import numpy as np\n",
      "import sys\n",
      "from numpy import arange, argmax\n",
      "\n",
      "\n",
      "def addition(a, b):\n",
      "    ans = a + b\n",
      "\n",
      "    return ans\n",
      "\n",
      "\n",
      "def subtraction(a, b):\n",
      "    ans = a - b\n",
      "    return ans\n",
      "\n",
      "\n",
      "a = arange(5)\n",
      "print(a)\n",
      "print(argmax(a))\n",
      "\n"
     ]
    }
   ],
   "source": [
    "# Display the code after Black formatting\n",
    "with open(\"black.py\", \"r\") as f:\n",
    "    print(f.read())"
   ]
  },
  {
   "cell_type": "markdown",
   "id": "d88deb87-8d4e-411a-be3b-86d83fbfd6c7",
   "metadata": {},
   "source": [
    "#  Isort Formatters\n",
    "\n",
    "<p>Isort is a Python utility and library designed to sort imports alphabetically and automatically separate them into sections and by type. It serves as a code formatter specifically for import statements in Python, ensuring consistency and adherence to PEP 8 guidelines for import organization.</p>\n",
    "\n",
    "### 🔍 What It Does:\n",
    "\n",
    "- Sorts your `import` statements alphabetically and separates them into sections:\n",
    "    - Standard library\n",
    "    - Third-party packages\n",
    "    - Local imports\n",
    "\n",
    "### ✅ Advantages:\n",
    "- 🧼Clean import blocks:  Automatically organizes imports into clean, logical groups. \n",
    "- 🚫 No duplicate imports: Detects and removes unused or repeated imports. \n",
    "- 📏 Customizable:  Can define your own section order, known modules, etc. \n",
    "- 🧩 Works with black: You can configure `isort` to be compatible with `black`. \n",
    "- 🛠 IDE + pre-commit support: Same integration ease as black. "
   ]
  },
  {
   "cell_type": "code",
   "execution_count": 27,
   "id": "d2bc0819-5567-43c5-b4b0-31e42be30cff",
   "metadata": {},
   "outputs": [
    {
     "name": "stdout",
     "output_type": "stream",
     "text": [
      "Requirement already satisfied: isort in c:\\users\\bhagi\\appdata\\local\\programs\\python\\python312\\lib\\site-packages (6.0.1)\n"
     ]
    }
   ],
   "source": [
    "!pip install isort"
   ]
  },
  {
   "cell_type": "code",
   "execution_count": 28,
   "id": "0301e7f0-5a75-4048-95a3-a85b4419d259",
   "metadata": {},
   "outputs": [
    {
     "name": "stdout",
     "output_type": "stream",
     "text": [
      "Before sorting:\n",
      "\n",
      "\n",
      "import sys\n",
      "import os\n",
      "import numpy as np\n",
      "import json\n",
      "import pandas as pd\n",
      "lint.py\n",
      "\n"
     ]
    }
   ],
   "source": [
    "# Create a Python file with messy imports\n",
    "code = \"\"\"\n",
    "import sys\n",
    "import os\n",
    "import numpy as np\n",
    "import json\n",
    "import pandas as pd\n",
    "lint.py\n",
    "\"\"\"\n",
    "with open(\"isort.py\", \"w\") as f:\n",
    "    f.write(code)\n",
    "\n",
    "print(\"Before sorting:\\n\")\n",
    "with open(\"isort.py\", \"r\") as f:\n",
    "    print(f.read())"
   ]
  },
  {
   "cell_type": "code",
   "execution_count": 29,
   "id": "58ca13cb-d479-45f6-9932-6968f0c22646",
   "metadata": {},
   "outputs": [
    {
     "name": "stdout",
     "output_type": "stream",
     "text": [
      "Fixing C:\\Users\\bhagi\\Documents\\Scrapping\\isort.py\n"
     ]
    }
   ],
   "source": [
    "# Run isort to sort imports\n",
    "!isort isort.py"
   ]
  },
  {
   "cell_type": "code",
   "execution_count": 31,
   "id": "233df96b-69e3-431a-959c-13069dbbbc1a",
   "metadata": {},
   "outputs": [
    {
     "name": "stdout",
     "output_type": "stream",
     "text": [
      "After sorting:\n",
      "\n",
      "\n",
      "import json\n",
      "import os\n",
      "import sys\n",
      "\n",
      "import numpy as np\n",
      "import pandas as pd\n",
      "\n",
      "lint.py\n",
      "\n"
     ]
    }
   ],
   "source": [
    "# Show the sorted imports\n",
    "print(\"After sorting:\\n\")\n",
    "with open(\"isort.py\", \"r\") as f:\n",
    "    print(f.read())\n",
    "#standard library imports (json, os, sys) are grouped together and sorted alphabetically\n",
    "#Third-party libraries (numpy, pandas) come in their own group, also alphabetically."
   ]
  },
  {
   "cell_type": "markdown",
   "id": "5c388e58-4923-4055-a0c7-8b6149f15ecf",
   "metadata": {},
   "source": [
    "# Pre-commit hooks"
   ]
  },
  {
   "cell_type": "markdown",
   "id": "b7ad3a2f-ec8e-4802-bcec-2e02ead705c3",
   "metadata": {},
   "source": [
    "<p>Pre-commit hooks are scripts that are automatically executed by Git before a commit is finalized. They serve as a crucial checkpoint in the development workflow, enabling developers to enforce code quality, maintain consistency, and catch potential issues early in the development cycle.</p>\n",
    "\n",
    "## Feature\tDescription\n",
    "\n",
    "- When it runs:\tBefore a commit\n",
    "- What it does:\tLint, format, test, reject bad commits\n",
    "- How to use it:\tNative Git or pre-commit framework\n",
    "- Why it’s important:\tKeeps code clean & consistent\n",
    "\n",
    "### ✅ What Are They Used For?\n",
    "\n",
    "Think of them as code bodyguards. They stop bad stuff from getting committed:\n",
    "\n",
    "- Auto-formatting (e.g. with black, prettier)\n",
    "- Linting (e.g. flake8, eslint)\n",
    "- Running tests\n",
    "- Preventing console.log() or debugger in prod code\n",
    "- Checking for large files, secrets, etc."
   ]
  },
  {
   "cell_type": "code",
   "execution_count": 34,
   "id": "a16df3fe-4f23-40d8-b60b-4116747434a1",
   "metadata": {},
   "outputs": [],
   "source": [
    "import os"
   ]
  },
  {
   "cell_type": "code",
   "execution_count": 35,
   "id": "5d32ce7d-044c-426e-bce5-2cc721fe0532",
   "metadata": {},
   "outputs": [
    {
     "data": {
      "text/plain": [
       "['.ipynb_checkpoints',\n",
       " '.pytest_cache',\n",
       " 'black.py',\n",
       " 'day1.ipynb',\n",
       " 'day2.ipynb',\n",
       " 'day3.ipynb',\n",
       " 'day4.ipynb',\n",
       " 'day5.ipynb',\n",
       " 'dist',\n",
       " 'isort.py',\n",
       " 'my_package.egg-info',\n",
       " 'pyproject.toml',\n",
       " 'rose.py',\n",
       " 'Rose.txt',\n",
       " 'setup.py',\n",
       " 'test.py',\n",
       " '__pycache__']"
      ]
     },
     "execution_count": 35,
     "metadata": {},
     "output_type": "execute_result"
    }
   ],
   "source": [
    "os.listdir()"
   ]
  },
  {
   "cell_type": "code",
   "execution_count": 36,
   "id": "27353162-ca7d-44a9-abdf-588157a21920",
   "metadata": {},
   "outputs": [
    {
     "name": "stdout",
     "output_type": "stream",
     "text": [
      "Collecting pre-commit\n",
      "  Downloading pre_commit-4.2.0-py2.py3-none-any.whl.metadata (1.3 kB)\n",
      "Collecting cfgv>=2.0.0 (from pre-commit)\n",
      "  Downloading cfgv-3.4.0-py2.py3-none-any.whl.metadata (8.5 kB)\n",
      "Collecting identify>=1.0.0 (from pre-commit)\n",
      "  Downloading identify-2.6.12-py2.py3-none-any.whl.metadata (4.4 kB)\n",
      "Collecting nodeenv>=0.11.1 (from pre-commit)\n",
      "  Downloading nodeenv-1.9.1-py2.py3-none-any.whl.metadata (21 kB)\n",
      "Requirement already satisfied: pyyaml>=5.1 in c:\\users\\bhagi\\appdata\\local\\programs\\python\\python312\\lib\\site-packages (from pre-commit) (6.0.2)\n",
      "Collecting virtualenv>=20.10.0 (from pre-commit)\n",
      "  Downloading virtualenv-20.33.1-py3-none-any.whl.metadata (4.5 kB)\n",
      "Collecting distlib<1,>=0.3.7 (from virtualenv>=20.10.0->pre-commit)\n",
      "  Downloading distlib-0.4.0-py2.py3-none-any.whl.metadata (5.2 kB)\n",
      "Collecting filelock<4,>=3.12.2 (from virtualenv>=20.10.0->pre-commit)\n",
      "  Downloading filelock-3.18.0-py3-none-any.whl.metadata (2.9 kB)\n",
      "Requirement already satisfied: platformdirs<5,>=3.9.1 in c:\\users\\bhagi\\appdata\\local\\programs\\python\\python312\\lib\\site-packages (from virtualenv>=20.10.0->pre-commit) (4.3.6)\n",
      "Downloading pre_commit-4.2.0-py2.py3-none-any.whl (220 kB)\n",
      "Downloading cfgv-3.4.0-py2.py3-none-any.whl (7.2 kB)\n",
      "Downloading identify-2.6.12-py2.py3-none-any.whl (99 kB)\n",
      "Downloading nodeenv-1.9.1-py2.py3-none-any.whl (22 kB)\n",
      "Downloading virtualenv-20.33.1-py3-none-any.whl (6.1 MB)\n",
      "   ---------------------------------------- 0.0/6.1 MB ? eta -:--:--\n",
      "   -------- ------------------------------- 1.3/6.1 MB 5.1 MB/s eta 0:00:01\n",
      "   ----------------- ---------------------- 2.6/6.1 MB 5.6 MB/s eta 0:00:01\n",
      "   ------------------------- -------------- 3.9/6.1 MB 5.7 MB/s eta 0:00:01\n",
      "   -------------------------------- ------- 5.0/6.1 MB 5.8 MB/s eta 0:00:01\n",
      "   ---------------------------------------- 6.1/6.1 MB 5.6 MB/s  0:00:01\n",
      "Downloading distlib-0.4.0-py2.py3-none-any.whl (469 kB)\n",
      "Downloading filelock-3.18.0-py3-none-any.whl (16 kB)\n",
      "Installing collected packages: distlib, nodeenv, identify, filelock, cfgv, virtualenv, pre-commit\n",
      "\n",
      "   ---------------------------------------- 0/7 [distlib]\n",
      "   ---------------------------------------- 0/7 [distlib]\n",
      "   ---------------------------------------- 0/7 [distlib]\n",
      "   ----- ---------------------------------- 1/7 [nodeenv]\n",
      "   ----------- ---------------------------- 2/7 [identify]\n",
      "   ----------- ---------------------------- 2/7 [identify]\n",
      "   ----------------- ---------------------- 3/7 [filelock]\n",
      "   ---------------------- ----------------- 4/7 [cfgv]\n",
      "   ---------------------------- ----------- 5/7 [virtualenv]\n",
      "   ---------------------------- ----------- 5/7 [virtualenv]\n",
      "   ---------------------------- ----------- 5/7 [virtualenv]\n",
      "   ---------------------------- ----------- 5/7 [virtualenv]\n",
      "   ---------------------------- ----------- 5/7 [virtualenv]\n",
      "   ---------------------------- ----------- 5/7 [virtualenv]\n",
      "   ---------------------------- ----------- 5/7 [virtualenv]\n",
      "   ---------------------------- ----------- 5/7 [virtualenv]\n",
      "   ---------------------------- ----------- 5/7 [virtualenv]\n",
      "   ---------------------------- ----------- 5/7 [virtualenv]\n",
      "   ---------------------------- ----------- 5/7 [virtualenv]\n",
      "   ---------------------------- ----------- 5/7 [virtualenv]\n",
      "   ---------------------------- ----------- 5/7 [virtualenv]\n",
      "   ---------------------------- ----------- 5/7 [virtualenv]\n",
      "   ---------------------------- ----------- 5/7 [virtualenv]\n",
      "   ---------------------------------- ----- 6/7 [pre-commit]\n",
      "   ---------------------------------- ----- 6/7 [pre-commit]\n",
      "   ---------------------------------- ----- 6/7 [pre-commit]\n",
      "   ---------------------------------- ----- 6/7 [pre-commit]\n",
      "   ---------------------------------- ----- 6/7 [pre-commit]\n",
      "   ---------------------------------- ----- 6/7 [pre-commit]\n",
      "   ---------------------------------- ----- 6/7 [pre-commit]\n",
      "   ---------------------------------- ----- 6/7 [pre-commit]\n",
      "   ---------------------------------- ----- 6/7 [pre-commit]\n",
      "   ---------------------------------- ----- 6/7 [pre-commit]\n",
      "   ---------------------------------- ----- 6/7 [pre-commit]\n",
      "   ---------------------------------------- 7/7 [pre-commit]\n",
      "\n",
      "Successfully installed cfgv-3.4.0 distlib-0.4.0 filelock-3.18.0 identify-2.6.12 nodeenv-1.9.1 pre-commit-4.2.0 virtualenv-20.33.1\n"
     ]
    }
   ],
   "source": [
    "!pip install pre-commit\n"
   ]
  },
  {
   "cell_type": "code",
   "execution_count": 37,
   "id": "4824cfb1-619c-45a5-ab17-68555e523320",
   "metadata": {},
   "outputs": [
    {
     "name": "stdout",
     "output_type": "stream",
     "text": [
      ".pre-commit-config.yaml created!\n"
     ]
    }
   ],
   "source": [
    "pre_commit_config = \"\"\"\n",
    "repos:\n",
    "- repo: https://github.com/psf/black\n",
    "  rev: 23.7.0\n",
    "  hooks:\n",
    "  - id: black\n",
    "- repo: https://github.com/PyCQA/isort\n",
    "  rev: 5.12.0\n",
    "  hooks:\n",
    "  - id: isort\n",
    "\"\"\"\n",
    "\n",
    "with open(\".pre-commit-config.yaml\", \"w\") as f:\n",
    "    f.write(pre_commit_config) #The file tells pre-commit which tools to run before each commit — here, it will run Black and isort\n",
    "\n",
    "print(\".pre-commit-config.yaml created!\")\n"
   ]
  },
  {
   "cell_type": "code",
   "execution_count": 42,
   "id": "6aba73ad-6b5d-4761-84ac-1c338c7650a9",
   "metadata": {},
   "outputs": [
    {
     "name": "stdout",
     "output_type": "stream",
     "text": [
      "pre-commit installed at .git\\hooks\\pre-commit\n"
     ]
    }
   ],
   "source": [
    "!pre-commit install\n"
   ]
  },
  {
   "cell_type": "markdown",
   "id": "3f5ef533-4f29-4a38-b92f-a1059f5729ec",
   "metadata": {},
   "source": [
    "# 💡 Why use it?\n",
    "- Automated code quality checks (PEP8, Black, isort, Flake8, ESLint, etc.)\n",
    "\n",
    "- Prevents committing broken or unformatted code\n",
    "- Enforces team-wide consistency when everyone uses the same hooks\n"
   ]
  },
  {
   "cell_type": "code",
   "execution_count": 41,
   "id": "784631c2-9331-4d61-b9fb-bf9f6c2d93a3",
   "metadata": {},
   "outputs": [
    {
     "name": "stdout",
     "output_type": "stream",
     "text": [
      "black................................................(no files to check)Skipped\n",
      "isort................................................(no files to check)Skipped\n"
     ]
    }
   ],
   "source": [
    "!pre-commit run --all-files"
   ]
  },
  {
   "cell_type": "markdown",
   "id": "5f2e17c4-52c2-4aa3-bf63-6ed1df9a67a7",
   "metadata": {},
   "source": [
    "# Python Internals (Theory)"
   ]
  },
  {
   "cell_type": "markdown",
   "id": "89440587-00d2-4c6d-9708-6041397a17f3",
   "metadata": {},
   "source": [
    "# Bytecode and the CPython interpreter\n",
    "### What is Bytecode?\n",
    "\n",
    "- Intermediate representation of your Python code.\n",
    "- Not machine code, but lower-level than Python source code.\n",
    "- Generated after your `.py` file is compiled by Python.\n",
    "- Stored as `.pyc` files in `__pycache__/`.\n",
    "- Runs on the **CPython Virtual Machine (PVM)**.\n",
    "\n",
    "###  CPython Architecture\n",
    "\n",
    "CPython can be defined as both an interpreter and a compiler as it compiles Python code into bytecode before interpreting it. It has a foreign function interface with several languages, including C, in which one must explicitly write bindings in a language other than Python.\n",
    "\n",
    "- CPython = C-based reference implementation of Python.\n",
    "- It interprets bytecode via a stack-based virtual machine.\n",
    "- Steps:\n",
    "    1. Python source → Tokenized by Lexer.\n",
    "    2. Parsed into AST (Abstract Syntax Tree).\n",
    "    3. Compiled into Bytecode.\n",
    "    4. Bytecode executed line-by-line by the interpreter loop.\n",
    "\n",
    "##  Use Cases:\n",
    "\n",
    "- Understanding bytecode helps in performance tuning.\n",
    "- Tools like dis let you inspect bytecode (e.g. `dis.dis(my_func)`).\n",
    "\n",
    "## ✅ Advantages:\n",
    "\n",
    "- Cross-platform: Bytecode is platform-independent.\n",
    "- Fast startup: Quick compilation compared to full native compilers.\n",
    "- Debuggable & readable via dis.\n",
    "\n",
    "## ❌ Disadvantages:\n",
    "\n",
    "- **Interpreted = Slower** than compiled languages.\n",
    "- Bytecode still needs a runtime (PVM), can't run natively.\n",
    "\n",
    "## **Key aspects of CPython bytecode and interpreter:**\n",
    "\n",
    "- **Portability**: CPython bytecode is platform-independent and can run on any system with a compatible interpreter.\n",
    "- **Stack-based Execution**: It uses a stack machine model where operations are done by pushing/popping values on a stack.\n",
    "- **Performance Optimization**: Bytecode is cached in `.pyc` files, and CPython applies optimizations like branch prediction and special instructions.\n",
    "- **Introspection**: Modules like `dis` let you inspect bytecode for debugging and learning how Python executes code."
   ]
  },
  {
   "cell_type": "code",
   "execution_count": 1,
   "id": "1b220c34-8562-4a11-a3ca-f833a179dc3d",
   "metadata": {},
   "outputs": [
    {
     "name": "stdout",
     "output_type": "stream",
     "text": [
      "  3           0 RESUME                   0\n",
      "\n",
      "  4           2 LOAD_FAST                0 (a)\n",
      "              4 LOAD_FAST                1 (b)\n",
      "              6 BINARY_OP                0 (+)\n",
      "             10 RETURN_VALUE\n"
     ]
    }
   ],
   "source": [
    "import dis\n",
    "\n",
    "def add(a, b):\n",
    "    return a + b\n",
    "\n",
    "dis.dis(add)"
   ]
  },
  {
   "cell_type": "markdown",
   "id": "b84f5384-11a1-4edf-bb66-25302954da47",
   "metadata": {},
   "source": [
    "# **GIL (Global Interpreter Lock)**\n",
    "\n",
    "Global Interpreter Lock (GIL) is a type of process lock which is used by python whenever it deals with processes. Generally, Python only uses only one thread to execute the set of written statements. This means that in python only one thread will be executed at a time.  It ensures that only one thread executes Python bytecode at a time, preventing concurrent modifications of reference counts and other internal data structures. By enforcing this lock, the GIL simplifies memory management and guarantees thread safety within the interpreter.\n",
    "\n",
    "##  What is GIL?\n",
    "\n",
    "- A mutex that protects access to Python objects.\n",
    "- Only one thread executes Python bytecode at a time per process.\n",
    "- Necessary because CPython’s memory management isn't thread-safe.\n",
    "\n",
    "##  Why was GIL introduced?\n",
    "\n",
    "- Simplicity of implementation.\n",
    "- Avoids race conditions and keeps object reference counting safe.\n",
    "\n",
    "##  When is GIL a Problem?\n",
    "\n",
    "- In CPU-bound multithreaded programs.\n",
    "- Threads waiting for GIL can’t do work in parallel.\n",
    "- Wastes multi-core CPU power.\n",
    "\n",
    "## ✅ Advantages:\n",
    "\n",
    "- Simplifies interpreter design.\n",
    "- Prevents hard-to-debug race conditions.\n",
    "- Great for I/O-bound tasks (e.g., networking, file I/O).\n",
    "\n",
    "## ❌ Disadvantages:\n",
    "\n",
    "- Poor CPU-bound parallelism.\n",
    "- Threads aren’t truly concurrent for CPU-heavy tasks.\n",
    "- Bottleneck for scientific computing, data science, ML, etc.\n",
    "\n",
    "## 🔧 Workarounds:\n",
    "\n",
    "- Use multiprocessing instead of multithreading.\n",
    "- Offload heavy computations to C extensions or Cython.\n",
    "- Switch to PyPy or Jython (don’t have a GIL)."
   ]
  },
  {
   "cell_type": "code",
   "execution_count": 2,
   "id": "6b9dbfb4-cafd-4b43-a761-50c7f6663837",
   "metadata": {},
   "outputs": [
    {
     "name": "stdout",
     "output_type": "stream",
     "text": [
      "Time taken with threads: 1.35 seconds\n"
     ]
    }
   ],
   "source": [
    "import threading\n",
    "import time\n",
    "\n",
    "def cpu_bound_task():\n",
    "    x = 0\n",
    "    for _ in range(10**7):\n",
    "        x += 1\n",
    "\n",
    "start = time.time()\n",
    "\n",
    "threads = []\n",
    "for _ in range(2):  # Two threads\n",
    "    t = threading.Thread(target=cpu_bound_task)\n",
    "    t.start()\n",
    "    threads.append(t)\n",
    "\n",
    "for t in threads:\n",
    "    t.join()\n",
    "\n",
    "end = time.time()\n",
    "print(f\"Time taken with threads: {end - start:.2f} seconds\")\n"
   ]
  },
  {
   "cell_type": "code",
   "execution_count": 3,
   "id": "fd9ddd71-65ef-43a2-b8e2-540aba1b0e67",
   "metadata": {},
   "outputs": [],
   "source": [
    "gil_demo = \"\"\"from multiprocessing import Process\n",
    "import time\n",
    "\n",
    "def cpu_bound_task():\n",
    "    x = 0\n",
    "    for _ in range(10**7):\n",
    "        x += 1\n",
    "\n",
    "if __name__ == \"__main__\":\n",
    "    start = time.time()\n",
    "\n",
    "    processes = []\n",
    "    for _ in range(2):\n",
    "        p = Process(target=cpu_bound_task)\n",
    "        p.start()\n",
    "        processes.append(p)\n",
    "\n",
    "    for p in processes:\n",
    "        p.join()\n",
    "\n",
    "    end = time.time()\n",
    "    print(f\"Time taken with processes: {end - start:.2f} seconds\")\"\"\"\n",
    "\n",
    "with open(\"gil_demo.py\", \"w\") as g:\n",
    "    g.write(gil_demo)"
   ]
  },
  {
   "cell_type": "code",
   "execution_count": 4,
   "id": "719a0402-8179-4bbf-9fb4-08ead77cf5d5",
   "metadata": {},
   "outputs": [
    {
     "name": "stdout",
     "output_type": "stream",
     "text": [
      "Time taken with processes: 1.02 seconds\n"
     ]
    }
   ],
   "source": [
    "%run gil_demo.py"
   ]
  },
  {
   "cell_type": "code",
   "execution_count": 5,
   "id": "4bbbabac-e496-4d8d-a239-e7c11e48e6ef",
   "metadata": {},
   "outputs": [
    {
     "name": "stdout",
     "output_type": "stream",
     "text": [
      "Time taken with processes: 0.29 seconds\n"
     ]
    }
   ],
   "source": [
    "#error due to execution in jupyter notebook\n",
    "from multiprocessing import Process\n",
    "import time\n",
    "\n",
    "def cpu_bound_task():\n",
    "    x = 0\n",
    "    for _ in range(10**7):\n",
    "        x += 1\n",
    "\n",
    "if __name__ == \"__main__\":\n",
    "    start = time.time()\n",
    "\n",
    "    processes = []\n",
    "    for _ in range(2):\n",
    "        p = Process(target=cpu_bound_task)\n",
    "        p.start()\n",
    "        processes.append(p)\n",
    "\n",
    "    for p in processes:\n",
    "        p.join()\n",
    "\n",
    "    end = time.time()\n",
    "    print(f\"Time taken with processes: {end - start:.2f} seconds\")\n",
    "\n",
    "\n"
   ]
  },
  {
   "cell_type": "markdown",
   "id": "2911ef46-747f-45f3-935f-af85ef0100d2",
   "metadata": {},
   "source": [
    "# Memory model and object lifecycle"
   ]
  },
  {
   "cell_type": "markdown",
   "id": "ec958891-f18d-4fe1-a590-972c96848bbf",
   "metadata": {},
   "source": [
    "## **Python Memory Model**\n",
    "\n",
    "## High-Level Overview:\n",
    "\n",
    "- Python abstracts memory management from the developer.\n",
    "- Uses **automatic memory management** and **reference counting**.\n",
    "- Every object is a **PyObject** structure in C.\n",
    "\n",
    "## Key Components:\n",
    "\n",
    "1. **Heap Memory**:\n",
    "    - Python objects live here.\n",
    "    - Managed by Python’s memory manager, not the OS directly.\n",
    "2. **Reference Counting**:\n",
    "    - Each object keeps a counter of references pointing to it.\n",
    "    - When refcount = 0 → object is deleted.\n",
    "3. **Garbage Collection (GC)**:\n",
    "    - Handles cyclic references (where refcount ≠ 0 but unreachable).\n",
    "    - Python uses a generational GC:\n",
    "        - Generation 0: new objects.\n",
    "        - Generation 1 & 2: promoted if they survive collection.\n",
    "        - Objects in Gen 2 are collected less often (optimization).\n",
    "\n",
    "## ✅ Advantages:\n",
    "\n",
    "- Automatic: no need for manual `malloc`/`free`.\n",
    "- GC improves over pure ref-counting (which can’t handle cycles).\n",
    "\n",
    "## ❌ Disadvantages:\n",
    "\n",
    "- Ref counting overhead adds performance cost.\n",
    "- GC pauses can lead to unpredictable latency.\n",
    "- Memory fragmentation is possible.\n",
    "\n"
   ]
  },
  {
   "cell_type": "markdown",
   "id": "fa999e5e-52bc-4da5-94bf-de67ead4ce28",
   "metadata": {},
   "source": [
    "#  **Object Lifecycle**\n",
    "\n",
    "###  Phases of an Object:\n",
    "\n",
    "1. **Creation**:\n",
    "    - Happens via constructors like `__init__`.\n",
    "    - Allocated from the heap.\n",
    "2. **Reference Counting**:\n",
    "    - Maintains how many names or objects refer to it.\n",
    "3. **Garbage Collection**:\n",
    "    - If refcount hits zero → `__del__()` is called → memory is freed.\n",
    "    - If not, but unreachable (cyclic refs) → GC collects it.\n",
    "4. **Destruction**:\n",
    "    - Final cleanup (e.g., closing files, releasing resources).\n",
    "    - `__del__` method used but not always reliable.\n",
    "    - Use context managers (`with`) for safety.\n",
    "\n",
    "###  When is `__del__()` called?\n",
    "\n",
    "- When an object is garbage collected.\n",
    "- Can be delayed or skipped if in a reference cycle.\n",
    "\n",
    "###  Memory Management Best Practices:\n",
    "\n",
    "- Avoid creating circular references manually.\n",
    "- Use `with` blocks for resources.\n",
    "- Be careful with global/static references that prevent collection.\n",
    "\n",
    "### **Use:**\n",
    "- During this phase, the object exists in memory and can be manipulated by accessing its attributes and calling its methods.\n",
    "- Python manages memory for objects using a system primarily based on reference counting. Each object maintains an internal count of how many references point to it. When a new reference is created (e.g., assigning the object to another variable), the reference count increases. When a reference is removed (e.g., a variable goes out of scope, or is reassigned), the count decreases."
   ]
  },
  {
   "cell_type": "code",
   "execution_count": null,
   "id": "4529f6cb-749c-498b-849f-fa8cccec0291",
   "metadata": {},
   "outputs": [],
   "source": []
  }
 ],
 "metadata": {
  "kernelspec": {
   "display_name": "Python 3 (ipykernel)",
   "language": "python",
   "name": "python3"
  },
  "language_info": {
   "codemirror_mode": {
    "name": "ipython",
    "version": 3
   },
   "file_extension": ".py",
   "mimetype": "text/x-python",
   "name": "python",
   "nbconvert_exporter": "python",
   "pygments_lexer": "ipython3",
   "version": "3.12.2"
  }
 },
 "nbformat": 4,
 "nbformat_minor": 5
}
